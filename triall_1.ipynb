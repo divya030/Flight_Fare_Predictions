{
 "cells": [
  {
   "cell_type": "code",
   "execution_count": 32,
   "metadata": {},
   "outputs": [],
   "source": [
    "import os\n",
    "import sys\n",
    "from Flight_Fare.exception import CustomException\n",
    "from Flight_Fare.logger import logging\n",
    "from Flight_Fare.config.configuration import Configuration\n",
    "from Flight_Fare.entity.artifact_entity import *\n",
    "from Flight_Fare.entity.config_entity import *\n",
    "from Flight_Fare.constant import *\n",
    "from Flight_Fare.util.util import *\n",
    "from sklearn.impute import SimpleImputer\n",
    "\n",
    "from sklearn.base import BaseEstimator,TransformerMixin\n",
    "from sklearn.compose import ColumnTransformer\n",
    "from sklearn.preprocessing import StandardScaler,OneHotEncoder,LabelEncoder\n",
    "from sklearn.pipeline import Pipeline\n",
    "from sklearn.compose import ColumnTransformer\n",
    "import pandas as pd "
   ]
  },
  {
   "cell_type": "code",
   "execution_count": 133,
   "metadata": {},
   "outputs": [],
   "source": [
    "train_df = pd.read_csv(r\"Flight_Fare\\artifact\\data_ingestion\\2023-07-25-01-27-30\\ingested_data\\train\\Flight_Fare_Prediction.csv\")\n",
    "test_df = pd.read_csv(r\"Flight_Fare\\artifact\\data_ingestion\\2023-07-25-01-27-30\\ingested_data\\test\\Flight_Fare_Prediction.csv\")"
   ]
  },
  {
   "cell_type": "code",
   "execution_count": 158,
   "metadata": {},
   "outputs": [],
   "source": [
    "class FeatureGenerator(BaseEstimator,TransformerMixin):\n",
    "\n",
    "    def __init__(self,columns):\n",
    "        self.columns = columns\n",
    "\n",
    "    def fit(self,X,y=None):\n",
    "        return X\n",
    "\n",
    "    def transform(self,X,y=None):\n",
    "\n",
    "        if self.columns == 'Date_of_Journey':\n",
    "            try:\n",
    "                X['journey_day'] = X['Date_of_Journey'].str.split('/').str[0].astype(int)\n",
    "                X['journey_month'] = X['Date_of_Journey'].str.split('/').str[1].str[1].astype(int)\n",
    "\n",
    "                # Since we have converted Date_of_Journey column into integers, Now we can drop as it is of no use.\n",
    "                X.drop('Date_of_Journey',inplace = True,axis = 1)\n",
    "            except Exception as e:\n",
    "                raise CustomException(sys,e)\n",
    "            \n",
    "        elif self.columns == 'Dep_Time':\n",
    "            try:\n",
    "                X['Dep_hr'] = X['Dep_Time'].str.split(':').str[0].astype(int)\n",
    "                X['Dep_min'] = X['Dep_Time'].str.split(':').str[1].astype(int)\n",
    "\n",
    "                # Since we have converted Dep_Time column into integers, Now we can drop as it is of no use.\n",
    "                X.drop('Dep_Time',inplace = True,axis = 1)\n",
    "\n",
    "            except Exception as e:\n",
    "                raise CustomException(sys,e)\n",
    "            \n",
    "\n",
    "        elif self.columns == 'Arrival_Time':\n",
    "            try:\n",
    "                X['Arrival_hr'] = X['Arrival_Time'].str.split(\" \").str[0].str.split(':').str[0].astype(int)\n",
    "                X['Arrival_min'] = X['Arrival_Time'].str.split(\" \").str[0].str.split(':').str[1].astype(int)\n",
    "\n",
    "\n",
    "                # Since we have converted Dep_Time column into integers, Now we can drop as it is of no use.\n",
    "                X.drop('Arrival_Time',inplace = True,axis = 1)\n",
    "\n",
    "            except Exception as e:\n",
    "                raise CustomException(sys,e)\n",
    "            \n",
    "\n",
    "        elif self.columns == 'Duration':\n",
    "            X['Duration_hr'] = 0\n",
    "            X['Duration_min'] = 0\n",
    "        \n",
    "            try:\n",
    "\n",
    "                duration = list(X['Duration'])\n",
    "\n",
    "                for i in range(len(duration)):\n",
    "                    if 'h' not in duration[i]:\n",
    "                        duration[i] = '0h ' + duration[i]\n",
    "                        \n",
    "                    if 'm' not in duration[i]:\n",
    "                        duration[i] = duration[i] + ' 0m'\n",
    "                        \n",
    "                for i in range(len(duration)):\n",
    "                    hr = int(duration[i].split(\"h\")[0])\n",
    "                    min_ = int(duration[i].split(\" \")[1].split(\"m\")[0])\n",
    "                    X['Duration_hr'][i] = hr\n",
    "                    X['Duration_min'][i] = min_\n",
    "                    \n",
    "                    \n",
    "                # Since we have converted Duration column into integers, Now we can drop as it is of no use.\n",
    "\n",
    "                X.drop('Duration',inplace = True,axis = 1)\n",
    "\n",
    "\n",
    "                # Since there are some nan values represting 0 mins , we are replacing those values with 0 \n",
    "\n",
    "                X['Duration_min'].fillna(0,inplace = True)\n",
    "\n",
    "            except Exception as e:\n",
    "                raise CustomException(sys,e)\n",
    "            \n",
    "        return X"
   ]
  },
  {
   "cell_type": "code",
   "execution_count": 159,
   "metadata": {},
   "outputs": [],
   "source": [
    "class DataTransformation:\n",
    "    def __init__(self,data_transformation_config: DataTransformationConfig,\n",
    "                 data_ingestion_artifact: DataIngestionArtifact,\n",
    "                 data_validation_artifact: DataValidationArtifact):\n",
    "        \n",
    "        try:\n",
    "            logging.info(f\"{'>>' * 30}Data Transformation log started.{'<<' * 30} \")\n",
    "            self.data_transformation_config= data_transformation_config\n",
    "            self.data_ingestion_artifact = data_ingestion_artifact\n",
    "            self.data_validation_artifact = data_validation_artifact\n",
    "\n",
    "        except Exception as e:\n",
    "            raise CustomException(e,sys) from e\n",
    "        \n",
    "\n",
    "    def get_data_transformer_object(self) -> ColumnTransformer:\n",
    "        try:\n",
    "            num_col = ['Date_of_Journey','Dep_Time','Arrival_Time','Duration']\n",
    "\n",
    "            num_pipeline = Pipeline(\n",
    "                steps =[\n",
    "                    (\"Featur_genrator\",FeatureGenerator(num_col)),\n",
    "                    (\"scalar\",StandardScaler())\n",
    "                ]\n",
    "            )\n",
    "\n",
    "            preprocesser = ColumnTransformer(\n",
    "                [\n",
    "                (\"num_pipeline\",num_pipeline,num_col)\n",
    "                ]\n",
    "            )\n",
    "\n",
    "            return preprocesser\n",
    "        \n",
    "        except Exception as e:\n",
    "            raise CustomException(e,sys) from e"
   ]
  },
  {
   "cell_type": "code",
   "execution_count": 160,
   "metadata": {},
   "outputs": [
    {
     "ename": "SpecificationError",
     "evalue": "nested renamer is not supported",
     "output_type": "error",
     "traceback": [
      "\u001b[1;31m---------------------------------------------------------------------------\u001b[0m",
      "\u001b[1;31mSpecificationError\u001b[0m                        Traceback (most recent call last)",
      "Cell \u001b[1;32mIn[160], line 6\u001b[0m\n\u001b[0;32m      1\u001b[0m trans \u001b[39m=\u001b[39m DataTransformation(data_transformation_config \u001b[39m=\u001b[39m  DataTransformationConfig,\n\u001b[0;32m      2\u001b[0m                              data_ingestion_artifact \u001b[39m=\u001b[39m  DataIngestionArtifact,\n\u001b[0;32m      3\u001b[0m                              data_validation_artifact \u001b[39m=\u001b[39m DataValidationArtifact)\n\u001b[0;32m      4\u001b[0m preprocessing_obj \u001b[39m=\u001b[39m trans\u001b[39m.\u001b[39mget_data_transformer_object()\n\u001b[1;32m----> 6\u001b[0m preprocessing_obj\u001b[39m.\u001b[39;49mfit_transform(X)\n",
      "File \u001b[1;32mf:\\Ineuron DS\\Internship\\FFP\\Flight_Fare_Predictions\\venv\\lib\\site-packages\\sklearn\\utils\\_set_output.py:140\u001b[0m, in \u001b[0;36m_wrap_method_output.<locals>.wrapped\u001b[1;34m(self, X, *args, **kwargs)\u001b[0m\n\u001b[0;32m    138\u001b[0m \u001b[39m@wraps\u001b[39m(f)\n\u001b[0;32m    139\u001b[0m \u001b[39mdef\u001b[39;00m \u001b[39mwrapped\u001b[39m(\u001b[39mself\u001b[39m, X, \u001b[39m*\u001b[39margs, \u001b[39m*\u001b[39m\u001b[39m*\u001b[39mkwargs):\n\u001b[1;32m--> 140\u001b[0m     data_to_wrap \u001b[39m=\u001b[39m f(\u001b[39mself\u001b[39m, X, \u001b[39m*\u001b[39margs, \u001b[39m*\u001b[39m\u001b[39m*\u001b[39mkwargs)\n\u001b[0;32m    141\u001b[0m     \u001b[39mif\u001b[39;00m \u001b[39misinstance\u001b[39m(data_to_wrap, \u001b[39mtuple\u001b[39m):\n\u001b[0;32m    142\u001b[0m         \u001b[39m# only wrap the first output for cross decomposition\u001b[39;00m\n\u001b[0;32m    143\u001b[0m         \u001b[39mreturn\u001b[39;00m (\n\u001b[0;32m    144\u001b[0m             _wrap_data_with_container(method, data_to_wrap[\u001b[39m0\u001b[39m], X, \u001b[39mself\u001b[39m),\n\u001b[0;32m    145\u001b[0m             \u001b[39m*\u001b[39mdata_to_wrap[\u001b[39m1\u001b[39m:],\n\u001b[0;32m    146\u001b[0m         )\n",
      "File \u001b[1;32mf:\\Ineuron DS\\Internship\\FFP\\Flight_Fare_Predictions\\venv\\lib\\site-packages\\sklearn\\compose\\_column_transformer.py:727\u001b[0m, in \u001b[0;36mColumnTransformer.fit_transform\u001b[1;34m(self, X, y)\u001b[0m\n\u001b[0;32m    724\u001b[0m \u001b[39mself\u001b[39m\u001b[39m.\u001b[39m_validate_column_callables(X)\n\u001b[0;32m    725\u001b[0m \u001b[39mself\u001b[39m\u001b[39m.\u001b[39m_validate_remainder(X)\n\u001b[1;32m--> 727\u001b[0m result \u001b[39m=\u001b[39m \u001b[39mself\u001b[39;49m\u001b[39m.\u001b[39;49m_fit_transform(X, y, _fit_transform_one)\n\u001b[0;32m    729\u001b[0m \u001b[39mif\u001b[39;00m \u001b[39mnot\u001b[39;00m result:\n\u001b[0;32m    730\u001b[0m     \u001b[39mself\u001b[39m\u001b[39m.\u001b[39m_update_fitted_transformers([])\n",
      "File \u001b[1;32mf:\\Ineuron DS\\Internship\\FFP\\Flight_Fare_Predictions\\venv\\lib\\site-packages\\sklearn\\compose\\_column_transformer.py:658\u001b[0m, in \u001b[0;36mColumnTransformer._fit_transform\u001b[1;34m(self, X, y, func, fitted, column_as_strings)\u001b[0m\n\u001b[0;32m    652\u001b[0m transformers \u001b[39m=\u001b[39m \u001b[39mlist\u001b[39m(\n\u001b[0;32m    653\u001b[0m     \u001b[39mself\u001b[39m\u001b[39m.\u001b[39m_iter(\n\u001b[0;32m    654\u001b[0m         fitted\u001b[39m=\u001b[39mfitted, replace_strings\u001b[39m=\u001b[39m\u001b[39mTrue\u001b[39;00m, column_as_strings\u001b[39m=\u001b[39mcolumn_as_strings\n\u001b[0;32m    655\u001b[0m     )\n\u001b[0;32m    656\u001b[0m )\n\u001b[0;32m    657\u001b[0m \u001b[39mtry\u001b[39;00m:\n\u001b[1;32m--> 658\u001b[0m     \u001b[39mreturn\u001b[39;00m Parallel(n_jobs\u001b[39m=\u001b[39;49m\u001b[39mself\u001b[39;49m\u001b[39m.\u001b[39;49mn_jobs)(\n\u001b[0;32m    659\u001b[0m         delayed(func)(\n\u001b[0;32m    660\u001b[0m             transformer\u001b[39m=\u001b[39;49mclone(trans) \u001b[39mif\u001b[39;49;00m \u001b[39mnot\u001b[39;49;00m fitted \u001b[39melse\u001b[39;49;00m trans,\n\u001b[0;32m    661\u001b[0m             X\u001b[39m=\u001b[39;49m_safe_indexing(X, column, axis\u001b[39m=\u001b[39;49m\u001b[39m1\u001b[39;49m),\n\u001b[0;32m    662\u001b[0m             y\u001b[39m=\u001b[39;49my,\n\u001b[0;32m    663\u001b[0m             weight\u001b[39m=\u001b[39;49mweight,\n\u001b[0;32m    664\u001b[0m             message_clsname\u001b[39m=\u001b[39;49m\u001b[39m\"\u001b[39;49m\u001b[39mColumnTransformer\u001b[39;49m\u001b[39m\"\u001b[39;49m,\n\u001b[0;32m    665\u001b[0m             message\u001b[39m=\u001b[39;49m\u001b[39mself\u001b[39;49m\u001b[39m.\u001b[39;49m_log_message(name, idx, \u001b[39mlen\u001b[39;49m(transformers)),\n\u001b[0;32m    666\u001b[0m         )\n\u001b[0;32m    667\u001b[0m         \u001b[39mfor\u001b[39;49;00m idx, (name, trans, column, weight) \u001b[39min\u001b[39;49;00m \u001b[39menumerate\u001b[39;49m(transformers, \u001b[39m1\u001b[39;49m)\n\u001b[0;32m    668\u001b[0m     )\n\u001b[0;32m    669\u001b[0m \u001b[39mexcept\u001b[39;00m \u001b[39mValueError\u001b[39;00m \u001b[39mas\u001b[39;00m e:\n\u001b[0;32m    670\u001b[0m     \u001b[39mif\u001b[39;00m \u001b[39m\"\u001b[39m\u001b[39mExpected 2D array, got 1D array instead\u001b[39m\u001b[39m\"\u001b[39m \u001b[39min\u001b[39;00m \u001b[39mstr\u001b[39m(e):\n",
      "File \u001b[1;32mf:\\Ineuron DS\\Internship\\FFP\\Flight_Fare_Predictions\\venv\\lib\\site-packages\\sklearn\\utils\\parallel.py:63\u001b[0m, in \u001b[0;36mParallel.__call__\u001b[1;34m(self, iterable)\u001b[0m\n\u001b[0;32m     58\u001b[0m config \u001b[39m=\u001b[39m get_config()\n\u001b[0;32m     59\u001b[0m iterable_with_config \u001b[39m=\u001b[39m (\n\u001b[0;32m     60\u001b[0m     (_with_config(delayed_func, config), args, kwargs)\n\u001b[0;32m     61\u001b[0m     \u001b[39mfor\u001b[39;00m delayed_func, args, kwargs \u001b[39min\u001b[39;00m iterable\n\u001b[0;32m     62\u001b[0m )\n\u001b[1;32m---> 63\u001b[0m \u001b[39mreturn\u001b[39;00m \u001b[39msuper\u001b[39;49m()\u001b[39m.\u001b[39;49m\u001b[39m__call__\u001b[39;49m(iterable_with_config)\n",
      "File \u001b[1;32mf:\\Ineuron DS\\Internship\\FFP\\Flight_Fare_Predictions\\venv\\lib\\site-packages\\joblib\\parallel.py:1085\u001b[0m, in \u001b[0;36mParallel.__call__\u001b[1;34m(self, iterable)\u001b[0m\n\u001b[0;32m   1076\u001b[0m \u001b[39mtry\u001b[39;00m:\n\u001b[0;32m   1077\u001b[0m     \u001b[39m# Only set self._iterating to True if at least a batch\u001b[39;00m\n\u001b[0;32m   1078\u001b[0m     \u001b[39m# was dispatched. In particular this covers the edge\u001b[39;00m\n\u001b[1;32m   (...)\u001b[0m\n\u001b[0;32m   1082\u001b[0m     \u001b[39m# was very quick and its callback already dispatched all the\u001b[39;00m\n\u001b[0;32m   1083\u001b[0m     \u001b[39m# remaining jobs.\u001b[39;00m\n\u001b[0;32m   1084\u001b[0m     \u001b[39mself\u001b[39m\u001b[39m.\u001b[39m_iterating \u001b[39m=\u001b[39m \u001b[39mFalse\u001b[39;00m\n\u001b[1;32m-> 1085\u001b[0m     \u001b[39mif\u001b[39;00m \u001b[39mself\u001b[39;49m\u001b[39m.\u001b[39;49mdispatch_one_batch(iterator):\n\u001b[0;32m   1086\u001b[0m         \u001b[39mself\u001b[39m\u001b[39m.\u001b[39m_iterating \u001b[39m=\u001b[39m \u001b[39mself\u001b[39m\u001b[39m.\u001b[39m_original_iterator \u001b[39mis\u001b[39;00m \u001b[39mnot\u001b[39;00m \u001b[39mNone\u001b[39;00m\n\u001b[0;32m   1088\u001b[0m     \u001b[39mwhile\u001b[39;00m \u001b[39mself\u001b[39m\u001b[39m.\u001b[39mdispatch_one_batch(iterator):\n",
      "File \u001b[1;32mf:\\Ineuron DS\\Internship\\FFP\\Flight_Fare_Predictions\\venv\\lib\\site-packages\\joblib\\parallel.py:901\u001b[0m, in \u001b[0;36mParallel.dispatch_one_batch\u001b[1;34m(self, iterator)\u001b[0m\n\u001b[0;32m    899\u001b[0m     \u001b[39mreturn\u001b[39;00m \u001b[39mFalse\u001b[39;00m\n\u001b[0;32m    900\u001b[0m \u001b[39melse\u001b[39;00m:\n\u001b[1;32m--> 901\u001b[0m     \u001b[39mself\u001b[39;49m\u001b[39m.\u001b[39;49m_dispatch(tasks)\n\u001b[0;32m    902\u001b[0m     \u001b[39mreturn\u001b[39;00m \u001b[39mTrue\u001b[39;00m\n",
      "File \u001b[1;32mf:\\Ineuron DS\\Internship\\FFP\\Flight_Fare_Predictions\\venv\\lib\\site-packages\\joblib\\parallel.py:819\u001b[0m, in \u001b[0;36mParallel._dispatch\u001b[1;34m(self, batch)\u001b[0m\n\u001b[0;32m    817\u001b[0m \u001b[39mwith\u001b[39;00m \u001b[39mself\u001b[39m\u001b[39m.\u001b[39m_lock:\n\u001b[0;32m    818\u001b[0m     job_idx \u001b[39m=\u001b[39m \u001b[39mlen\u001b[39m(\u001b[39mself\u001b[39m\u001b[39m.\u001b[39m_jobs)\n\u001b[1;32m--> 819\u001b[0m     job \u001b[39m=\u001b[39m \u001b[39mself\u001b[39;49m\u001b[39m.\u001b[39;49m_backend\u001b[39m.\u001b[39;49mapply_async(batch, callback\u001b[39m=\u001b[39;49mcb)\n\u001b[0;32m    820\u001b[0m     \u001b[39m# A job can complete so quickly than its callback is\u001b[39;00m\n\u001b[0;32m    821\u001b[0m     \u001b[39m# called before we get here, causing self._jobs to\u001b[39;00m\n\u001b[0;32m    822\u001b[0m     \u001b[39m# grow. To ensure correct results ordering, .insert is\u001b[39;00m\n\u001b[0;32m    823\u001b[0m     \u001b[39m# used (rather than .append) in the following line\u001b[39;00m\n\u001b[0;32m    824\u001b[0m     \u001b[39mself\u001b[39m\u001b[39m.\u001b[39m_jobs\u001b[39m.\u001b[39minsert(job_idx, job)\n",
      "File \u001b[1;32mf:\\Ineuron DS\\Internship\\FFP\\Flight_Fare_Predictions\\venv\\lib\\site-packages\\joblib\\_parallel_backends.py:208\u001b[0m, in \u001b[0;36mSequentialBackend.apply_async\u001b[1;34m(self, func, callback)\u001b[0m\n\u001b[0;32m    206\u001b[0m \u001b[39mdef\u001b[39;00m \u001b[39mapply_async\u001b[39m(\u001b[39mself\u001b[39m, func, callback\u001b[39m=\u001b[39m\u001b[39mNone\u001b[39;00m):\n\u001b[0;32m    207\u001b[0m \u001b[39m    \u001b[39m\u001b[39m\"\"\"Schedule a func to be run\"\"\"\u001b[39;00m\n\u001b[1;32m--> 208\u001b[0m     result \u001b[39m=\u001b[39m ImmediateResult(func)\n\u001b[0;32m    209\u001b[0m     \u001b[39mif\u001b[39;00m callback:\n\u001b[0;32m    210\u001b[0m         callback(result)\n",
      "File \u001b[1;32mf:\\Ineuron DS\\Internship\\FFP\\Flight_Fare_Predictions\\venv\\lib\\site-packages\\joblib\\_parallel_backends.py:597\u001b[0m, in \u001b[0;36mImmediateResult.__init__\u001b[1;34m(self, batch)\u001b[0m\n\u001b[0;32m    594\u001b[0m \u001b[39mdef\u001b[39;00m \u001b[39m__init__\u001b[39m(\u001b[39mself\u001b[39m, batch):\n\u001b[0;32m    595\u001b[0m     \u001b[39m# Don't delay the application, to avoid keeping the input\u001b[39;00m\n\u001b[0;32m    596\u001b[0m     \u001b[39m# arguments in memory\u001b[39;00m\n\u001b[1;32m--> 597\u001b[0m     \u001b[39mself\u001b[39m\u001b[39m.\u001b[39mresults \u001b[39m=\u001b[39m batch()\n",
      "File \u001b[1;32mf:\\Ineuron DS\\Internship\\FFP\\Flight_Fare_Predictions\\venv\\lib\\site-packages\\joblib\\parallel.py:288\u001b[0m, in \u001b[0;36mBatchedCalls.__call__\u001b[1;34m(self)\u001b[0m\n\u001b[0;32m    284\u001b[0m \u001b[39mdef\u001b[39;00m \u001b[39m__call__\u001b[39m(\u001b[39mself\u001b[39m):\n\u001b[0;32m    285\u001b[0m     \u001b[39m# Set the default nested backend to self._backend but do not set the\u001b[39;00m\n\u001b[0;32m    286\u001b[0m     \u001b[39m# change the default number of processes to -1\u001b[39;00m\n\u001b[0;32m    287\u001b[0m     \u001b[39mwith\u001b[39;00m parallel_backend(\u001b[39mself\u001b[39m\u001b[39m.\u001b[39m_backend, n_jobs\u001b[39m=\u001b[39m\u001b[39mself\u001b[39m\u001b[39m.\u001b[39m_n_jobs):\n\u001b[1;32m--> 288\u001b[0m         \u001b[39mreturn\u001b[39;00m [func(\u001b[39m*\u001b[39margs, \u001b[39m*\u001b[39m\u001b[39m*\u001b[39mkwargs)\n\u001b[0;32m    289\u001b[0m                 \u001b[39mfor\u001b[39;00m func, args, kwargs \u001b[39min\u001b[39;00m \u001b[39mself\u001b[39m\u001b[39m.\u001b[39mitems]\n",
      "File \u001b[1;32mf:\\Ineuron DS\\Internship\\FFP\\Flight_Fare_Predictions\\venv\\lib\\site-packages\\joblib\\parallel.py:288\u001b[0m, in \u001b[0;36m<listcomp>\u001b[1;34m(.0)\u001b[0m\n\u001b[0;32m    284\u001b[0m \u001b[39mdef\u001b[39;00m \u001b[39m__call__\u001b[39m(\u001b[39mself\u001b[39m):\n\u001b[0;32m    285\u001b[0m     \u001b[39m# Set the default nested backend to self._backend but do not set the\u001b[39;00m\n\u001b[0;32m    286\u001b[0m     \u001b[39m# change the default number of processes to -1\u001b[39;00m\n\u001b[0;32m    287\u001b[0m     \u001b[39mwith\u001b[39;00m parallel_backend(\u001b[39mself\u001b[39m\u001b[39m.\u001b[39m_backend, n_jobs\u001b[39m=\u001b[39m\u001b[39mself\u001b[39m\u001b[39m.\u001b[39m_n_jobs):\n\u001b[1;32m--> 288\u001b[0m         \u001b[39mreturn\u001b[39;00m [func(\u001b[39m*\u001b[39margs, \u001b[39m*\u001b[39m\u001b[39m*\u001b[39mkwargs)\n\u001b[0;32m    289\u001b[0m                 \u001b[39mfor\u001b[39;00m func, args, kwargs \u001b[39min\u001b[39;00m \u001b[39mself\u001b[39m\u001b[39m.\u001b[39mitems]\n",
      "File \u001b[1;32mf:\\Ineuron DS\\Internship\\FFP\\Flight_Fare_Predictions\\venv\\lib\\site-packages\\sklearn\\utils\\parallel.py:123\u001b[0m, in \u001b[0;36m_FuncWrapper.__call__\u001b[1;34m(self, *args, **kwargs)\u001b[0m\n\u001b[0;32m    121\u001b[0m     config \u001b[39m=\u001b[39m {}\n\u001b[0;32m    122\u001b[0m \u001b[39mwith\u001b[39;00m config_context(\u001b[39m*\u001b[39m\u001b[39m*\u001b[39mconfig):\n\u001b[1;32m--> 123\u001b[0m     \u001b[39mreturn\u001b[39;00m \u001b[39mself\u001b[39m\u001b[39m.\u001b[39mfunction(\u001b[39m*\u001b[39margs, \u001b[39m*\u001b[39m\u001b[39m*\u001b[39mkwargs)\n",
      "File \u001b[1;32mf:\\Ineuron DS\\Internship\\FFP\\Flight_Fare_Predictions\\venv\\lib\\site-packages\\sklearn\\pipeline.py:893\u001b[0m, in \u001b[0;36m_fit_transform_one\u001b[1;34m(transformer, X, y, weight, message_clsname, message, **fit_params)\u001b[0m\n\u001b[0;32m    891\u001b[0m \u001b[39mwith\u001b[39;00m _print_elapsed_time(message_clsname, message):\n\u001b[0;32m    892\u001b[0m     \u001b[39mif\u001b[39;00m \u001b[39mhasattr\u001b[39m(transformer, \u001b[39m\"\u001b[39m\u001b[39mfit_transform\u001b[39m\u001b[39m\"\u001b[39m):\n\u001b[1;32m--> 893\u001b[0m         res \u001b[39m=\u001b[39m transformer\u001b[39m.\u001b[39mfit_transform(X, y, \u001b[39m*\u001b[39m\u001b[39m*\u001b[39mfit_params)\n\u001b[0;32m    894\u001b[0m     \u001b[39melse\u001b[39;00m:\n\u001b[0;32m    895\u001b[0m         res \u001b[39m=\u001b[39m transformer\u001b[39m.\u001b[39mfit(X, y, \u001b[39m*\u001b[39m\u001b[39m*\u001b[39mfit_params)\u001b[39m.\u001b[39mtransform(X)\n",
      "File \u001b[1;32mf:\\Ineuron DS\\Internship\\FFP\\Flight_Fare_Predictions\\venv\\lib\\site-packages\\sklearn\\pipeline.py:437\u001b[0m, in \u001b[0;36mPipeline.fit_transform\u001b[1;34m(self, X, y, **fit_params)\u001b[0m\n\u001b[0;32m    410\u001b[0m \u001b[39m\u001b[39m\u001b[39m\"\"\"Fit the model and transform with the final estimator.\u001b[39;00m\n\u001b[0;32m    411\u001b[0m \n\u001b[0;32m    412\u001b[0m \u001b[39mFits all the transformers one after the other and transform the\u001b[39;00m\n\u001b[1;32m   (...)\u001b[0m\n\u001b[0;32m    434\u001b[0m \u001b[39m    Transformed samples.\u001b[39;00m\n\u001b[0;32m    435\u001b[0m \u001b[39m\"\"\"\u001b[39;00m\n\u001b[0;32m    436\u001b[0m fit_params_steps \u001b[39m=\u001b[39m \u001b[39mself\u001b[39m\u001b[39m.\u001b[39m_check_fit_params(\u001b[39m*\u001b[39m\u001b[39m*\u001b[39mfit_params)\n\u001b[1;32m--> 437\u001b[0m Xt \u001b[39m=\u001b[39m \u001b[39mself\u001b[39m\u001b[39m.\u001b[39m_fit(X, y, \u001b[39m*\u001b[39m\u001b[39m*\u001b[39mfit_params_steps)\n\u001b[0;32m    439\u001b[0m last_step \u001b[39m=\u001b[39m \u001b[39mself\u001b[39m\u001b[39m.\u001b[39m_final_estimator\n\u001b[0;32m    440\u001b[0m \u001b[39mwith\u001b[39;00m _print_elapsed_time(\u001b[39m\"\u001b[39m\u001b[39mPipeline\u001b[39m\u001b[39m\"\u001b[39m, \u001b[39mself\u001b[39m\u001b[39m.\u001b[39m_log_message(\u001b[39mlen\u001b[39m(\u001b[39mself\u001b[39m\u001b[39m.\u001b[39msteps) \u001b[39m-\u001b[39m \u001b[39m1\u001b[39m)):\n",
      "File \u001b[1;32mf:\\Ineuron DS\\Internship\\FFP\\Flight_Fare_Predictions\\venv\\lib\\site-packages\\sklearn\\pipeline.py:359\u001b[0m, in \u001b[0;36mPipeline._fit\u001b[1;34m(self, X, y, **fit_params_steps)\u001b[0m\n\u001b[0;32m    357\u001b[0m     cloned_transformer \u001b[39m=\u001b[39m clone(transformer)\n\u001b[0;32m    358\u001b[0m \u001b[39m# Fit or load from cache the current transformer\u001b[39;00m\n\u001b[1;32m--> 359\u001b[0m X, fitted_transformer \u001b[39m=\u001b[39m fit_transform_one_cached(\n\u001b[0;32m    360\u001b[0m     cloned_transformer,\n\u001b[0;32m    361\u001b[0m     X,\n\u001b[0;32m    362\u001b[0m     y,\n\u001b[0;32m    363\u001b[0m     \u001b[39mNone\u001b[39;00m,\n\u001b[0;32m    364\u001b[0m     message_clsname\u001b[39m=\u001b[39m\u001b[39m\"\u001b[39m\u001b[39mPipeline\u001b[39m\u001b[39m\"\u001b[39m,\n\u001b[0;32m    365\u001b[0m     message\u001b[39m=\u001b[39m\u001b[39mself\u001b[39m\u001b[39m.\u001b[39m_log_message(step_idx),\n\u001b[0;32m    366\u001b[0m     \u001b[39m*\u001b[39m\u001b[39m*\u001b[39mfit_params_steps[name],\n\u001b[0;32m    367\u001b[0m )\n\u001b[0;32m    368\u001b[0m \u001b[39m# Replace the transformer of the step with the fitted\u001b[39;00m\n\u001b[0;32m    369\u001b[0m \u001b[39m# transformer. This is necessary when loading the transformer\u001b[39;00m\n\u001b[0;32m    370\u001b[0m \u001b[39m# from the cache.\u001b[39;00m\n\u001b[0;32m    371\u001b[0m \u001b[39mself\u001b[39m\u001b[39m.\u001b[39msteps[step_idx] \u001b[39m=\u001b[39m (name, fitted_transformer)\n",
      "File \u001b[1;32mf:\\Ineuron DS\\Internship\\FFP\\Flight_Fare_Predictions\\venv\\lib\\site-packages\\joblib\\memory.py:349\u001b[0m, in \u001b[0;36mNotMemorizedFunc.__call__\u001b[1;34m(self, *args, **kwargs)\u001b[0m\n\u001b[0;32m    348\u001b[0m \u001b[39mdef\u001b[39;00m \u001b[39m__call__\u001b[39m(\u001b[39mself\u001b[39m, \u001b[39m*\u001b[39margs, \u001b[39m*\u001b[39m\u001b[39m*\u001b[39mkwargs):\n\u001b[1;32m--> 349\u001b[0m     \u001b[39mreturn\u001b[39;00m \u001b[39mself\u001b[39m\u001b[39m.\u001b[39mfunc(\u001b[39m*\u001b[39margs, \u001b[39m*\u001b[39m\u001b[39m*\u001b[39mkwargs)\n",
      "File \u001b[1;32mf:\\Ineuron DS\\Internship\\FFP\\Flight_Fare_Predictions\\venv\\lib\\site-packages\\sklearn\\pipeline.py:893\u001b[0m, in \u001b[0;36m_fit_transform_one\u001b[1;34m(transformer, X, y, weight, message_clsname, message, **fit_params)\u001b[0m\n\u001b[0;32m    891\u001b[0m \u001b[39mwith\u001b[39;00m _print_elapsed_time(message_clsname, message):\n\u001b[0;32m    892\u001b[0m     \u001b[39mif\u001b[39;00m \u001b[39mhasattr\u001b[39m(transformer, \u001b[39m\"\u001b[39m\u001b[39mfit_transform\u001b[39m\u001b[39m\"\u001b[39m):\n\u001b[1;32m--> 893\u001b[0m         res \u001b[39m=\u001b[39m transformer\u001b[39m.\u001b[39mfit_transform(X, y, \u001b[39m*\u001b[39m\u001b[39m*\u001b[39mfit_params)\n\u001b[0;32m    894\u001b[0m     \u001b[39melse\u001b[39;00m:\n\u001b[0;32m    895\u001b[0m         res \u001b[39m=\u001b[39m transformer\u001b[39m.\u001b[39mfit(X, y, \u001b[39m*\u001b[39m\u001b[39m*\u001b[39mfit_params)\u001b[39m.\u001b[39mtransform(X)\n",
      "File \u001b[1;32mf:\\Ineuron DS\\Internship\\FFP\\Flight_Fare_Predictions\\venv\\lib\\site-packages\\sklearn\\utils\\_set_output.py:140\u001b[0m, in \u001b[0;36m_wrap_method_output.<locals>.wrapped\u001b[1;34m(self, X, *args, **kwargs)\u001b[0m\n\u001b[0;32m    138\u001b[0m \u001b[39m@wraps\u001b[39m(f)\n\u001b[0;32m    139\u001b[0m \u001b[39mdef\u001b[39;00m \u001b[39mwrapped\u001b[39m(\u001b[39mself\u001b[39m, X, \u001b[39m*\u001b[39margs, \u001b[39m*\u001b[39m\u001b[39m*\u001b[39mkwargs):\n\u001b[1;32m--> 140\u001b[0m     data_to_wrap \u001b[39m=\u001b[39m f(\u001b[39mself\u001b[39m, X, \u001b[39m*\u001b[39margs, \u001b[39m*\u001b[39m\u001b[39m*\u001b[39mkwargs)\n\u001b[0;32m    141\u001b[0m     \u001b[39mif\u001b[39;00m \u001b[39misinstance\u001b[39m(data_to_wrap, \u001b[39mtuple\u001b[39m):\n\u001b[0;32m    142\u001b[0m         \u001b[39m# only wrap the first output for cross decomposition\u001b[39;00m\n\u001b[0;32m    143\u001b[0m         \u001b[39mreturn\u001b[39;00m (\n\u001b[0;32m    144\u001b[0m             _wrap_data_with_container(method, data_to_wrap[\u001b[39m0\u001b[39m], X, \u001b[39mself\u001b[39m),\n\u001b[0;32m    145\u001b[0m             \u001b[39m*\u001b[39mdata_to_wrap[\u001b[39m1\u001b[39m:],\n\u001b[0;32m    146\u001b[0m         )\n",
      "File \u001b[1;32mf:\\Ineuron DS\\Internship\\FFP\\Flight_Fare_Predictions\\venv\\lib\\site-packages\\sklearn\\base.py:878\u001b[0m, in \u001b[0;36mTransformerMixin.fit_transform\u001b[1;34m(self, X, y, **fit_params)\u001b[0m\n\u001b[0;32m    874\u001b[0m \u001b[39m# non-optimized default implementation; override when a better\u001b[39;00m\n\u001b[0;32m    875\u001b[0m \u001b[39m# method is possible for a given clustering algorithm\u001b[39;00m\n\u001b[0;32m    876\u001b[0m \u001b[39mif\u001b[39;00m y \u001b[39mis\u001b[39;00m \u001b[39mNone\u001b[39;00m:\n\u001b[0;32m    877\u001b[0m     \u001b[39m# fit method of arity 1 (unsupervised transformation)\u001b[39;00m\n\u001b[1;32m--> 878\u001b[0m     \u001b[39mreturn\u001b[39;00m \u001b[39mself\u001b[39;49m\u001b[39m.\u001b[39;49mfit(X, \u001b[39m*\u001b[39;49m\u001b[39m*\u001b[39;49mfit_params)\u001b[39m.\u001b[39;49mtransform(X)\n\u001b[0;32m    879\u001b[0m \u001b[39melse\u001b[39;00m:\n\u001b[0;32m    880\u001b[0m     \u001b[39m# fit method of arity 2 (supervised transformation)\u001b[39;00m\n\u001b[0;32m    881\u001b[0m     \u001b[39mreturn\u001b[39;00m \u001b[39mself\u001b[39m\u001b[39m.\u001b[39mfit(X, y, \u001b[39m*\u001b[39m\u001b[39m*\u001b[39mfit_params)\u001b[39m.\u001b[39mtransform(X)\n",
      "File \u001b[1;32mf:\\Ineuron DS\\Internship\\FFP\\Flight_Fare_Predictions\\venv\\lib\\site-packages\\pandas\\core\\frame.py:9262\u001b[0m, in \u001b[0;36mDataFrame.transform\u001b[1;34m(self, func, axis, *args, **kwargs)\u001b[0m\n\u001b[0;32m   9259\u001b[0m \u001b[39mfrom\u001b[39;00m \u001b[39mpandas\u001b[39;00m\u001b[39m.\u001b[39;00m\u001b[39mcore\u001b[39;00m\u001b[39m.\u001b[39;00m\u001b[39mapply\u001b[39;00m \u001b[39mimport\u001b[39;00m frame_apply\n\u001b[0;32m   9261\u001b[0m op \u001b[39m=\u001b[39m frame_apply(\u001b[39mself\u001b[39m, func\u001b[39m=\u001b[39mfunc, axis\u001b[39m=\u001b[39maxis, args\u001b[39m=\u001b[39margs, kwargs\u001b[39m=\u001b[39mkwargs)\n\u001b[1;32m-> 9262\u001b[0m result \u001b[39m=\u001b[39m op\u001b[39m.\u001b[39;49mtransform()\n\u001b[0;32m   9263\u001b[0m \u001b[39massert\u001b[39;00m \u001b[39misinstance\u001b[39m(result, DataFrame)\n\u001b[0;32m   9264\u001b[0m \u001b[39mreturn\u001b[39;00m result\n",
      "File \u001b[1;32mf:\\Ineuron DS\\Internship\\FFP\\Flight_Fare_Predictions\\venv\\lib\\site-packages\\pandas\\core\\apply.py:213\u001b[0m, in \u001b[0;36mApply.transform\u001b[1;34m(self)\u001b[0m\n\u001b[0;32m    211\u001b[0m \u001b[39mif\u001b[39;00m is_dict_like(func):\n\u001b[0;32m    212\u001b[0m     func \u001b[39m=\u001b[39m cast(AggFuncTypeDict, func)\n\u001b[1;32m--> 213\u001b[0m     \u001b[39mreturn\u001b[39;00m \u001b[39mself\u001b[39;49m\u001b[39m.\u001b[39;49mtransform_dict_like(func)\n\u001b[0;32m    215\u001b[0m \u001b[39m# func is either str or callable\u001b[39;00m\n\u001b[0;32m    216\u001b[0m func \u001b[39m=\u001b[39m cast(AggFuncTypeBase, func)\n",
      "File \u001b[1;32mf:\\Ineuron DS\\Internship\\FFP\\Flight_Fare_Predictions\\venv\\lib\\site-packages\\pandas\\core\\apply.py:259\u001b[0m, in \u001b[0;36mApply.transform_dict_like\u001b[1;34m(self, func)\u001b[0m\n\u001b[0;32m    256\u001b[0m \u001b[39mif\u001b[39;00m \u001b[39mlen\u001b[39m(func) \u001b[39m==\u001b[39m \u001b[39m0\u001b[39m:\n\u001b[0;32m    257\u001b[0m     \u001b[39mraise\u001b[39;00m \u001b[39mValueError\u001b[39;00m(\u001b[39m\"\u001b[39m\u001b[39mNo transform functions were provided\u001b[39m\u001b[39m\"\u001b[39m)\n\u001b[1;32m--> 259\u001b[0m func \u001b[39m=\u001b[39m \u001b[39mself\u001b[39;49m\u001b[39m.\u001b[39;49mnormalize_dictlike_arg(\u001b[39m\"\u001b[39;49m\u001b[39mtransform\u001b[39;49m\u001b[39m\"\u001b[39;49m, obj, func)\n\u001b[0;32m    261\u001b[0m results: \u001b[39mdict\u001b[39m[Hashable, DataFrame \u001b[39m|\u001b[39m Series] \u001b[39m=\u001b[39m {}\n\u001b[0;32m    262\u001b[0m \u001b[39mfor\u001b[39;00m name, how \u001b[39min\u001b[39;00m func\u001b[39m.\u001b[39mitems():\n",
      "File \u001b[1;32mf:\\Ineuron DS\\Internship\\FFP\\Flight_Fare_Predictions\\venv\\lib\\site-packages\\pandas\\core\\apply.py:528\u001b[0m, in \u001b[0;36mApply.normalize_dictlike_arg\u001b[1;34m(self, how, obj, func)\u001b[0m\n\u001b[0;32m    521\u001b[0m \u001b[39m# Can't use func.values(); wouldn't work for a Series\u001b[39;00m\n\u001b[0;32m    522\u001b[0m \u001b[39mif\u001b[39;00m (\n\u001b[0;32m    523\u001b[0m     how \u001b[39m==\u001b[39m \u001b[39m\"\u001b[39m\u001b[39magg\u001b[39m\u001b[39m\"\u001b[39m\n\u001b[0;32m    524\u001b[0m     \u001b[39mand\u001b[39;00m \u001b[39misinstance\u001b[39m(obj, ABCSeries)\n\u001b[0;32m    525\u001b[0m     \u001b[39mand\u001b[39;00m \u001b[39many\u001b[39m(is_list_like(v) \u001b[39mfor\u001b[39;00m _, v \u001b[39min\u001b[39;00m func\u001b[39m.\u001b[39mitems())\n\u001b[0;32m    526\u001b[0m ) \u001b[39mor\u001b[39;00m (\u001b[39many\u001b[39m(is_dict_like(v) \u001b[39mfor\u001b[39;00m _, v \u001b[39min\u001b[39;00m func\u001b[39m.\u001b[39mitems())):\n\u001b[0;32m    527\u001b[0m     \u001b[39m# GH 15931 - deprecation of renaming keys\u001b[39;00m\n\u001b[1;32m--> 528\u001b[0m     \u001b[39mraise\u001b[39;00m SpecificationError(\u001b[39m\"\u001b[39m\u001b[39mnested renamer is not supported\u001b[39m\u001b[39m\"\u001b[39m)\n\u001b[0;32m    530\u001b[0m \u001b[39mif\u001b[39;00m obj\u001b[39m.\u001b[39mndim \u001b[39m!=\u001b[39m \u001b[39m1\u001b[39m:\n\u001b[0;32m    531\u001b[0m     \u001b[39m# Check for missing columns on a frame\u001b[39;00m\n\u001b[0;32m    532\u001b[0m     cols \u001b[39m=\u001b[39m \u001b[39mset\u001b[39m(func\u001b[39m.\u001b[39mkeys()) \u001b[39m-\u001b[39m \u001b[39mset\u001b[39m(obj\u001b[39m.\u001b[39mcolumns)\n",
      "\u001b[1;31mSpecificationError\u001b[0m: nested renamer is not supported"
     ]
    }
   ],
   "source": [
    "trans = DataTransformation(data_transformation_config =  DataTransformationConfig,\n",
    "                             data_ingestion_artifact =  DataIngestionArtifact,\n",
    "                             data_validation_artifact = DataValidationArtifact)\n",
    "preprocessing_obj = trans.get_data_transformer_object()\n",
    "\n",
    "preprocessing_obj.fit_transform(X)"
   ]
  },
  {
   "cell_type": "code",
   "execution_count": 134,
   "metadata": {},
   "outputs": [],
   "source": [
    "X = train_df.drop('Price',axis = 1)\n",
    "y = train_df['Price']"
   ]
  },
  {
   "cell_type": "code",
   "execution_count": null,
   "metadata": {},
   "outputs": [],
   "source": []
  },
  {
   "cell_type": "code",
   "execution_count": null,
   "metadata": {},
   "outputs": [],
   "source": []
  },
  {
   "cell_type": "code",
   "execution_count": 120,
   "metadata": {},
   "outputs": [
    {
     "ename": "ValueError",
     "evalue": "not enough values to unpack (expected 3, got 2)",
     "output_type": "error",
     "traceback": [
      "\u001b[1;31m---------------------------------------------------------------------------\u001b[0m",
      "\u001b[1;31mValueError\u001b[0m                                Traceback (most recent call last)",
      "Cell \u001b[1;32mIn[120], line 5\u001b[0m\n\u001b[0;32m      1\u001b[0m c \u001b[39m=\u001b[39m DataTransformation(data_transformation_config\u001b[39m=\u001b[39m DataTransformationConfig,\n\u001b[0;32m      2\u001b[0m                         data_ingestion_artifact\u001b[39m=\u001b[39m DataIngestionArtifact,\n\u001b[0;32m      3\u001b[0m                         data_validation_artifact\u001b[39m=\u001b[39m DataValidationArtifact)\n\u001b[0;32m      4\u001b[0m v \u001b[39m=\u001b[39m c\u001b[39m.\u001b[39mget_data_transformer_object()\n\u001b[1;32m----> 5\u001b[0m v\u001b[39m.\u001b[39;49mfit_transform(train_df,y\u001b[39m=\u001b[39;49m\u001b[39mNone\u001b[39;49;00m)\n",
      "File \u001b[1;32mf:\\Ineuron DS\\Internship\\FFP\\Flight_Fare_Predictions\\venv\\lib\\site-packages\\sklearn\\utils\\_set_output.py:140\u001b[0m, in \u001b[0;36m_wrap_method_output.<locals>.wrapped\u001b[1;34m(self, X, *args, **kwargs)\u001b[0m\n\u001b[0;32m    138\u001b[0m \u001b[39m@wraps\u001b[39m(f)\n\u001b[0;32m    139\u001b[0m \u001b[39mdef\u001b[39;00m \u001b[39mwrapped\u001b[39m(\u001b[39mself\u001b[39m, X, \u001b[39m*\u001b[39margs, \u001b[39m*\u001b[39m\u001b[39m*\u001b[39mkwargs):\n\u001b[1;32m--> 140\u001b[0m     data_to_wrap \u001b[39m=\u001b[39m f(\u001b[39mself\u001b[39m, X, \u001b[39m*\u001b[39margs, \u001b[39m*\u001b[39m\u001b[39m*\u001b[39mkwargs)\n\u001b[0;32m    141\u001b[0m     \u001b[39mif\u001b[39;00m \u001b[39misinstance\u001b[39m(data_to_wrap, \u001b[39mtuple\u001b[39m):\n\u001b[0;32m    142\u001b[0m         \u001b[39m# only wrap the first output for cross decomposition\u001b[39;00m\n\u001b[0;32m    143\u001b[0m         \u001b[39mreturn\u001b[39;00m (\n\u001b[0;32m    144\u001b[0m             _wrap_data_with_container(method, data_to_wrap[\u001b[39m0\u001b[39m], X, \u001b[39mself\u001b[39m),\n\u001b[0;32m    145\u001b[0m             \u001b[39m*\u001b[39mdata_to_wrap[\u001b[39m1\u001b[39m:],\n\u001b[0;32m    146\u001b[0m         )\n",
      "File \u001b[1;32mf:\\Ineuron DS\\Internship\\FFP\\Flight_Fare_Predictions\\venv\\lib\\site-packages\\sklearn\\compose\\_column_transformer.py:723\u001b[0m, in \u001b[0;36mColumnTransformer.fit_transform\u001b[1;34m(self, X, y)\u001b[0m\n\u001b[0;32m    721\u001b[0m \u001b[39m# set n_features_in_ attribute\u001b[39;00m\n\u001b[0;32m    722\u001b[0m \u001b[39mself\u001b[39m\u001b[39m.\u001b[39m_check_n_features(X, reset\u001b[39m=\u001b[39m\u001b[39mTrue\u001b[39;00m)\n\u001b[1;32m--> 723\u001b[0m \u001b[39mself\u001b[39;49m\u001b[39m.\u001b[39;49m_validate_transformers()\n\u001b[0;32m    724\u001b[0m \u001b[39mself\u001b[39m\u001b[39m.\u001b[39m_validate_column_callables(X)\n\u001b[0;32m    725\u001b[0m \u001b[39mself\u001b[39m\u001b[39m.\u001b[39m_validate_remainder(X)\n",
      "File \u001b[1;32mf:\\Ineuron DS\\Internship\\FFP\\Flight_Fare_Predictions\\venv\\lib\\site-packages\\sklearn\\compose\\_column_transformer.py:398\u001b[0m, in \u001b[0;36mColumnTransformer._validate_transformers\u001b[1;34m(self)\u001b[0m\n\u001b[0;32m    395\u001b[0m \u001b[39mif\u001b[39;00m \u001b[39mnot\u001b[39;00m \u001b[39mself\u001b[39m\u001b[39m.\u001b[39mtransformers:\n\u001b[0;32m    396\u001b[0m     \u001b[39mreturn\u001b[39;00m\n\u001b[1;32m--> 398\u001b[0m names, transformers, _ \u001b[39m=\u001b[39m \u001b[39mzip\u001b[39m(\u001b[39m*\u001b[39m\u001b[39mself\u001b[39m\u001b[39m.\u001b[39mtransformers)\n\u001b[0;32m    400\u001b[0m \u001b[39m# validate names\u001b[39;00m\n\u001b[0;32m    401\u001b[0m \u001b[39mself\u001b[39m\u001b[39m.\u001b[39m_validate_names(names)\n",
      "\u001b[1;31mValueError\u001b[0m: not enough values to unpack (expected 3, got 2)"
     ]
    }
   ],
   "source": [
    "c = DataTransformation(data_transformation_config= DataTransformationConfig,\n",
    "                        data_ingestion_artifact= DataIngestionArtifact,\n",
    "                        data_validation_artifact= DataValidationArtifact)\n",
    "v = c.get_data_transformer_object()\n",
    "v.fit_transform(train_df,y=None)"
   ]
  },
  {
   "cell_type": "code",
   "execution_count": 96,
   "metadata": {},
   "outputs": [],
   "source": [
    "c = np.array(train_df)"
   ]
  },
  {
   "cell_type": "code",
   "execution_count": 70,
   "metadata": {},
   "outputs": [],
   "source": [
    "train_df.drop('Price',inplace = True,axis = 1)"
   ]
  },
  {
   "cell_type": "code",
   "execution_count": 73,
   "metadata": {},
   "outputs": [
    {
     "data": {
      "text/plain": [
       "array([['Jet Airways'],\n",
       "       ['27/06/2019'],\n",
       "       ['Mumbai'],\n",
       "       ...,\n",
       "       ['15h 25m'],\n",
       "       ['1 stop'],\n",
       "       ['In-flight meal not included']], dtype=object)"
      ]
     },
     "execution_count": 73,
     "metadata": {},
     "output_type": "execute_result"
    }
   ],
   "source": [
    "np.array(train_df).reshape(-1,1)"
   ]
  },
  {
   "cell_type": "code",
   "execution_count": 75,
   "metadata": {},
   "outputs": [
    {
     "data": {
      "text/plain": [
       "(7478, 10)"
      ]
     },
     "execution_count": 75,
     "metadata": {},
     "output_type": "execute_result"
    }
   ],
   "source": [
    "train_df.shape"
   ]
  },
  {
   "cell_type": "code",
   "execution_count": 157,
   "metadata": {},
   "outputs": [
    {
     "name": "stdout",
     "output_type": "stream",
     "text": [
      "Collecting pandas==0.19.2\n",
      "  Downloading pandas-0.19.2.tar.gz (9.2 MB)\n",
      "     ---------------------------------------- 0.0/9.2 MB ? eta -:--:--\n",
      "     ---------------------------------------- 0.0/9.2 MB 991.0 kB/s eta 0:00:10\n",
      "     ---------------------------------------- 0.1/9.2 MB 1.6 MB/s eta 0:00:06\n",
      "     - -------------------------------------- 0.2/9.2 MB 1.8 MB/s eta 0:00:05\n",
      "     -- ------------------------------------- 0.5/9.2 MB 2.9 MB/s eta 0:00:04\n",
      "     --- ------------------------------------ 0.8/9.2 MB 3.8 MB/s eta 0:00:03\n",
      "     ----- ---------------------------------- 1.2/9.2 MB 4.4 MB/s eta 0:00:02\n",
      "     ----- ---------------------------------- 1.2/9.2 MB 4.3 MB/s eta 0:00:02\n",
      "     ----- ---------------------------------- 1.3/9.2 MB 3.6 MB/s eta 0:00:03\n",
      "     ----- ---------------------------------- 1.3/9.2 MB 3.6 MB/s eta 0:00:03\n",
      "     ----- ---------------------------------- 1.3/9.2 MB 2.9 MB/s eta 0:00:03\n",
      "     ---------- ----------------------------- 2.4/9.2 MB 4.3 MB/s eta 0:00:02\n",
      "     ---------- ----------------------------- 2.4/9.2 MB 4.3 MB/s eta 0:00:02\n",
      "     ------------ --------------------------- 2.8/9.2 MB 4.3 MB/s eta 0:00:02\n",
      "     ------------- -------------------------- 3.0/9.2 MB 4.4 MB/s eta 0:00:02\n",
      "     ------------- -------------------------- 3.1/9.2 MB 4.4 MB/s eta 0:00:02\n",
      "     ------------- -------------------------- 3.1/9.2 MB 3.9 MB/s eta 0:00:02\n",
      "     -------------- ------------------------- 3.3/9.2 MB 3.9 MB/s eta 0:00:02\n",
      "     --------------- ------------------------ 3.6/9.2 MB 3.8 MB/s eta 0:00:02\n",
      "     -------------------- ------------------- 4.8/9.2 MB 4.8 MB/s eta 0:00:01\n",
      "     --------------------- ------------------ 4.9/9.2 MB 4.8 MB/s eta 0:00:01\n",
      "     ---------------------- ----------------- 5.2/9.2 MB 4.6 MB/s eta 0:00:01\n",
      "     ---------------------- ----------------- 5.2/9.2 MB 4.6 MB/s eta 0:00:01\n",
      "     ---------------------- ----------------- 5.2/9.2 MB 4.6 MB/s eta 0:00:01\n",
      "     ---------------------- ----------------- 5.2/9.2 MB 4.6 MB/s eta 0:00:01\n",
      "     ----------------------- ---------------- 5.4/9.2 MB 4.2 MB/s eta 0:00:01\n",
      "     ----------------------- ---------------- 5.5/9.2 MB 4.0 MB/s eta 0:00:01\n",
      "     ------------------------ --------------- 5.7/9.2 MB 4.0 MB/s eta 0:00:01\n",
      "     ------------------------- -------------- 6.0/9.2 MB 4.0 MB/s eta 0:00:01\n",
      "     -------------------------- ------------- 6.1/9.2 MB 4.0 MB/s eta 0:00:01\n",
      "     --------------------------- ------------ 6.3/9.2 MB 4.1 MB/s eta 0:00:01\n",
      "     ---------------------------- ----------- 6.6/9.2 MB 4.0 MB/s eta 0:00:01\n",
      "     ----------------------------- ---------- 6.8/9.2 MB 4.1 MB/s eta 0:00:01\n",
      "     ------------------------------ --------- 7.0/9.2 MB 4.1 MB/s eta 0:00:01\n",
      "     ------------------------------- -------- 7.2/9.2 MB 4.1 MB/s eta 0:00:01\n",
      "     -------------------------------- ------- 7.4/9.2 MB 4.1 MB/s eta 0:00:01\n",
      "     --------------------------------- ------ 7.7/9.2 MB 4.1 MB/s eta 0:00:01\n",
      "     ---------------------------------- ----- 7.9/9.2 MB 4.1 MB/s eta 0:00:01\n",
      "     ---------------------------------- ----- 8.0/9.2 MB 4.1 MB/s eta 0:00:01\n",
      "     ----------------------------------- ---- 8.3/9.2 MB 4.1 MB/s eta 0:00:01\n",
      "     ------------------------------------ --- 8.5/9.2 MB 4.1 MB/s eta 0:00:01\n",
      "     ------------------------------------- -- 8.7/9.2 MB 4.2 MB/s eta 0:00:01\n",
      "     -------------------------------------- - 8.8/9.2 MB 4.2 MB/s eta 0:00:01\n",
      "     ---------------------------------------  9.1/9.2 MB 4.2 MB/s eta 0:00:01\n",
      "     ---------------------------------------  9.2/9.2 MB 4.2 MB/s eta 0:00:01\n",
      "     ---------------------------------------- 9.2/9.2 MB 4.1 MB/s eta 0:00:00\n",
      "  Preparing metadata (setup.py): started\n",
      "  Preparing metadata (setup.py): finished with status 'error'\n"
     ]
    },
    {
     "name": "stderr",
     "output_type": "stream",
     "text": [
      "WARNING: Ignoring invalid distribution -umpy (f:\\ineuron ds\\internship\\ffp\\flight_fare_predictions\\venv\\lib\\site-packages)\n",
      "  error: subprocess-exited-with-error\n",
      "  \n",
      "  × python setup.py egg_info did not run successfully.\n",
      "  │ exit code: 1\n",
      "  ╰─> [13 lines of output]\n",
      "      f:\\Ineuron DS\\Internship\\FFP\\Flight_Fare_Predictions\\venv\\lib\\site-packages\\setuptools\\__init__.py:84: _DeprecatedInstaller: setuptools.installer and fetch_build_eggs are deprecated.\n",
      "      !!\n",
      "      \n",
      "              ********************************************************************************\n",
      "              Requirements should be satisfied by a PEP 517 installer.\n",
      "              If you are using pip, you can try `pip install --use-pep517`.\n",
      "              ********************************************************************************\n",
      "      \n",
      "      !!\n",
      "        dist.fetch_build_eggs(dist.setup_requires)\n",
      "      error in pandas setup command: 'install_requires' must be a string or list of strings containing valid project/version requirement specifiers; Expected end or semicolon (after version specifier)\n",
      "          pytz >= 2011k\n",
      "               ~~~~~~~^\n",
      "      [end of output]\n",
      "  \n",
      "  note: This error originates from a subprocess, and is likely not a problem with pip.\n",
      "error: metadata-generation-failed\n",
      "\n",
      "× Encountered error while generating package metadata.\n",
      "╰─> See above for output.\n",
      "\n",
      "note: This is an issue with the package mentioned above, not pip.\n",
      "hint: See above for details.\n"
     ]
    }
   ],
   "source": [
    "! pip install pandas==0.19.2\n"
   ]
  },
  {
   "cell_type": "code",
   "execution_count": null,
   "metadata": {},
   "outputs": [],
   "source": []
  }
 ],
 "metadata": {
  "kernelspec": {
   "display_name": "Python 3",
   "language": "python",
   "name": "python3"
  },
  "language_info": {
   "codemirror_mode": {
    "name": "ipython",
    "version": 3
   },
   "file_extension": ".py",
   "mimetype": "text/x-python",
   "name": "python",
   "nbconvert_exporter": "python",
   "pygments_lexer": "ipython3",
   "version": "3.9.0"
  },
  "orig_nbformat": 4
 },
 "nbformat": 4,
 "nbformat_minor": 2
}
