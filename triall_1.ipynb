{
 "cells": [
  {
   "cell_type": "code",
   "execution_count": 4,
   "metadata": {},
   "outputs": [
    {
     "name": "stderr",
     "output_type": "stream",
     "text": [
      "f:\\Ineuron DS\\Internship\\FFP\\Flight_Fare_Predictions\\venv\\lib\\site-packages\\numpy\\_distributor_init.py:30: UserWarning: loaded more than 1 DLL from .libs:\n",
      "f:\\Ineuron DS\\Internship\\FFP\\Flight_Fare_Predictions\\venv\\lib\\site-packages\\numpy\\.libs\\libopenblas.FB5AE2TYXYH2IJRDKGDGQ3XBKLKTF43H.gfortran-win_amd64.dll\n",
      "f:\\Ineuron DS\\Internship\\FFP\\Flight_Fare_Predictions\\venv\\lib\\site-packages\\numpy\\.libs\\libopenblas64__v0.3.21-gcc_10_3_0.dll\n",
      "  warnings.warn(\"loaded more than 1 DLL from .libs:\"\n"
     ]
    }
   ],
   "source": [
    "import os\n",
    "import sys\n",
    "from Flight_Fare.exception import CustomException\n",
    "from Flight_Fare.logger import logging\n",
    "from Flight_Fare.config.configuration import Configuration\n",
    "from Flight_Fare.entity.artifact_entity import *\n",
    "from Flight_Fare.entity.config_entity import *\n",
    "from Flight_Fare.constant import *\n",
    "from Flight_Fare.util.util import *\n",
    "from sklearn.impute import SimpleImputer\n",
    "\n",
    "from sklearn.base import BaseEstimator,TransformerMixin\n",
    "from sklearn.compose import ColumnTransformer\n",
    "from sklearn.preprocessing import StandardScaler,OneHotEncoder,LabelEncoder\n",
    "from sklearn.pipeline import Pipeline\n",
    "import pandas as pd "
   ]
  },
  {
   "cell_type": "code",
   "execution_count": 41,
   "metadata": {},
   "outputs": [],
   "source": [
    "import pickle as pkl"
   ]
  },
  {
   "cell_type": "code",
   "execution_count": 275,
   "metadata": {},
   "outputs": [],
   "source": [
    "train_df = pd.read_csv(r\"Flight_Fare\\artifact\\data_ingestion\\2023-07-25-01-27-30\\ingested_data\\train\\Flight_Fare_Prediction.csv\")\n",
    "test_df = pd.read_csv(r\"Flight_Fare\\artifact\\data_ingestion\\2023-07-25-01-27-30\\ingested_data\\test\\Flight_Fare_Prediction.csv\")"
   ]
  },
  {
   "cell_type": "code",
   "execution_count": 276,
   "metadata": {},
   "outputs": [],
   "source": [
    "X = train_df.drop(['Price','Additional_Info','Route'],axis = 1)"
   ]
  },
  {
   "cell_type": "code",
   "execution_count": 277,
   "metadata": {},
   "outputs": [
    {
     "data": {
      "text/html": [
       "<div>\n",
       "<style scoped>\n",
       "    .dataframe tbody tr th:only-of-type {\n",
       "        vertical-align: middle;\n",
       "    }\n",
       "\n",
       "    .dataframe tbody tr th {\n",
       "        vertical-align: top;\n",
       "    }\n",
       "\n",
       "    .dataframe thead th {\n",
       "        text-align: right;\n",
       "    }\n",
       "</style>\n",
       "<table border=\"1\" class=\"dataframe\">\n",
       "  <thead>\n",
       "    <tr style=\"text-align: right;\">\n",
       "      <th></th>\n",
       "      <th>Airline</th>\n",
       "      <th>Date_of_Journey</th>\n",
       "      <th>Source</th>\n",
       "      <th>Destination</th>\n",
       "      <th>Dep_Time</th>\n",
       "      <th>Arrival_Time</th>\n",
       "      <th>Duration</th>\n",
       "      <th>Total_Stops</th>\n",
       "    </tr>\n",
       "  </thead>\n",
       "  <tbody>\n",
       "    <tr>\n",
       "      <th>0</th>\n",
       "      <td>Jet Airways</td>\n",
       "      <td>27/06/2019</td>\n",
       "      <td>Mumbai</td>\n",
       "      <td>Hyderabad</td>\n",
       "      <td>10:20</td>\n",
       "      <td>11:50</td>\n",
       "      <td>1h 30m</td>\n",
       "      <td>non-stop</td>\n",
       "    </tr>\n",
       "    <tr>\n",
       "      <th>1</th>\n",
       "      <td>Multiple carriers</td>\n",
       "      <td>3/03/2019</td>\n",
       "      <td>Delhi</td>\n",
       "      <td>Cochin</td>\n",
       "      <td>09:10</td>\n",
       "      <td>18:50</td>\n",
       "      <td>9h 40m</td>\n",
       "      <td>1 stop</td>\n",
       "    </tr>\n",
       "    <tr>\n",
       "      <th>2</th>\n",
       "      <td>Multiple carriers</td>\n",
       "      <td>27/05/2019</td>\n",
       "      <td>Delhi</td>\n",
       "      <td>Cochin</td>\n",
       "      <td>15:00</td>\n",
       "      <td>01:30 28 May</td>\n",
       "      <td>10h 30m</td>\n",
       "      <td>1 stop</td>\n",
       "    </tr>\n",
       "    <tr>\n",
       "      <th>3</th>\n",
       "      <td>Air Asia</td>\n",
       "      <td>9/05/2019</td>\n",
       "      <td>Kolkata</td>\n",
       "      <td>Banglore</td>\n",
       "      <td>22:40</td>\n",
       "      <td>10:40 10 May</td>\n",
       "      <td>12h</td>\n",
       "      <td>1 stop</td>\n",
       "    </tr>\n",
       "    <tr>\n",
       "      <th>4</th>\n",
       "      <td>Air India</td>\n",
       "      <td>9/06/2019</td>\n",
       "      <td>Delhi</td>\n",
       "      <td>Cochin</td>\n",
       "      <td>19:45</td>\n",
       "      <td>19:15 10 Jun</td>\n",
       "      <td>23h 30m</td>\n",
       "      <td>2 stops</td>\n",
       "    </tr>\n",
       "    <tr>\n",
       "      <th>...</th>\n",
       "      <td>...</td>\n",
       "      <td>...</td>\n",
       "      <td>...</td>\n",
       "      <td>...</td>\n",
       "      <td>...</td>\n",
       "      <td>...</td>\n",
       "      <td>...</td>\n",
       "      <td>...</td>\n",
       "    </tr>\n",
       "    <tr>\n",
       "      <th>7473</th>\n",
       "      <td>Jet Airways</td>\n",
       "      <td>27/03/2019</td>\n",
       "      <td>Delhi</td>\n",
       "      <td>Cochin</td>\n",
       "      <td>09:00</td>\n",
       "      <td>04:25 28 Mar</td>\n",
       "      <td>19h 25m</td>\n",
       "      <td>1 stop</td>\n",
       "    </tr>\n",
       "    <tr>\n",
       "      <th>7474</th>\n",
       "      <td>Jet Airways</td>\n",
       "      <td>9/05/2019</td>\n",
       "      <td>Kolkata</td>\n",
       "      <td>Banglore</td>\n",
       "      <td>14:05</td>\n",
       "      <td>20:45</td>\n",
       "      <td>6h 40m</td>\n",
       "      <td>1 stop</td>\n",
       "    </tr>\n",
       "    <tr>\n",
       "      <th>7475</th>\n",
       "      <td>Multiple carriers</td>\n",
       "      <td>15/05/2019</td>\n",
       "      <td>Delhi</td>\n",
       "      <td>Cochin</td>\n",
       "      <td>12:50</td>\n",
       "      <td>01:30 16 May</td>\n",
       "      <td>12h 40m</td>\n",
       "      <td>1 stop</td>\n",
       "    </tr>\n",
       "    <tr>\n",
       "      <th>7476</th>\n",
       "      <td>IndiGo</td>\n",
       "      <td>03/03/2019</td>\n",
       "      <td>Banglore</td>\n",
       "      <td>New Delhi</td>\n",
       "      <td>00:40</td>\n",
       "      <td>03:25</td>\n",
       "      <td>2h 45m</td>\n",
       "      <td>non-stop</td>\n",
       "    </tr>\n",
       "    <tr>\n",
       "      <th>7477</th>\n",
       "      <td>Jet Airways</td>\n",
       "      <td>1/06/2019</td>\n",
       "      <td>Delhi</td>\n",
       "      <td>Cochin</td>\n",
       "      <td>13:00</td>\n",
       "      <td>04:25 02 Jun</td>\n",
       "      <td>15h 25m</td>\n",
       "      <td>1 stop</td>\n",
       "    </tr>\n",
       "  </tbody>\n",
       "</table>\n",
       "<p>7478 rows × 8 columns</p>\n",
       "</div>"
      ],
      "text/plain": [
       "                Airline Date_of_Journey    Source Destination Dep_Time  \\\n",
       "0           Jet Airways      27/06/2019    Mumbai   Hyderabad    10:20   \n",
       "1     Multiple carriers       3/03/2019     Delhi      Cochin    09:10   \n",
       "2     Multiple carriers      27/05/2019     Delhi      Cochin    15:00   \n",
       "3              Air Asia       9/05/2019   Kolkata    Banglore    22:40   \n",
       "4             Air India       9/06/2019     Delhi      Cochin    19:45   \n",
       "...                 ...             ...       ...         ...      ...   \n",
       "7473        Jet Airways      27/03/2019     Delhi      Cochin    09:00   \n",
       "7474        Jet Airways       9/05/2019   Kolkata    Banglore    14:05   \n",
       "7475  Multiple carriers      15/05/2019     Delhi      Cochin    12:50   \n",
       "7476             IndiGo      03/03/2019  Banglore   New Delhi    00:40   \n",
       "7477        Jet Airways       1/06/2019     Delhi      Cochin    13:00   \n",
       "\n",
       "      Arrival_Time Duration Total_Stops  \n",
       "0            11:50   1h 30m    non-stop  \n",
       "1            18:50   9h 40m      1 stop  \n",
       "2     01:30 28 May  10h 30m      1 stop  \n",
       "3     10:40 10 May      12h      1 stop  \n",
       "4     19:15 10 Jun  23h 30m     2 stops  \n",
       "...            ...      ...         ...  \n",
       "7473  04:25 28 Mar  19h 25m      1 stop  \n",
       "7474         20:45   6h 40m      1 stop  \n",
       "7475  01:30 16 May  12h 40m      1 stop  \n",
       "7476         03:25   2h 45m    non-stop  \n",
       "7477  04:25 02 Jun  15h 25m      1 stop  \n",
       "\n",
       "[7478 rows x 8 columns]"
      ]
     },
     "execution_count": 277,
     "metadata": {},
     "output_type": "execute_result"
    }
   ],
   "source": [
    "X"
   ]
  },
  {
   "cell_type": "code",
   "execution_count": 278,
   "metadata": {},
   "outputs": [],
   "source": [
    "num_cols = ['Dep_Time','Date_of_Journey','Arrival_Time','Duration']\n",
    "\n",
    "\n",
    "class FeatureGenerator(BaseEstimator,TransformerMixin):\n",
    "\n",
    "    def __init__(self,columns):\n",
    "        self.columns = columns\n",
    "\n",
    "    def fit(self,X,y=None):\n",
    "        return self\n",
    "\n",
    "    def transform(self,X,y=None):\n",
    "        \n",
    "            X['journey_day'] = X['Date_of_Journey'].str.split('/').str[0].astype(int)\n",
    "            X['journey_month'] = X['Date_of_Journey'].str.split('/').str[1].str[1].astype(int)\n",
    "\n",
    "        \n",
    "            X['Dep_hr'] = X['Dep_Time'].str.split(':').str[0].astype(int)\n",
    "            X['Dep_min'] = X['Dep_Time'].str.split(':').str[1].astype(int)\n",
    "\n",
    "            X['Arrival_hr'] = X['Arrival_Time'].str.split(\" \").str[0].str.split(':').str[0].astype(int)\n",
    "            X['Arrival_min'] = X['Arrival_Time'].str.split(\" \").str[0].str.split(':').str[1].astype(int)\n",
    "\n",
    "            X['Duration_hr'] = 0\n",
    "            X['Duration_min'] = 0\n",
    "        \n",
    "            \n",
    "\n",
    "            duration = list(X['Duration'])\n",
    "\n",
    "            for i in range(len(duration)):\n",
    "                if 'h' not in duration[i]:\n",
    "                    duration[i] = '0h ' + duration[i]\n",
    "                    \n",
    "                if 'm' not in duration[i]:\n",
    "                    duration[i] = duration[i] + ' 0m'\n",
    "                    \n",
    "            for i in range(len(duration)):\n",
    "                hr = int(duration[i].split(\"h\")[0])\n",
    "                min_ = int(duration[i].split(\" \")[1].split(\"m\")[0])\n",
    "                X['Duration_hr'][i] = hr\n",
    "                X['Duration_min'][i] = min_\n",
    "\n",
    "            X['Duration_min'].fillna(0,inplace = True)\n",
    "\n",
    "            X.drop(num_cols,inplace = True,axis =1 )\n",
    "            \n",
    "            return X"
   ]
  },
  {
   "cell_type": "code",
   "execution_count": 220,
   "metadata": {},
   "outputs": [
    {
     "data": {
      "text/html": [
       "<div>\n",
       "<style scoped>\n",
       "    .dataframe tbody tr th:only-of-type {\n",
       "        vertical-align: middle;\n",
       "    }\n",
       "\n",
       "    .dataframe tbody tr th {\n",
       "        vertical-align: top;\n",
       "    }\n",
       "\n",
       "    .dataframe thead th {\n",
       "        text-align: right;\n",
       "    }\n",
       "</style>\n",
       "<table border=\"1\" class=\"dataframe\">\n",
       "  <thead>\n",
       "    <tr style=\"text-align: right;\">\n",
       "      <th></th>\n",
       "      <th>Airline</th>\n",
       "      <th>Source</th>\n",
       "      <th>Destination</th>\n",
       "      <th>Total_Stops</th>\n",
       "      <th>journey_day</th>\n",
       "      <th>journey_month</th>\n",
       "      <th>Dep_hr</th>\n",
       "      <th>Dep_min</th>\n",
       "      <th>Arrival_hr</th>\n",
       "      <th>Arrival_min</th>\n",
       "      <th>Duration_hr</th>\n",
       "      <th>Duration_min</th>\n",
       "    </tr>\n",
       "  </thead>\n",
       "  <tbody>\n",
       "    <tr>\n",
       "      <th>0</th>\n",
       "      <td>Jet Airways</td>\n",
       "      <td>Mumbai</td>\n",
       "      <td>Hyderabad</td>\n",
       "      <td>non-stop</td>\n",
       "      <td>27</td>\n",
       "      <td>6</td>\n",
       "      <td>10</td>\n",
       "      <td>20</td>\n",
       "      <td>11</td>\n",
       "      <td>50</td>\n",
       "      <td>1</td>\n",
       "      <td>30</td>\n",
       "    </tr>\n",
       "    <tr>\n",
       "      <th>1</th>\n",
       "      <td>Multiple carriers</td>\n",
       "      <td>Delhi</td>\n",
       "      <td>Cochin</td>\n",
       "      <td>1 stop</td>\n",
       "      <td>3</td>\n",
       "      <td>3</td>\n",
       "      <td>9</td>\n",
       "      <td>10</td>\n",
       "      <td>18</td>\n",
       "      <td>50</td>\n",
       "      <td>9</td>\n",
       "      <td>40</td>\n",
       "    </tr>\n",
       "    <tr>\n",
       "      <th>2</th>\n",
       "      <td>Multiple carriers</td>\n",
       "      <td>Delhi</td>\n",
       "      <td>Cochin</td>\n",
       "      <td>1 stop</td>\n",
       "      <td>27</td>\n",
       "      <td>5</td>\n",
       "      <td>15</td>\n",
       "      <td>0</td>\n",
       "      <td>1</td>\n",
       "      <td>30</td>\n",
       "      <td>10</td>\n",
       "      <td>30</td>\n",
       "    </tr>\n",
       "    <tr>\n",
       "      <th>3</th>\n",
       "      <td>Air Asia</td>\n",
       "      <td>Kolkata</td>\n",
       "      <td>Banglore</td>\n",
       "      <td>1 stop</td>\n",
       "      <td>9</td>\n",
       "      <td>5</td>\n",
       "      <td>22</td>\n",
       "      <td>40</td>\n",
       "      <td>10</td>\n",
       "      <td>40</td>\n",
       "      <td>12</td>\n",
       "      <td>0</td>\n",
       "    </tr>\n",
       "    <tr>\n",
       "      <th>4</th>\n",
       "      <td>Air India</td>\n",
       "      <td>Delhi</td>\n",
       "      <td>Cochin</td>\n",
       "      <td>2 stops</td>\n",
       "      <td>9</td>\n",
       "      <td>6</td>\n",
       "      <td>19</td>\n",
       "      <td>45</td>\n",
       "      <td>19</td>\n",
       "      <td>15</td>\n",
       "      <td>23</td>\n",
       "      <td>30</td>\n",
       "    </tr>\n",
       "    <tr>\n",
       "      <th>...</th>\n",
       "      <td>...</td>\n",
       "      <td>...</td>\n",
       "      <td>...</td>\n",
       "      <td>...</td>\n",
       "      <td>...</td>\n",
       "      <td>...</td>\n",
       "      <td>...</td>\n",
       "      <td>...</td>\n",
       "      <td>...</td>\n",
       "      <td>...</td>\n",
       "      <td>...</td>\n",
       "      <td>...</td>\n",
       "    </tr>\n",
       "    <tr>\n",
       "      <th>7473</th>\n",
       "      <td>Jet Airways</td>\n",
       "      <td>Delhi</td>\n",
       "      <td>Cochin</td>\n",
       "      <td>1 stop</td>\n",
       "      <td>27</td>\n",
       "      <td>3</td>\n",
       "      <td>9</td>\n",
       "      <td>0</td>\n",
       "      <td>4</td>\n",
       "      <td>25</td>\n",
       "      <td>19</td>\n",
       "      <td>25</td>\n",
       "    </tr>\n",
       "    <tr>\n",
       "      <th>7474</th>\n",
       "      <td>Jet Airways</td>\n",
       "      <td>Kolkata</td>\n",
       "      <td>Banglore</td>\n",
       "      <td>1 stop</td>\n",
       "      <td>9</td>\n",
       "      <td>5</td>\n",
       "      <td>14</td>\n",
       "      <td>5</td>\n",
       "      <td>20</td>\n",
       "      <td>45</td>\n",
       "      <td>6</td>\n",
       "      <td>40</td>\n",
       "    </tr>\n",
       "    <tr>\n",
       "      <th>7475</th>\n",
       "      <td>Multiple carriers</td>\n",
       "      <td>Delhi</td>\n",
       "      <td>Cochin</td>\n",
       "      <td>1 stop</td>\n",
       "      <td>15</td>\n",
       "      <td>5</td>\n",
       "      <td>12</td>\n",
       "      <td>50</td>\n",
       "      <td>1</td>\n",
       "      <td>30</td>\n",
       "      <td>12</td>\n",
       "      <td>40</td>\n",
       "    </tr>\n",
       "    <tr>\n",
       "      <th>7476</th>\n",
       "      <td>IndiGo</td>\n",
       "      <td>Banglore</td>\n",
       "      <td>New Delhi</td>\n",
       "      <td>non-stop</td>\n",
       "      <td>3</td>\n",
       "      <td>3</td>\n",
       "      <td>0</td>\n",
       "      <td>40</td>\n",
       "      <td>3</td>\n",
       "      <td>25</td>\n",
       "      <td>2</td>\n",
       "      <td>45</td>\n",
       "    </tr>\n",
       "    <tr>\n",
       "      <th>7477</th>\n",
       "      <td>Jet Airways</td>\n",
       "      <td>Delhi</td>\n",
       "      <td>Cochin</td>\n",
       "      <td>1 stop</td>\n",
       "      <td>1</td>\n",
       "      <td>6</td>\n",
       "      <td>13</td>\n",
       "      <td>0</td>\n",
       "      <td>4</td>\n",
       "      <td>25</td>\n",
       "      <td>15</td>\n",
       "      <td>25</td>\n",
       "    </tr>\n",
       "  </tbody>\n",
       "</table>\n",
       "<p>7478 rows × 12 columns</p>\n",
       "</div>"
      ],
      "text/plain": [
       "                Airline    Source Destination Total_Stops  journey_day  \\\n",
       "0           Jet Airways    Mumbai   Hyderabad    non-stop           27   \n",
       "1     Multiple carriers     Delhi      Cochin      1 stop            3   \n",
       "2     Multiple carriers     Delhi      Cochin      1 stop           27   \n",
       "3              Air Asia   Kolkata    Banglore      1 stop            9   \n",
       "4             Air India     Delhi      Cochin     2 stops            9   \n",
       "...                 ...       ...         ...         ...          ...   \n",
       "7473        Jet Airways     Delhi      Cochin      1 stop           27   \n",
       "7474        Jet Airways   Kolkata    Banglore      1 stop            9   \n",
       "7475  Multiple carriers     Delhi      Cochin      1 stop           15   \n",
       "7476             IndiGo  Banglore   New Delhi    non-stop            3   \n",
       "7477        Jet Airways     Delhi      Cochin      1 stop            1   \n",
       "\n",
       "      journey_month  Dep_hr  Dep_min  Arrival_hr  Arrival_min  Duration_hr  \\\n",
       "0                 6      10       20          11           50            1   \n",
       "1                 3       9       10          18           50            9   \n",
       "2                 5      15        0           1           30           10   \n",
       "3                 5      22       40          10           40           12   \n",
       "4                 6      19       45          19           15           23   \n",
       "...             ...     ...      ...         ...          ...          ...   \n",
       "7473              3       9        0           4           25           19   \n",
       "7474              5      14        5          20           45            6   \n",
       "7475              5      12       50           1           30           12   \n",
       "7476              3       0       40           3           25            2   \n",
       "7477              6      13        0           4           25           15   \n",
       "\n",
       "      Duration_min  \n",
       "0               30  \n",
       "1               40  \n",
       "2               30  \n",
       "3                0  \n",
       "4               30  \n",
       "...            ...  \n",
       "7473            25  \n",
       "7474            40  \n",
       "7475            40  \n",
       "7476            45  \n",
       "7477            25  \n",
       "\n",
       "[7478 rows x 12 columns]"
      ]
     },
     "execution_count": 220,
     "metadata": {},
     "output_type": "execute_result"
    }
   ],
   "source": [
    "c = FeatureGenerator(num_cols)\n",
    "c.fit(X)\n",
    "c.transform(X)"
   ]
  },
  {
   "cell_type": "code",
   "execution_count": null,
   "metadata": {},
   "outputs": [],
   "source": []
  },
  {
   "cell_type": "code",
   "execution_count": null,
   "metadata": {},
   "outputs": [],
   "source": []
  },
  {
   "cell_type": "code",
   "execution_count": 279,
   "metadata": {},
   "outputs": [],
   "source": [
    "cat_one = ['Airline','Source','Destination']\n",
    "num_cols = ['Dep_Time','Date_of_Journey','Arrival_Time','Duration']\n",
    "cat_label_coding = ['Total_Stops']\n",
    "\n",
    "num_pipeline = Pipeline(steps=[\n",
    "                ('feature_generator', FeatureGenerator(columns=num_cols)),\n",
    "                ('scaler', StandardScaler())\n",
    "            ]\n",
    "            )\n",
    "\n",
    "cat_pipeline = Pipeline(steps=[\n",
    "        ('one_hot_encoder', OneHotEncoder()),\n",
    "        ('scaler', StandardScaler(with_mean=False))\n",
    "]\n",
    ")\n",
    "\n",
    "\n",
    "preprocessing = ColumnTransformer(transformers = [\n",
    "                ('num_pipeline', num_pipeline, num_cols),\n",
    "                ('cat_pipeline', cat_pipeline, cat_one),\n",
    "                ('cat_label',cat_pipeline,cat_label_coding)\n",
    "            ])\n"
   ]
  },
  {
   "cell_type": "code",
   "execution_count": 274,
   "metadata": {},
   "outputs": [
    {
     "data": {
      "text/plain": [
       "array([[ 1.5826565 ,  1.10224748, -0.42808071, ...,  0.        ,\n",
       "         2.13489406,  0.        ],\n",
       "       [-1.25402435, -1.47195823, -0.60228552, ...,  0.        ,\n",
       "         0.        ,  0.        ],\n",
       "       [ 1.5826565 ,  0.24417891,  0.44294333, ...,  0.        ,\n",
       "         0.        ,  0.        ],\n",
       "       ...,\n",
       "       [ 0.16431607,  0.24417891, -0.07967109, ...,  0.        ,\n",
       "         0.        ,  0.        ],\n",
       "       [-1.25402435, -1.47195823, -2.17012879, ...,  0.        ,\n",
       "         2.13489406,  0.        ],\n",
       "       [-1.49041442,  1.10224748,  0.09453371, ...,  0.        ,\n",
       "         0.        ,  0.        ]])"
      ]
     },
     "execution_count": 274,
     "metadata": {},
     "output_type": "execute_result"
    }
   ],
   "source": [
    "preprocessing.fit(X)\n",
    "preprocessing.transform(X)"
   ]
  },
  {
   "cell_type": "code",
   "execution_count": 280,
   "metadata": {},
   "outputs": [
    {
     "data": {
      "text/plain": [
       "array([[ 1.5826565 ,  1.10224748, -0.42808071, ...,  0.        ,\n",
       "         2.13489406,  0.        ],\n",
       "       [-1.25402435, -1.47195823, -0.60228552, ...,  0.        ,\n",
       "         0.        ,  0.        ],\n",
       "       [ 1.5826565 ,  0.24417891,  0.44294333, ...,  0.        ,\n",
       "         0.        ,  0.        ],\n",
       "       ...,\n",
       "       [ 0.16431607,  0.24417891, -0.07967109, ...,  0.        ,\n",
       "         0.        ,  0.        ],\n",
       "       [-1.25402435, -1.47195823, -2.17012879, ...,  0.        ,\n",
       "         2.13489406,  0.        ],\n",
       "       [-1.49041442,  1.10224748,  0.09453371, ...,  0.        ,\n",
       "         0.        ,  0.        ]])"
      ]
     },
     "execution_count": 280,
     "metadata": {},
     "output_type": "execute_result"
    }
   ],
   "source": [
    "preprocessing.fit_transform(X)"
   ]
  },
  {
   "cell_type": "code",
   "execution_count": 2,
   "metadata": {},
   "outputs": [],
   "source": [
    "config = Configuration(CONFIG_FILE_PATH,CURRENT_TIME_STAMP)\n",
    "data_transformation = config.get_data_transformation_config()\n",
    "data_transformation.transformed_train_dir\n",
    "base_name = \"Flight_Fare_Prdiction.npz\"\n",
    "transformed_train_file_path = os.path.join(data_transformation.transformed_train_dir,base_name)"
   ]
  },
  {
   "cell_type": "code",
   "execution_count": 5,
   "metadata": {},
   "outputs": [
    {
     "data": {
      "text/plain": [
       "'f:\\\\Ineuron DS\\\\Internship\\\\FFP\\\\Flight_Fare_Predictions\\\\Flight_Fare\\\\artifact\\\\data_transformation\\\\2023-07-27-18-30-03\\\\preprocessed\\\\preprocessed.pkl'"
      ]
     },
     "execution_count": 5,
     "metadata": {},
     "output_type": "execute_result"
    }
   ],
   "source": [
    "data_transformation.preprocessed_object_file_path"
   ]
  },
  {
   "cell_type": "code",
   "execution_count": 35,
   "metadata": {},
   "outputs": [
    {
     "data": {
      "text/plain": [
       "'f:\\\\Ineuron DS\\\\Internship\\\\FFP\\\\Flight_Fare_Predictions\\\\Flight_Fare\\\\artifact\\\\model_trainer\\\\2023-07-27-01-19-40\\\\trained_model\\\\model.pkl'"
      ]
     },
     "execution_count": 35,
     "metadata": {},
     "output_type": "execute_result"
    }
   ],
   "source": [
    "model_trainer = config.get_model_trainer_config()\n",
    "model_trainer.trained_model_file_path"
   ]
  },
  {
   "cell_type": "code",
   "execution_count": 15,
   "metadata": {},
   "outputs": [
    {
     "data": {
      "text/html": [
       "<div>\n",
       "<style scoped>\n",
       "    .dataframe tbody tr th:only-of-type {\n",
       "        vertical-align: middle;\n",
       "    }\n",
       "\n",
       "    .dataframe tbody tr th {\n",
       "        vertical-align: top;\n",
       "    }\n",
       "\n",
       "    .dataframe thead th {\n",
       "        text-align: right;\n",
       "    }\n",
       "</style>\n",
       "<table border=\"1\" class=\"dataframe\">\n",
       "  <thead>\n",
       "    <tr style=\"text-align: right;\">\n",
       "      <th></th>\n",
       "      <th>0</th>\n",
       "    </tr>\n",
       "  </thead>\n",
       "  <tbody>\n",
       "    <tr>\n",
       "      <th>dt</th>\n",
       "      <td>5</td>\n",
       "    </tr>\n",
       "    <tr>\n",
       "      <th>rf</th>\n",
       "      <td>7</td>\n",
       "    </tr>\n",
       "    <tr>\n",
       "      <th>xg</th>\n",
       "      <td>9</td>\n",
       "    </tr>\n",
       "    <tr>\n",
       "      <th>ad</th>\n",
       "      <td>3</td>\n",
       "    </tr>\n",
       "    <tr>\n",
       "      <th>lr</th>\n",
       "      <td>2</td>\n",
       "    </tr>\n",
       "  </tbody>\n",
       "</table>\n",
       "</div>"
      ],
      "text/plain": [
       "    0\n",
       "dt  5\n",
       "rf  7\n",
       "xg  9\n",
       "ad  3\n",
       "lr  2"
      ]
     },
     "execution_count": 15,
     "metadata": {},
     "output_type": "execute_result"
    }
   ],
   "source": [
    "d = {'dt':5,'rf':7,\"xg\":9,\"ad\":3,\"lr\":2}\n",
    "\n",
    "scores = pd.DataFrame.from_dict(d,orient='index')\n",
    "\n",
    "best_model = scores[scores[0] == max(scores[0])].index[0]\n",
    "\n",
    "best_model_score = scores[scores[0] == max(scores[0])][0][0]"
   ]
  },
  {
   "cell_type": "code",
   "execution_count": 37,
   "metadata": {},
   "outputs": [
    {
     "data": {
      "text/plain": [
       "9"
      ]
     },
     "execution_count": 37,
     "metadata": {},
     "output_type": "execute_result"
    }
   ],
   "source": [
    "scores[scores[0] == max(scores[0])][0][0]\n",
    "\n",
    "d['xg']"
   ]
  },
  {
   "cell_type": "code",
   "execution_count": 1,
   "metadata": {},
   "outputs": [
    {
     "name": "stderr",
     "output_type": "stream",
     "text": [
      "f:\\Ineuron DS\\Internship\\FFP\\Flight_Fare_Predictions\\venv\\lib\\site-packages\\numpy\\_distributor_init.py:30: UserWarning: loaded more than 1 DLL from .libs:\n",
      "f:\\Ineuron DS\\Internship\\FFP\\Flight_Fare_Predictions\\venv\\lib\\site-packages\\numpy\\.libs\\libopenblas.FB5AE2TYXYH2IJRDKGDGQ3XBKLKTF43H.gfortran-win_amd64.dll\n",
      "f:\\Ineuron DS\\Internship\\FFP\\Flight_Fare_Predictions\\venv\\lib\\site-packages\\numpy\\.libs\\libopenblas64__v0.3.21-gcc_10_3_0.dll\n",
      "  warnings.warn(\"loaded more than 1 DLL from .libs:\"\n"
     ]
    },
    {
     "data": {
      "text/plain": [
       "0.6274765236618562"
      ]
     },
     "execution_count": 1,
     "metadata": {},
     "output_type": "execute_result"
    }
   ],
   "source": [
    "from Flight_Fare.util.util import evaluate_model\n",
    "\n"
   ]
  },
  {
   "cell_type": "code",
   "execution_count": 4,
   "metadata": {},
   "outputs": [
    {
     "data": {
      "text/plain": [
       "0.6274765236618562"
      ]
     },
     "execution_count": 4,
     "metadata": {},
     "output_type": "execute_result"
    }
   ],
   "source": [
    "import numpy as np\n",
    "\n",
    "c = float(np.float64(0.6274765236618562))\n",
    "\n",
    "(c)"
   ]
  },
  {
   "cell_type": "code",
   "execution_count": 22,
   "metadata": {},
   "outputs": [],
   "source": [
    "from Flight_Fare.util.util import *\n",
    "\n",
    "train_array = load_numpy_array_data(r\"Flight_Fare\\artifact\\data_transformation\\2023-07-27-17-27-50\\transformed_data\\train\\Flight_Fare_Prediction.npz\")\n",
    "test_array = load_numpy_array_data(r\"Flight_Fare\\artifact\\data_transformation\\2023-07-27-17-27-50\\transformed_data\\test\\Flight_Fare_Prediction.npz\")\n",
    "\n",
    "x_train,y_train,x_test,y_test = train_array[:,:-1],train_array[:,-1],test_array[:,:-1],test_array[:,-1]"
   ]
  },
  {
   "cell_type": "code",
   "execution_count": 24,
   "metadata": {},
   "outputs": [
    {
     "data": {
      "text/plain": [
       "{'Linear_reg': [2844.3057018441227, 2765.333528242964]}"
      ]
     },
     "execution_count": 24,
     "metadata": {},
     "output_type": "execute_result"
    }
   ],
   "source": [
    "from sklearn.linear_model import LinearRegression\n",
    "\n",
    "models = {'Linear_reg': LinearRegression()}\n",
    "            \n",
    "param = {'Linear_reg': {}}\n",
    "\n",
    "model_report,model_config,model_acc,model_rmse = evaluate_model(\n",
    "X_train=x_train,X_test=x_test,\n",
    "y_train=y_train,y_test=y_test,\n",
    "models=models,param =param )\n",
    "\n",
    "model_rmse"
   ]
  },
  {
   "cell_type": "code",
   "execution_count": 9,
   "metadata": {},
   "outputs": [
    {
     "data": {
      "text/plain": [
       "0.6244248627604682"
      ]
     },
     "execution_count": 9,
     "metadata": {},
     "output_type": "execute_result"
    }
   ],
   "source": [
    "import pandas as pd\n",
    "\n",
    "scores = pd.DataFrame.from_dict(model_report,orient='index')\n",
    "best_model = scores[scores[0] == max(scores[0])].index[0]\n",
    "best_model_score = scores[scores[0] == max(scores[0])][0][0]\n",
    "\n",
    "best_model_score"
   ]
  },
  {
   "cell_type": "code",
   "execution_count": 26,
   "metadata": {},
   "outputs": [],
   "source": [
    "best_model_config = model_config[best_model]\n",
    "model_accuracy = model_acc[best_model]\n",
    "best_model_rmse = model_rmse[best_model]"
   ]
  },
  {
   "cell_type": "code",
   "execution_count": 28,
   "metadata": {},
   "outputs": [
    {
     "data": {
      "text/plain": [
       "2844.3057018441227"
      ]
     },
     "execution_count": 28,
     "metadata": {},
     "output_type": "execute_result"
    }
   ],
   "source": [
    "best_model_rmse[0]"
   ]
  },
  {
   "cell_type": "code",
   "execution_count": 72,
   "metadata": {},
   "outputs": [],
   "source": [
    "from Flight_Fare.entity.artifact_entity import ModelTrainerArtifact\n",
    "from Flight_Fare.component.data_transformation import DataTransformation"
   ]
  },
  {
   "cell_type": "code",
   "execution_count": 41,
   "metadata": {},
   "outputs": [
    {
     "data": {
      "text/plain": [
       "Flight_Fare.entity.artifact_entity.ModelTrainerArtifact[7]"
      ]
     },
     "execution_count": 41,
     "metadata": {},
     "output_type": "execute_result"
    }
   ],
   "source": [
    "model_trainer_artifact[7]"
   ]
  },
  {
   "cell_type": "code",
   "execution_count": 16,
   "metadata": {},
   "outputs": [],
   "source": [
    "train_file_path = r\"Flight_Fare\\artifact\\data_ingestion\\2023-07-29-01-29-56\\ingested_data\\train\\Flight_Fare_Prediction.csv\"\n",
    "test_file_path = r\"Flight_Fare\\artifact\\data_ingestion\\2023-07-29-01-29-56\\ingested_data\\test\\Flight_Fare_Prediction.csv\"\n",
    "\n",
    "train_df = pd.read_csv(train_file_path)\n",
    "test_df = pd.read_csv(test_file_path)\n",
    "\n",
    "train_df.drop(['Additional_Info','Route'],inplace = True, axis = 1)\n",
    "test_df.drop(['Additional_Info','Route'],inplace = True, axis = 1)\n",
    "\n",
    "x = read_yaml_file(r\"F:\\Ineuron DS\\Internship\\FFP\\Flight_Fare_Predictions\\config\\schema.yaml\")\n",
    "target_column = x['target_column']\n",
    "\n",
    "y_train = np.array(train_df[target_column])\n",
    "y_test = np.array(test_df[target_column])\n",
    "\n",
    "train = train_df.drop(target_column,axis = 1)\n",
    "test = test_df.drop(target_column,axis = 1)\n",
    "\n",
    "X_train = np.array(train)\n",
    "X_test = np.array(test)"
   ]
  },
  {
   "cell_type": "code",
   "execution_count": 15,
   "metadata": {},
   "outputs": [
    {
     "data": {
      "text/html": [
       "<div>\n",
       "<style scoped>\n",
       "    .dataframe tbody tr th:only-of-type {\n",
       "        vertical-align: middle;\n",
       "    }\n",
       "\n",
       "    .dataframe tbody tr th {\n",
       "        vertical-align: top;\n",
       "    }\n",
       "\n",
       "    .dataframe thead th {\n",
       "        text-align: right;\n",
       "    }\n",
       "</style>\n",
       "<table border=\"1\" class=\"dataframe\">\n",
       "  <thead>\n",
       "    <tr style=\"text-align: right;\">\n",
       "      <th></th>\n",
       "      <th>Airline</th>\n",
       "      <th>Date_of_Journey</th>\n",
       "      <th>Source</th>\n",
       "      <th>Destination</th>\n",
       "      <th>Dep_Time</th>\n",
       "      <th>Arrival_Time</th>\n",
       "      <th>Duration</th>\n",
       "      <th>Total_Stops</th>\n",
       "      <th>Price</th>\n",
       "    </tr>\n",
       "  </thead>\n",
       "  <tbody>\n",
       "    <tr>\n",
       "      <th>0</th>\n",
       "      <td>Jet Airways</td>\n",
       "      <td>27/06/2019</td>\n",
       "      <td>Mumbai</td>\n",
       "      <td>Hyderabad</td>\n",
       "      <td>10:20</td>\n",
       "      <td>11:50</td>\n",
       "      <td>1h 30m</td>\n",
       "      <td>non-stop</td>\n",
       "      <td>8040</td>\n",
       "    </tr>\n",
       "    <tr>\n",
       "      <th>1</th>\n",
       "      <td>Multiple carriers</td>\n",
       "      <td>3/03/2019</td>\n",
       "      <td>Delhi</td>\n",
       "      <td>Cochin</td>\n",
       "      <td>09:10</td>\n",
       "      <td>18:50</td>\n",
       "      <td>9h 40m</td>\n",
       "      <td>1 stop</td>\n",
       "      <td>15135</td>\n",
       "    </tr>\n",
       "    <tr>\n",
       "      <th>2</th>\n",
       "      <td>Multiple carriers</td>\n",
       "      <td>27/05/2019</td>\n",
       "      <td>Delhi</td>\n",
       "      <td>Cochin</td>\n",
       "      <td>15:00</td>\n",
       "      <td>01:30 28 May</td>\n",
       "      <td>10h 30m</td>\n",
       "      <td>1 stop</td>\n",
       "      <td>13377</td>\n",
       "    </tr>\n",
       "    <tr>\n",
       "      <th>3</th>\n",
       "      <td>Air Asia</td>\n",
       "      <td>9/05/2019</td>\n",
       "      <td>Kolkata</td>\n",
       "      <td>Banglore</td>\n",
       "      <td>22:40</td>\n",
       "      <td>10:40 10 May</td>\n",
       "      <td>12h</td>\n",
       "      <td>1 stop</td>\n",
       "      <td>5192</td>\n",
       "    </tr>\n",
       "    <tr>\n",
       "      <th>4</th>\n",
       "      <td>Air India</td>\n",
       "      <td>9/06/2019</td>\n",
       "      <td>Delhi</td>\n",
       "      <td>Cochin</td>\n",
       "      <td>19:45</td>\n",
       "      <td>19:15 10 Jun</td>\n",
       "      <td>23h 30m</td>\n",
       "      <td>2 stops</td>\n",
       "      <td>9968</td>\n",
       "    </tr>\n",
       "    <tr>\n",
       "      <th>...</th>\n",
       "      <td>...</td>\n",
       "      <td>...</td>\n",
       "      <td>...</td>\n",
       "      <td>...</td>\n",
       "      <td>...</td>\n",
       "      <td>...</td>\n",
       "      <td>...</td>\n",
       "      <td>...</td>\n",
       "      <td>...</td>\n",
       "    </tr>\n",
       "    <tr>\n",
       "      <th>7473</th>\n",
       "      <td>Jet Airways</td>\n",
       "      <td>27/03/2019</td>\n",
       "      <td>Delhi</td>\n",
       "      <td>Cochin</td>\n",
       "      <td>09:00</td>\n",
       "      <td>04:25 28 Mar</td>\n",
       "      <td>19h 25m</td>\n",
       "      <td>1 stop</td>\n",
       "      <td>12242</td>\n",
       "    </tr>\n",
       "    <tr>\n",
       "      <th>7474</th>\n",
       "      <td>Jet Airways</td>\n",
       "      <td>9/05/2019</td>\n",
       "      <td>Kolkata</td>\n",
       "      <td>Banglore</td>\n",
       "      <td>14:05</td>\n",
       "      <td>20:45</td>\n",
       "      <td>6h 40m</td>\n",
       "      <td>1 stop</td>\n",
       "      <td>10844</td>\n",
       "    </tr>\n",
       "    <tr>\n",
       "      <th>7475</th>\n",
       "      <td>Multiple carriers</td>\n",
       "      <td>15/05/2019</td>\n",
       "      <td>Delhi</td>\n",
       "      <td>Cochin</td>\n",
       "      <td>12:50</td>\n",
       "      <td>01:30 16 May</td>\n",
       "      <td>12h 40m</td>\n",
       "      <td>1 stop</td>\n",
       "      <td>7670</td>\n",
       "    </tr>\n",
       "    <tr>\n",
       "      <th>7476</th>\n",
       "      <td>IndiGo</td>\n",
       "      <td>03/03/2019</td>\n",
       "      <td>Banglore</td>\n",
       "      <td>New Delhi</td>\n",
       "      <td>00:40</td>\n",
       "      <td>03:25</td>\n",
       "      <td>2h 45m</td>\n",
       "      <td>non-stop</td>\n",
       "      <td>6144</td>\n",
       "    </tr>\n",
       "    <tr>\n",
       "      <th>7477</th>\n",
       "      <td>Jet Airways</td>\n",
       "      <td>1/06/2019</td>\n",
       "      <td>Delhi</td>\n",
       "      <td>Cochin</td>\n",
       "      <td>13:00</td>\n",
       "      <td>04:25 02 Jun</td>\n",
       "      <td>15h 25m</td>\n",
       "      <td>1 stop</td>\n",
       "      <td>10262</td>\n",
       "    </tr>\n",
       "  </tbody>\n",
       "</table>\n",
       "<p>7478 rows × 9 columns</p>\n",
       "</div>"
      ],
      "text/plain": [
       "                Airline Date_of_Journey    Source Destination Dep_Time  \\\n",
       "0           Jet Airways      27/06/2019    Mumbai   Hyderabad    10:20   \n",
       "1     Multiple carriers       3/03/2019     Delhi      Cochin    09:10   \n",
       "2     Multiple carriers      27/05/2019     Delhi      Cochin    15:00   \n",
       "3              Air Asia       9/05/2019   Kolkata    Banglore    22:40   \n",
       "4             Air India       9/06/2019     Delhi      Cochin    19:45   \n",
       "...                 ...             ...       ...         ...      ...   \n",
       "7473        Jet Airways      27/03/2019     Delhi      Cochin    09:00   \n",
       "7474        Jet Airways       9/05/2019   Kolkata    Banglore    14:05   \n",
       "7475  Multiple carriers      15/05/2019     Delhi      Cochin    12:50   \n",
       "7476             IndiGo      03/03/2019  Banglore   New Delhi    00:40   \n",
       "7477        Jet Airways       1/06/2019     Delhi      Cochin    13:00   \n",
       "\n",
       "      Arrival_Time Duration Total_Stops  Price  \n",
       "0            11:50   1h 30m    non-stop   8040  \n",
       "1            18:50   9h 40m      1 stop  15135  \n",
       "2     01:30 28 May  10h 30m      1 stop  13377  \n",
       "3     10:40 10 May      12h      1 stop   5192  \n",
       "4     19:15 10 Jun  23h 30m     2 stops   9968  \n",
       "...            ...      ...         ...    ...  \n",
       "7473  04:25 28 Mar  19h 25m      1 stop  12242  \n",
       "7474         20:45   6h 40m      1 stop  10844  \n",
       "7475  01:30 16 May  12h 40m      1 stop   7670  \n",
       "7476         03:25   2h 45m    non-stop   6144  \n",
       "7477  04:25 02 Jun  15h 25m      1 stop  10262  \n",
       "\n",
       "[7478 rows x 9 columns]"
      ]
     },
     "execution_count": 15,
     "metadata": {},
     "output_type": "execute_result"
    }
   ],
   "source": [
    "[1,4,5,6]\n",
    "[0,2,3,7]"
   ]
  },
  {
   "cell_type": "code",
   "execution_count": 28,
   "metadata": {},
   "outputs": [],
   "source": [
    "config = Configuration()\n",
    "model_evaluation_file_path = config.get_model_evaluation_config().model_evaluation_file_path\n",
    "pickle_file = r\"Flight_Fare\\artifact\\model_trainer\\2023-07-29-01-45-16\\trained_model\\model.pkl\"\n",
    "mode_acc = 0.6244248627604682\n",
    "\n",
    "\n",
    "if os.path.exists(model_evaluation_file_path) == False:\n",
    "    data = {'best_model':\n",
    "            {'model_path': pickle_file,\n",
    "             'model_accuracy': mode_acc,\n",
    "             'time_stamp': CURRENT_TIME_STAMP\n",
    "            }\n",
    "        }\n",
    "    os.makedirs(os.path.dirname(model_evaluation_file_path),exist_ok=True)\n",
    "    with open(model_evaluation_file_path,\"w\") as file:\n",
    "        yaml.dump(data,file)\n",
    "\n",
    "with open(model_evaluation_file_path,\"r\") as file:\n",
    "    v = yaml.safe_load(file)\n",
    "\n",
    "\n"
   ]
  },
  {
   "cell_type": "code",
   "execution_count": 29,
   "metadata": {},
   "outputs": [
    {
     "name": "stdout",
     "output_type": "stream",
     "text": [
      "{'best_model': {'model_accuracy': 0.6244248627604682, 'model_path': 'Flight_Fare\\\\artifact\\\\model_trainer\\\\2023-07-29-01-45-16\\\\trained_model\\\\model.pkl', 'time_stamp': '2023-07-29-01-32-05'}}\n"
     ]
    }
   ],
   "source": [
    "print(v)"
   ]
  },
  {
   "cell_type": "code",
   "execution_count": 91,
   "metadata": {},
   "outputs": [],
   "source": [
    "config = Configuration()\n",
    "model_evaluation_file_path = r\"Flight_Fare\\artifact\\model_evaluation\\model_evaluation.yaml\"\n",
    "pickle_file = r\"Flight_Fare\\artifact\\model_trainer\\2023-07-29-01-29-56\\trained_model\\model.pkl\"\n",
    "mode_acc = 0.6244248627604682\n",
    "\n",
    "trained_modef_file_path = r\"Flight_Fare\\artifact\\model_trainer\\2023-07-29-01-45-16\\trained_model\\model.pkl\"\n",
    "model_accuracy = 0.7\n",
    "\n",
    "if os.path.exists(model_evaluation_file_path) == False:\n",
    "    data = {'best_model':\n",
    "            {'model_path': pickle_file,\n",
    "            'model_accuracy': model_accuracy,\n",
    "            'time_stamp': CURRENT_TIME_STAMP\n",
    "            }\n",
    "        }\n",
    "    os.makedirs(os.path.dirname(model_evaluation_file_path),exist_ok=True)\n",
    "    with open(model_evaluation_file_path,\"w\") as file:\n",
    "        yaml.dump(data,file)\n",
    "\n",
    "with open(model_evaluation_file_path, \"rb\") as file_obj:\n",
    "    model = yaml.safe_load(file_obj)\n",
    "    if model['best_model']['model_accuracy'] < model_accuracy:\n",
    "        data = {'best_model':\n",
    "            {'model_path': trained_modef_file_path,\n",
    "            'model_accuracy': model_accuracy,\n",
    "            'time_stamp': CURRENT_TIME_STAMP\n",
    "            }\n",
    "        }\n",
    "        yaml.dump(data,file)"
   ]
  },
  {
   "cell_type": "code",
   "execution_count": null,
   "metadata": {},
   "outputs": [],
   "source": [
    "if model['best_model']['model_accuracy'] < model_accuracy:\n",
    "        data = {'best_model':\n",
    "            {'model_path': trained_modef_file_path,\n",
    "            'model_accuracy': model_accuracy,\n",
    "            'time_stamp': CURRENT_TIME_STAMP\n",
    "            }\n",
    "        }\n",
    "        yaml.dump(data,file)"
   ]
  },
  {
   "cell_type": "code",
   "execution_count": 15,
   "metadata": {},
   "outputs": [
    {
     "ename": "FileNotFoundError",
     "evalue": "[Errno 2] No such file or directory: 'f:\\\\Ineuron DS\\\\Internship\\\\FFP\\\\Flight_Fare_Predictions\\\\Flight_Fare\\\\artifact\\\\model_trainer\\\\2023-07-29-23-39-24\\\\trained_model\\\\model.pkl'",
     "output_type": "error",
     "traceback": [
      "\u001b[1;31m---------------------------------------------------------------------------\u001b[0m",
      "\u001b[1;31mFileNotFoundError\u001b[0m                         Traceback (most recent call last)",
      "Cell \u001b[1;32mIn[15], line 13\u001b[0m\n\u001b[0;32m      9\u001b[0m export_model_file_path \u001b[39m=\u001b[39m os\u001b[39m.\u001b[39mpath\u001b[39m.\u001b[39mjoin(export_dir,model_file_name)\n\u001b[0;32m     11\u001b[0m os\u001b[39m.\u001b[39mmakedirs(export_model_file_path,exist_ok\u001b[39m=\u001b[39m\u001b[39mTrue\u001b[39;00m)\n\u001b[1;32m---> 13\u001b[0m shutil\u001b[39m.\u001b[39;49mcopy(evaluated_model_path,export_model_file_path)\n",
      "File \u001b[1;32mf:\\Ineuron DS\\Internship\\FFP\\Flight_Fare_Predictions\\venv\\lib\\shutil.py:415\u001b[0m, in \u001b[0;36mcopy\u001b[1;34m(src, dst, follow_symlinks)\u001b[0m\n\u001b[0;32m    413\u001b[0m \u001b[39mif\u001b[39;00m os\u001b[39m.\u001b[39mpath\u001b[39m.\u001b[39misdir(dst):\n\u001b[0;32m    414\u001b[0m     dst \u001b[39m=\u001b[39m os\u001b[39m.\u001b[39mpath\u001b[39m.\u001b[39mjoin(dst, os\u001b[39m.\u001b[39mpath\u001b[39m.\u001b[39mbasename(src))\n\u001b[1;32m--> 415\u001b[0m copyfile(src, dst, follow_symlinks\u001b[39m=\u001b[39;49mfollow_symlinks)\n\u001b[0;32m    416\u001b[0m copymode(src, dst, follow_symlinks\u001b[39m=\u001b[39mfollow_symlinks)\n\u001b[0;32m    417\u001b[0m \u001b[39mreturn\u001b[39;00m dst\n",
      "File \u001b[1;32mf:\\Ineuron DS\\Internship\\FFP\\Flight_Fare_Predictions\\venv\\lib\\shutil.py:261\u001b[0m, in \u001b[0;36mcopyfile\u001b[1;34m(src, dst, follow_symlinks)\u001b[0m\n\u001b[0;32m    259\u001b[0m     os\u001b[39m.\u001b[39msymlink(os\u001b[39m.\u001b[39mreadlink(src), dst)\n\u001b[0;32m    260\u001b[0m \u001b[39melse\u001b[39;00m:\n\u001b[1;32m--> 261\u001b[0m     \u001b[39mwith\u001b[39;00m \u001b[39mopen\u001b[39;49m(src, \u001b[39m'\u001b[39;49m\u001b[39mrb\u001b[39;49m\u001b[39m'\u001b[39;49m) \u001b[39mas\u001b[39;00m fsrc, \u001b[39mopen\u001b[39m(dst, \u001b[39m'\u001b[39m\u001b[39mwb\u001b[39m\u001b[39m'\u001b[39m) \u001b[39mas\u001b[39;00m fdst:\n\u001b[0;32m    262\u001b[0m         \u001b[39m# macOS\u001b[39;00m\n\u001b[0;32m    263\u001b[0m         \u001b[39mif\u001b[39;00m _HAS_FCOPYFILE:\n\u001b[0;32m    264\u001b[0m             \u001b[39mtry\u001b[39;00m:\n",
      "\u001b[1;31mFileNotFoundError\u001b[0m: [Errno 2] No such file or directory: 'f:\\\\Ineuron DS\\\\Internship\\\\FFP\\\\Flight_Fare_Predictions\\\\Flight_Fare\\\\artifact\\\\model_trainer\\\\2023-07-29-23-39-24\\\\trained_model\\\\model.pkl'"
     ]
    }
   ],
   "source": [
    "import shutil\n",
    "\n",
    "config = Configuration()\n",
    "\n",
    "evaluated_model_path = config.get_model_trainer_config().trained_model_file_path\n",
    "export_dir = config.get_model_pusher_config().export_dir_path\n",
    "model_file_name = os.path.basename(evaluated_model_path)\n",
    "\n",
    "export_model_file_path = os.path.join(export_dir,model_file_name)\n",
    "\n",
    "os.makedirs(export_model_file_path,exist_ok=True)\n",
    "\n",
    "shutil.copy(evaluated_model_path,export_model_file_path)"
   ]
  },
  {
   "cell_type": "code",
   "execution_count": 21,
   "metadata": {},
   "outputs": [
    {
     "name": "stdout",
     "output_type": "stream",
     "text": [
      "None None None None None None None None None None None \n"
     ]
    }
   ],
   "source": [
    "print(('None ' * 11))"
   ]
  },
  {
   "cell_type": "code",
   "execution_count": 28,
   "metadata": {},
   "outputs": [
    {
     "data": {
      "text/plain": [
       "'f:\\\\Ineuron DS\\\\Internship\\\\FFP\\\\Flight_Fare_Predictions\\\\Flight_Fare\\\\artifact\\\\experiment\\\\experiment.csv'"
      ]
     },
     "execution_count": 28,
     "metadata": {},
     "output_type": "execute_result"
    }
   ],
   "source": [
    "training_pipeline_file_path = config.get_training_pipeline_config().artifact_dir\n",
    "\n",
    "EXPERIMENT_DIR_NAME,EXPERIMENT_FILE_NAME\n",
    "\n",
    "experiment_file_path = os.path.join(training_pipeline_file_path,EXPERIMENT_DIR_NAME,EXPERIMENT_FILE_NAME)\n",
    "\n"
   ]
  },
  {
   "cell_type": "code",
   "execution_count": 29,
   "metadata": {},
   "outputs": [
    {
     "data": {
      "text/plain": [
       "'2023-07-29-23-39-24'"
      ]
     },
     "execution_count": 29,
     "metadata": {},
     "output_type": "execute_result"
    }
   ],
   "source": [
    "CURRENT_TIME_STAMP"
   ]
  },
  {
   "cell_type": "code",
   "execution_count": 30,
   "metadata": {},
   "outputs": [
    {
     "data": {
      "text/plain": [
       "'2023-07-29-23-39-24'"
      ]
     },
     "execution_count": 30,
     "metadata": {},
     "output_type": "execute_result"
    }
   ],
   "source": [
    "config.time_stamp"
   ]
  },
  {
   "cell_type": "code",
   "execution_count": 3,
   "metadata": {},
   "outputs": [
    {
     "data": {
      "text/plain": [
       "_tuplegetter(7, 'Alias for field number 7')"
      ]
     },
     "execution_count": 3,
     "metadata": {},
     "output_type": "execute_result"
    }
   ],
   "source": [
    "from Flight_Fare.entity.artifact_entity import ModelTrainerArtifact\n",
    "\n",
    "ModelTrainerArtifact.model_accuracy"
   ]
  },
  {
   "cell_type": "code",
   "execution_count": null,
   "metadata": {},
   "outputs": [],
   "source": []
  }
 ],
 "metadata": {
  "kernelspec": {
   "display_name": "Python 3",
   "language": "python",
   "name": "python3"
  },
  "language_info": {
   "codemirror_mode": {
    "name": "ipython",
    "version": 3
   },
   "file_extension": ".py",
   "mimetype": "text/x-python",
   "name": "python",
   "nbconvert_exporter": "python",
   "pygments_lexer": "ipython3",
   "version": "3.9.0"
  },
  "orig_nbformat": 4
 },
 "nbformat": 4,
 "nbformat_minor": 2
}
