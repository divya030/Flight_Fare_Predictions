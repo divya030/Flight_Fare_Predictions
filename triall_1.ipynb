{
 "cells": [
  {
   "cell_type": "code",
   "execution_count": 1,
   "metadata": {},
   "outputs": [
    {
     "name": "stderr",
     "output_type": "stream",
     "text": [
      "f:\\Ineuron DS\\Internship\\FFP\\Flight_Fare_Predictions\\venv\\lib\\site-packages\\numpy\\_distributor_init.py:30: UserWarning: loaded more than 1 DLL from .libs:\n",
      "f:\\Ineuron DS\\Internship\\FFP\\Flight_Fare_Predictions\\venv\\lib\\site-packages\\numpy\\.libs\\libopenblas.FB5AE2TYXYH2IJRDKGDGQ3XBKLKTF43H.gfortran-win_amd64.dll\n",
      "f:\\Ineuron DS\\Internship\\FFP\\Flight_Fare_Predictions\\venv\\lib\\site-packages\\numpy\\.libs\\libopenblas64__v0.3.21-gcc_10_3_0.dll\n",
      "  warnings.warn(\"loaded more than 1 DLL from .libs:\"\n"
     ]
    }
   ],
   "source": [
    "import os\n",
    "import sys\n",
    "from Flight_Fare.exception import CustomException\n",
    "from Flight_Fare.logger import logging\n",
    "from Flight_Fare.config.configuration import Configuration\n",
    "from Flight_Fare.entity.artifact_entity import *\n",
    "from Flight_Fare.entity.config_entity import *\n",
    "from Flight_Fare.constant import *\n",
    "from Flight_Fare.util.util import *\n",
    "from sklearn.impute import SimpleImputer\n",
    "\n",
    "from sklearn.base import BaseEstimator,TransformerMixin\n",
    "from sklearn.compose import ColumnTransformer\n",
    "from sklearn.preprocessing import StandardScaler,OneHotEncoder,LabelEncoder\n",
    "from sklearn.pipeline import Pipeline\n",
    "import pandas as pd "
   ]
  },
  {
   "cell_type": "code",
   "execution_count": null,
   "metadata": {},
   "outputs": [],
   "source": []
  },
  {
   "cell_type": "code",
   "execution_count": null,
   "metadata": {},
   "outputs": [],
   "source": []
  },
  {
   "cell_type": "code",
   "execution_count": null,
   "metadata": {},
   "outputs": [],
   "source": []
  },
  {
   "cell_type": "code",
   "execution_count": 41,
   "metadata": {},
   "outputs": [],
   "source": [
    "import pickle as pkl"
   ]
  },
  {
   "cell_type": "code",
   "execution_count": 275,
   "metadata": {},
   "outputs": [],
   "source": [
    "train_df = pd.read_csv(r\"Flight_Fare\\artifact\\data_ingestion\\2023-07-25-01-27-30\\ingested_data\\train\\Flight_Fare_Prediction.csv\")\n",
    "test_df = pd.read_csv(r\"Flight_Fare\\artifact\\data_ingestion\\2023-07-25-01-27-30\\ingested_data\\test\\Flight_Fare_Prediction.csv\")"
   ]
  },
  {
   "cell_type": "code",
   "execution_count": 276,
   "metadata": {},
   "outputs": [],
   "source": [
    "X = train_df.drop(['Price','Additional_Info','Route'],axis = 1)"
   ]
  },
  {
   "cell_type": "code",
   "execution_count": 277,
   "metadata": {},
   "outputs": [
    {
     "data": {
      "text/html": [
       "<div>\n",
       "<style scoped>\n",
       "    .dataframe tbody tr th:only-of-type {\n",
       "        vertical-align: middle;\n",
       "    }\n",
       "\n",
       "    .dataframe tbody tr th {\n",
       "        vertical-align: top;\n",
       "    }\n",
       "\n",
       "    .dataframe thead th {\n",
       "        text-align: right;\n",
       "    }\n",
       "</style>\n",
       "<table border=\"1\" class=\"dataframe\">\n",
       "  <thead>\n",
       "    <tr style=\"text-align: right;\">\n",
       "      <th></th>\n",
       "      <th>Airline</th>\n",
       "      <th>Date_of_Journey</th>\n",
       "      <th>Source</th>\n",
       "      <th>Destination</th>\n",
       "      <th>Dep_Time</th>\n",
       "      <th>Arrival_Time</th>\n",
       "      <th>Duration</th>\n",
       "      <th>Total_Stops</th>\n",
       "    </tr>\n",
       "  </thead>\n",
       "  <tbody>\n",
       "    <tr>\n",
       "      <th>0</th>\n",
       "      <td>Jet Airways</td>\n",
       "      <td>27/06/2019</td>\n",
       "      <td>Mumbai</td>\n",
       "      <td>Hyderabad</td>\n",
       "      <td>10:20</td>\n",
       "      <td>11:50</td>\n",
       "      <td>1h 30m</td>\n",
       "      <td>non-stop</td>\n",
       "    </tr>\n",
       "    <tr>\n",
       "      <th>1</th>\n",
       "      <td>Multiple carriers</td>\n",
       "      <td>3/03/2019</td>\n",
       "      <td>Delhi</td>\n",
       "      <td>Cochin</td>\n",
       "      <td>09:10</td>\n",
       "      <td>18:50</td>\n",
       "      <td>9h 40m</td>\n",
       "      <td>1 stop</td>\n",
       "    </tr>\n",
       "    <tr>\n",
       "      <th>2</th>\n",
       "      <td>Multiple carriers</td>\n",
       "      <td>27/05/2019</td>\n",
       "      <td>Delhi</td>\n",
       "      <td>Cochin</td>\n",
       "      <td>15:00</td>\n",
       "      <td>01:30 28 May</td>\n",
       "      <td>10h 30m</td>\n",
       "      <td>1 stop</td>\n",
       "    </tr>\n",
       "    <tr>\n",
       "      <th>3</th>\n",
       "      <td>Air Asia</td>\n",
       "      <td>9/05/2019</td>\n",
       "      <td>Kolkata</td>\n",
       "      <td>Banglore</td>\n",
       "      <td>22:40</td>\n",
       "      <td>10:40 10 May</td>\n",
       "      <td>12h</td>\n",
       "      <td>1 stop</td>\n",
       "    </tr>\n",
       "    <tr>\n",
       "      <th>4</th>\n",
       "      <td>Air India</td>\n",
       "      <td>9/06/2019</td>\n",
       "      <td>Delhi</td>\n",
       "      <td>Cochin</td>\n",
       "      <td>19:45</td>\n",
       "      <td>19:15 10 Jun</td>\n",
       "      <td>23h 30m</td>\n",
       "      <td>2 stops</td>\n",
       "    </tr>\n",
       "    <tr>\n",
       "      <th>...</th>\n",
       "      <td>...</td>\n",
       "      <td>...</td>\n",
       "      <td>...</td>\n",
       "      <td>...</td>\n",
       "      <td>...</td>\n",
       "      <td>...</td>\n",
       "      <td>...</td>\n",
       "      <td>...</td>\n",
       "    </tr>\n",
       "    <tr>\n",
       "      <th>7473</th>\n",
       "      <td>Jet Airways</td>\n",
       "      <td>27/03/2019</td>\n",
       "      <td>Delhi</td>\n",
       "      <td>Cochin</td>\n",
       "      <td>09:00</td>\n",
       "      <td>04:25 28 Mar</td>\n",
       "      <td>19h 25m</td>\n",
       "      <td>1 stop</td>\n",
       "    </tr>\n",
       "    <tr>\n",
       "      <th>7474</th>\n",
       "      <td>Jet Airways</td>\n",
       "      <td>9/05/2019</td>\n",
       "      <td>Kolkata</td>\n",
       "      <td>Banglore</td>\n",
       "      <td>14:05</td>\n",
       "      <td>20:45</td>\n",
       "      <td>6h 40m</td>\n",
       "      <td>1 stop</td>\n",
       "    </tr>\n",
       "    <tr>\n",
       "      <th>7475</th>\n",
       "      <td>Multiple carriers</td>\n",
       "      <td>15/05/2019</td>\n",
       "      <td>Delhi</td>\n",
       "      <td>Cochin</td>\n",
       "      <td>12:50</td>\n",
       "      <td>01:30 16 May</td>\n",
       "      <td>12h 40m</td>\n",
       "      <td>1 stop</td>\n",
       "    </tr>\n",
       "    <tr>\n",
       "      <th>7476</th>\n",
       "      <td>IndiGo</td>\n",
       "      <td>03/03/2019</td>\n",
       "      <td>Banglore</td>\n",
       "      <td>New Delhi</td>\n",
       "      <td>00:40</td>\n",
       "      <td>03:25</td>\n",
       "      <td>2h 45m</td>\n",
       "      <td>non-stop</td>\n",
       "    </tr>\n",
       "    <tr>\n",
       "      <th>7477</th>\n",
       "      <td>Jet Airways</td>\n",
       "      <td>1/06/2019</td>\n",
       "      <td>Delhi</td>\n",
       "      <td>Cochin</td>\n",
       "      <td>13:00</td>\n",
       "      <td>04:25 02 Jun</td>\n",
       "      <td>15h 25m</td>\n",
       "      <td>1 stop</td>\n",
       "    </tr>\n",
       "  </tbody>\n",
       "</table>\n",
       "<p>7478 rows × 8 columns</p>\n",
       "</div>"
      ],
      "text/plain": [
       "                Airline Date_of_Journey    Source Destination Dep_Time  \\\n",
       "0           Jet Airways      27/06/2019    Mumbai   Hyderabad    10:20   \n",
       "1     Multiple carriers       3/03/2019     Delhi      Cochin    09:10   \n",
       "2     Multiple carriers      27/05/2019     Delhi      Cochin    15:00   \n",
       "3              Air Asia       9/05/2019   Kolkata    Banglore    22:40   \n",
       "4             Air India       9/06/2019     Delhi      Cochin    19:45   \n",
       "...                 ...             ...       ...         ...      ...   \n",
       "7473        Jet Airways      27/03/2019     Delhi      Cochin    09:00   \n",
       "7474        Jet Airways       9/05/2019   Kolkata    Banglore    14:05   \n",
       "7475  Multiple carriers      15/05/2019     Delhi      Cochin    12:50   \n",
       "7476             IndiGo      03/03/2019  Banglore   New Delhi    00:40   \n",
       "7477        Jet Airways       1/06/2019     Delhi      Cochin    13:00   \n",
       "\n",
       "      Arrival_Time Duration Total_Stops  \n",
       "0            11:50   1h 30m    non-stop  \n",
       "1            18:50   9h 40m      1 stop  \n",
       "2     01:30 28 May  10h 30m      1 stop  \n",
       "3     10:40 10 May      12h      1 stop  \n",
       "4     19:15 10 Jun  23h 30m     2 stops  \n",
       "...            ...      ...         ...  \n",
       "7473  04:25 28 Mar  19h 25m      1 stop  \n",
       "7474         20:45   6h 40m      1 stop  \n",
       "7475  01:30 16 May  12h 40m      1 stop  \n",
       "7476         03:25   2h 45m    non-stop  \n",
       "7477  04:25 02 Jun  15h 25m      1 stop  \n",
       "\n",
       "[7478 rows x 8 columns]"
      ]
     },
     "execution_count": 277,
     "metadata": {},
     "output_type": "execute_result"
    }
   ],
   "source": [
    "X"
   ]
  },
  {
   "cell_type": "code",
   "execution_count": 278,
   "metadata": {},
   "outputs": [],
   "source": [
    "num_cols = ['Dep_Time','Date_of_Journey','Arrival_Time','Duration']\n",
    "\n",
    "\n",
    "class FeatureGenerator(BaseEstimator,TransformerMixin):\n",
    "\n",
    "    def __init__(self,columns):\n",
    "        self.columns = columns\n",
    "\n",
    "    def fit(self,X,y=None):\n",
    "        return self\n",
    "\n",
    "    def transform(self,X,y=None):\n",
    "        \n",
    "            X['journey_day'] = X['Date_of_Journey'].str.split('/').str[0].astype(int)\n",
    "            X['journey_month'] = X['Date_of_Journey'].str.split('/').str[1].str[1].astype(int)\n",
    "\n",
    "        \n",
    "            X['Dep_hr'] = X['Dep_Time'].str.split(':').str[0].astype(int)\n",
    "            X['Dep_min'] = X['Dep_Time'].str.split(':').str[1].astype(int)\n",
    "\n",
    "            X['Arrival_hr'] = X['Arrival_Time'].str.split(\" \").str[0].str.split(':').str[0].astype(int)\n",
    "            X['Arrival_min'] = X['Arrival_Time'].str.split(\" \").str[0].str.split(':').str[1].astype(int)\n",
    "\n",
    "            X['Duration_hr'] = 0\n",
    "            X['Duration_min'] = 0\n",
    "        \n",
    "            \n",
    "\n",
    "            duration = list(X['Duration'])\n",
    "\n",
    "            for i in range(len(duration)):\n",
    "                if 'h' not in duration[i]:\n",
    "                    duration[i] = '0h ' + duration[i]\n",
    "                    \n",
    "                if 'm' not in duration[i]:\n",
    "                    duration[i] = duration[i] + ' 0m'\n",
    "                    \n",
    "            for i in range(len(duration)):\n",
    "                hr = int(duration[i].split(\"h\")[0])\n",
    "                min_ = int(duration[i].split(\" \")[1].split(\"m\")[0])\n",
    "                X['Duration_hr'][i] = hr\n",
    "                X['Duration_min'][i] = min_\n",
    "\n",
    "            X['Duration_min'].fillna(0,inplace = True)\n",
    "\n",
    "            X.drop(num_cols,inplace = True,axis =1 )\n",
    "            \n",
    "            return X"
   ]
  },
  {
   "cell_type": "code",
   "execution_count": 220,
   "metadata": {},
   "outputs": [
    {
     "data": {
      "text/html": [
       "<div>\n",
       "<style scoped>\n",
       "    .dataframe tbody tr th:only-of-type {\n",
       "        vertical-align: middle;\n",
       "    }\n",
       "\n",
       "    .dataframe tbody tr th {\n",
       "        vertical-align: top;\n",
       "    }\n",
       "\n",
       "    .dataframe thead th {\n",
       "        text-align: right;\n",
       "    }\n",
       "</style>\n",
       "<table border=\"1\" class=\"dataframe\">\n",
       "  <thead>\n",
       "    <tr style=\"text-align: right;\">\n",
       "      <th></th>\n",
       "      <th>Airline</th>\n",
       "      <th>Source</th>\n",
       "      <th>Destination</th>\n",
       "      <th>Total_Stops</th>\n",
       "      <th>journey_day</th>\n",
       "      <th>journey_month</th>\n",
       "      <th>Dep_hr</th>\n",
       "      <th>Dep_min</th>\n",
       "      <th>Arrival_hr</th>\n",
       "      <th>Arrival_min</th>\n",
       "      <th>Duration_hr</th>\n",
       "      <th>Duration_min</th>\n",
       "    </tr>\n",
       "  </thead>\n",
       "  <tbody>\n",
       "    <tr>\n",
       "      <th>0</th>\n",
       "      <td>Jet Airways</td>\n",
       "      <td>Mumbai</td>\n",
       "      <td>Hyderabad</td>\n",
       "      <td>non-stop</td>\n",
       "      <td>27</td>\n",
       "      <td>6</td>\n",
       "      <td>10</td>\n",
       "      <td>20</td>\n",
       "      <td>11</td>\n",
       "      <td>50</td>\n",
       "      <td>1</td>\n",
       "      <td>30</td>\n",
       "    </tr>\n",
       "    <tr>\n",
       "      <th>1</th>\n",
       "      <td>Multiple carriers</td>\n",
       "      <td>Delhi</td>\n",
       "      <td>Cochin</td>\n",
       "      <td>1 stop</td>\n",
       "      <td>3</td>\n",
       "      <td>3</td>\n",
       "      <td>9</td>\n",
       "      <td>10</td>\n",
       "      <td>18</td>\n",
       "      <td>50</td>\n",
       "      <td>9</td>\n",
       "      <td>40</td>\n",
       "    </tr>\n",
       "    <tr>\n",
       "      <th>2</th>\n",
       "      <td>Multiple carriers</td>\n",
       "      <td>Delhi</td>\n",
       "      <td>Cochin</td>\n",
       "      <td>1 stop</td>\n",
       "      <td>27</td>\n",
       "      <td>5</td>\n",
       "      <td>15</td>\n",
       "      <td>0</td>\n",
       "      <td>1</td>\n",
       "      <td>30</td>\n",
       "      <td>10</td>\n",
       "      <td>30</td>\n",
       "    </tr>\n",
       "    <tr>\n",
       "      <th>3</th>\n",
       "      <td>Air Asia</td>\n",
       "      <td>Kolkata</td>\n",
       "      <td>Banglore</td>\n",
       "      <td>1 stop</td>\n",
       "      <td>9</td>\n",
       "      <td>5</td>\n",
       "      <td>22</td>\n",
       "      <td>40</td>\n",
       "      <td>10</td>\n",
       "      <td>40</td>\n",
       "      <td>12</td>\n",
       "      <td>0</td>\n",
       "    </tr>\n",
       "    <tr>\n",
       "      <th>4</th>\n",
       "      <td>Air India</td>\n",
       "      <td>Delhi</td>\n",
       "      <td>Cochin</td>\n",
       "      <td>2 stops</td>\n",
       "      <td>9</td>\n",
       "      <td>6</td>\n",
       "      <td>19</td>\n",
       "      <td>45</td>\n",
       "      <td>19</td>\n",
       "      <td>15</td>\n",
       "      <td>23</td>\n",
       "      <td>30</td>\n",
       "    </tr>\n",
       "    <tr>\n",
       "      <th>...</th>\n",
       "      <td>...</td>\n",
       "      <td>...</td>\n",
       "      <td>...</td>\n",
       "      <td>...</td>\n",
       "      <td>...</td>\n",
       "      <td>...</td>\n",
       "      <td>...</td>\n",
       "      <td>...</td>\n",
       "      <td>...</td>\n",
       "      <td>...</td>\n",
       "      <td>...</td>\n",
       "      <td>...</td>\n",
       "    </tr>\n",
       "    <tr>\n",
       "      <th>7473</th>\n",
       "      <td>Jet Airways</td>\n",
       "      <td>Delhi</td>\n",
       "      <td>Cochin</td>\n",
       "      <td>1 stop</td>\n",
       "      <td>27</td>\n",
       "      <td>3</td>\n",
       "      <td>9</td>\n",
       "      <td>0</td>\n",
       "      <td>4</td>\n",
       "      <td>25</td>\n",
       "      <td>19</td>\n",
       "      <td>25</td>\n",
       "    </tr>\n",
       "    <tr>\n",
       "      <th>7474</th>\n",
       "      <td>Jet Airways</td>\n",
       "      <td>Kolkata</td>\n",
       "      <td>Banglore</td>\n",
       "      <td>1 stop</td>\n",
       "      <td>9</td>\n",
       "      <td>5</td>\n",
       "      <td>14</td>\n",
       "      <td>5</td>\n",
       "      <td>20</td>\n",
       "      <td>45</td>\n",
       "      <td>6</td>\n",
       "      <td>40</td>\n",
       "    </tr>\n",
       "    <tr>\n",
       "      <th>7475</th>\n",
       "      <td>Multiple carriers</td>\n",
       "      <td>Delhi</td>\n",
       "      <td>Cochin</td>\n",
       "      <td>1 stop</td>\n",
       "      <td>15</td>\n",
       "      <td>5</td>\n",
       "      <td>12</td>\n",
       "      <td>50</td>\n",
       "      <td>1</td>\n",
       "      <td>30</td>\n",
       "      <td>12</td>\n",
       "      <td>40</td>\n",
       "    </tr>\n",
       "    <tr>\n",
       "      <th>7476</th>\n",
       "      <td>IndiGo</td>\n",
       "      <td>Banglore</td>\n",
       "      <td>New Delhi</td>\n",
       "      <td>non-stop</td>\n",
       "      <td>3</td>\n",
       "      <td>3</td>\n",
       "      <td>0</td>\n",
       "      <td>40</td>\n",
       "      <td>3</td>\n",
       "      <td>25</td>\n",
       "      <td>2</td>\n",
       "      <td>45</td>\n",
       "    </tr>\n",
       "    <tr>\n",
       "      <th>7477</th>\n",
       "      <td>Jet Airways</td>\n",
       "      <td>Delhi</td>\n",
       "      <td>Cochin</td>\n",
       "      <td>1 stop</td>\n",
       "      <td>1</td>\n",
       "      <td>6</td>\n",
       "      <td>13</td>\n",
       "      <td>0</td>\n",
       "      <td>4</td>\n",
       "      <td>25</td>\n",
       "      <td>15</td>\n",
       "      <td>25</td>\n",
       "    </tr>\n",
       "  </tbody>\n",
       "</table>\n",
       "<p>7478 rows × 12 columns</p>\n",
       "</div>"
      ],
      "text/plain": [
       "                Airline    Source Destination Total_Stops  journey_day  \\\n",
       "0           Jet Airways    Mumbai   Hyderabad    non-stop           27   \n",
       "1     Multiple carriers     Delhi      Cochin      1 stop            3   \n",
       "2     Multiple carriers     Delhi      Cochin      1 stop           27   \n",
       "3              Air Asia   Kolkata    Banglore      1 stop            9   \n",
       "4             Air India     Delhi      Cochin     2 stops            9   \n",
       "...                 ...       ...         ...         ...          ...   \n",
       "7473        Jet Airways     Delhi      Cochin      1 stop           27   \n",
       "7474        Jet Airways   Kolkata    Banglore      1 stop            9   \n",
       "7475  Multiple carriers     Delhi      Cochin      1 stop           15   \n",
       "7476             IndiGo  Banglore   New Delhi    non-stop            3   \n",
       "7477        Jet Airways     Delhi      Cochin      1 stop            1   \n",
       "\n",
       "      journey_month  Dep_hr  Dep_min  Arrival_hr  Arrival_min  Duration_hr  \\\n",
       "0                 6      10       20          11           50            1   \n",
       "1                 3       9       10          18           50            9   \n",
       "2                 5      15        0           1           30           10   \n",
       "3                 5      22       40          10           40           12   \n",
       "4                 6      19       45          19           15           23   \n",
       "...             ...     ...      ...         ...          ...          ...   \n",
       "7473              3       9        0           4           25           19   \n",
       "7474              5      14        5          20           45            6   \n",
       "7475              5      12       50           1           30           12   \n",
       "7476              3       0       40           3           25            2   \n",
       "7477              6      13        0           4           25           15   \n",
       "\n",
       "      Duration_min  \n",
       "0               30  \n",
       "1               40  \n",
       "2               30  \n",
       "3                0  \n",
       "4               30  \n",
       "...            ...  \n",
       "7473            25  \n",
       "7474            40  \n",
       "7475            40  \n",
       "7476            45  \n",
       "7477            25  \n",
       "\n",
       "[7478 rows x 12 columns]"
      ]
     },
     "execution_count": 220,
     "metadata": {},
     "output_type": "execute_result"
    }
   ],
   "source": [
    "c = FeatureGenerator(num_cols)\n",
    "c.fit(X)\n",
    "c.transform(X)"
   ]
  },
  {
   "cell_type": "code",
   "execution_count": null,
   "metadata": {},
   "outputs": [],
   "source": []
  },
  {
   "cell_type": "code",
   "execution_count": null,
   "metadata": {},
   "outputs": [],
   "source": []
  },
  {
   "cell_type": "code",
   "execution_count": 279,
   "metadata": {},
   "outputs": [],
   "source": [
    "cat_one = ['Airline','Source','Destination']\n",
    "num_cols = ['Dep_Time','Date_of_Journey','Arrival_Time','Duration']\n",
    "cat_label_coding = ['Total_Stops']\n",
    "\n",
    "num_pipeline = Pipeline(steps=[\n",
    "                ('feature_generator', FeatureGenerator(columns=num_cols)),\n",
    "                ('scaler', StandardScaler())\n",
    "            ]\n",
    "            )\n",
    "\n",
    "cat_pipeline = Pipeline(steps=[\n",
    "        ('one_hot_encoder', OneHotEncoder()),\n",
    "        ('scaler', StandardScaler(with_mean=False))\n",
    "]\n",
    ")\n",
    "\n",
    "\n",
    "preprocessing = ColumnTransformer(transformers = [\n",
    "                ('num_pipeline', num_pipeline, num_cols),\n",
    "                ('cat_pipeline', cat_pipeline, cat_one),\n",
    "                ('cat_label',cat_pipeline,cat_label_coding)\n",
    "            ])\n"
   ]
  },
  {
   "cell_type": "code",
   "execution_count": 274,
   "metadata": {},
   "outputs": [
    {
     "data": {
      "text/plain": [
       "array([[ 1.5826565 ,  1.10224748, -0.42808071, ...,  0.        ,\n",
       "         2.13489406,  0.        ],\n",
       "       [-1.25402435, -1.47195823, -0.60228552, ...,  0.        ,\n",
       "         0.        ,  0.        ],\n",
       "       [ 1.5826565 ,  0.24417891,  0.44294333, ...,  0.        ,\n",
       "         0.        ,  0.        ],\n",
       "       ...,\n",
       "       [ 0.16431607,  0.24417891, -0.07967109, ...,  0.        ,\n",
       "         0.        ,  0.        ],\n",
       "       [-1.25402435, -1.47195823, -2.17012879, ...,  0.        ,\n",
       "         2.13489406,  0.        ],\n",
       "       [-1.49041442,  1.10224748,  0.09453371, ...,  0.        ,\n",
       "         0.        ,  0.        ]])"
      ]
     },
     "execution_count": 274,
     "metadata": {},
     "output_type": "execute_result"
    }
   ],
   "source": [
    "preprocessing.fit(X)\n",
    "preprocessing.transform(X)"
   ]
  },
  {
   "cell_type": "code",
   "execution_count": 280,
   "metadata": {},
   "outputs": [
    {
     "data": {
      "text/plain": [
       "array([[ 1.5826565 ,  1.10224748, -0.42808071, ...,  0.        ,\n",
       "         2.13489406,  0.        ],\n",
       "       [-1.25402435, -1.47195823, -0.60228552, ...,  0.        ,\n",
       "         0.        ,  0.        ],\n",
       "       [ 1.5826565 ,  0.24417891,  0.44294333, ...,  0.        ,\n",
       "         0.        ,  0.        ],\n",
       "       ...,\n",
       "       [ 0.16431607,  0.24417891, -0.07967109, ...,  0.        ,\n",
       "         0.        ,  0.        ],\n",
       "       [-1.25402435, -1.47195823, -2.17012879, ...,  0.        ,\n",
       "         2.13489406,  0.        ],\n",
       "       [-1.49041442,  1.10224748,  0.09453371, ...,  0.        ,\n",
       "         0.        ,  0.        ]])"
      ]
     },
     "execution_count": 280,
     "metadata": {},
     "output_type": "execute_result"
    }
   ],
   "source": [
    "preprocessing.fit_transform(X)"
   ]
  },
  {
   "cell_type": "code",
   "execution_count": 2,
   "metadata": {},
   "outputs": [],
   "source": [
    "config = Configuration(CONFIG_FILE_PATH,CURRENT_TIME_STAMP)\n",
    "data_transformation = config.get_data_transformation_config()\n",
    "data_transformation.transformed_train_dir\n",
    "base_name = \"Flight_Fare_Prdiction.npz\"\n",
    "transformed_train_file_path = os.path.join(data_transformation.transformed_train_dir,base_name)"
   ]
  },
  {
   "cell_type": "code",
   "execution_count": 5,
   "metadata": {},
   "outputs": [
    {
     "data": {
      "text/plain": [
       "'f:\\\\Ineuron DS\\\\Internship\\\\FFP\\\\Flight_Fare_Predictions\\\\Flight_Fare\\\\artifact\\\\data_transformation\\\\2023-07-27-18-30-03\\\\preprocessed\\\\preprocessed.pkl'"
      ]
     },
     "execution_count": 5,
     "metadata": {},
     "output_type": "execute_result"
    }
   ],
   "source": [
    "data_transformation.preprocessed_object_file_path"
   ]
  },
  {
   "cell_type": "code",
   "execution_count": 35,
   "metadata": {},
   "outputs": [
    {
     "data": {
      "text/plain": [
       "'f:\\\\Ineuron DS\\\\Internship\\\\FFP\\\\Flight_Fare_Predictions\\\\Flight_Fare\\\\artifact\\\\model_trainer\\\\2023-07-27-01-19-40\\\\trained_model\\\\model.pkl'"
      ]
     },
     "execution_count": 35,
     "metadata": {},
     "output_type": "execute_result"
    }
   ],
   "source": [
    "model_trainer = config.get_model_trainer_config()\n",
    "model_trainer.trained_model_file_path"
   ]
  },
  {
   "cell_type": "code",
   "execution_count": 15,
   "metadata": {},
   "outputs": [
    {
     "data": {
      "text/html": [
       "<div>\n",
       "<style scoped>\n",
       "    .dataframe tbody tr th:only-of-type {\n",
       "        vertical-align: middle;\n",
       "    }\n",
       "\n",
       "    .dataframe tbody tr th {\n",
       "        vertical-align: top;\n",
       "    }\n",
       "\n",
       "    .dataframe thead th {\n",
       "        text-align: right;\n",
       "    }\n",
       "</style>\n",
       "<table border=\"1\" class=\"dataframe\">\n",
       "  <thead>\n",
       "    <tr style=\"text-align: right;\">\n",
       "      <th></th>\n",
       "      <th>0</th>\n",
       "    </tr>\n",
       "  </thead>\n",
       "  <tbody>\n",
       "    <tr>\n",
       "      <th>dt</th>\n",
       "      <td>5</td>\n",
       "    </tr>\n",
       "    <tr>\n",
       "      <th>rf</th>\n",
       "      <td>7</td>\n",
       "    </tr>\n",
       "    <tr>\n",
       "      <th>xg</th>\n",
       "      <td>9</td>\n",
       "    </tr>\n",
       "    <tr>\n",
       "      <th>ad</th>\n",
       "      <td>3</td>\n",
       "    </tr>\n",
       "    <tr>\n",
       "      <th>lr</th>\n",
       "      <td>2</td>\n",
       "    </tr>\n",
       "  </tbody>\n",
       "</table>\n",
       "</div>"
      ],
      "text/plain": [
       "    0\n",
       "dt  5\n",
       "rf  7\n",
       "xg  9\n",
       "ad  3\n",
       "lr  2"
      ]
     },
     "execution_count": 15,
     "metadata": {},
     "output_type": "execute_result"
    }
   ],
   "source": [
    "d = {'dt':5,'rf':7,\"xg\":9,\"ad\":3,\"lr\":2}\n",
    "\n",
    "scores = pd.DataFrame.from_dict(d,orient='index')\n",
    "\n",
    "best_model = scores[scores[0] == max(scores[0])].index[0]\n",
    "\n",
    "best_model_score = scores[scores[0] == max(scores[0])][0][0]"
   ]
  },
  {
   "cell_type": "code",
   "execution_count": 37,
   "metadata": {},
   "outputs": [
    {
     "data": {
      "text/plain": [
       "9"
      ]
     },
     "execution_count": 37,
     "metadata": {},
     "output_type": "execute_result"
    }
   ],
   "source": [
    "scores[scores[0] == max(scores[0])][0][0]\n",
    "\n",
    "d['xg']"
   ]
  },
  {
   "cell_type": "code",
   "execution_count": 1,
   "metadata": {},
   "outputs": [
    {
     "name": "stderr",
     "output_type": "stream",
     "text": [
      "f:\\Ineuron DS\\Internship\\FFP\\Flight_Fare_Predictions\\venv\\lib\\site-packages\\numpy\\_distributor_init.py:30: UserWarning: loaded more than 1 DLL from .libs:\n",
      "f:\\Ineuron DS\\Internship\\FFP\\Flight_Fare_Predictions\\venv\\lib\\site-packages\\numpy\\.libs\\libopenblas.FB5AE2TYXYH2IJRDKGDGQ3XBKLKTF43H.gfortran-win_amd64.dll\n",
      "f:\\Ineuron DS\\Internship\\FFP\\Flight_Fare_Predictions\\venv\\lib\\site-packages\\numpy\\.libs\\libopenblas64__v0.3.21-gcc_10_3_0.dll\n",
      "  warnings.warn(\"loaded more than 1 DLL from .libs:\"\n"
     ]
    },
    {
     "data": {
      "text/plain": [
       "0.6274765236618562"
      ]
     },
     "execution_count": 1,
     "metadata": {},
     "output_type": "execute_result"
    }
   ],
   "source": [
    "from Flight_Fare.util.util import evaluate_model\n",
    "\n"
   ]
  },
  {
   "cell_type": "code",
   "execution_count": 4,
   "metadata": {},
   "outputs": [
    {
     "data": {
      "text/plain": [
       "0.6274765236618562"
      ]
     },
     "execution_count": 4,
     "metadata": {},
     "output_type": "execute_result"
    }
   ],
   "source": [
    "import numpy as np\n",
    "\n",
    "c = float(np.float64(0.6274765236618562))\n",
    "\n",
    "(c)"
   ]
  },
  {
   "cell_type": "code",
   "execution_count": 22,
   "metadata": {},
   "outputs": [],
   "source": [
    "from Flight_Fare.util.util import *\n",
    "\n",
    "train_array = load_numpy_array_data(r\"Flight_Fare\\artifact\\data_transformation\\2023-07-27-17-27-50\\transformed_data\\train\\Flight_Fare_Prediction.npz\")\n",
    "test_array = load_numpy_array_data(r\"Flight_Fare\\artifact\\data_transformation\\2023-07-27-17-27-50\\transformed_data\\test\\Flight_Fare_Prediction.npz\")\n",
    "\n",
    "x_train,y_train,x_test,y_test = train_array[:,:-1],train_array[:,-1],test_array[:,:-1],test_array[:,-1]"
   ]
  },
  {
   "cell_type": "code",
   "execution_count": 24,
   "metadata": {},
   "outputs": [
    {
     "data": {
      "text/plain": [
       "{'Linear_reg': [2844.3057018441227, 2765.333528242964]}"
      ]
     },
     "execution_count": 24,
     "metadata": {},
     "output_type": "execute_result"
    }
   ],
   "source": [
    "from sklearn.linear_model import LinearRegression\n",
    "\n",
    "models = {'Linear_reg': LinearRegression()}\n",
    "            \n",
    "param = {'Linear_reg': {}}\n",
    "\n",
    "model_report,model_config,model_acc,model_rmse = evaluate_model(\n",
    "X_train=x_train,X_test=x_test,\n",
    "y_train=y_train,y_test=y_test,\n",
    "models=models,param =param )\n",
    "\n",
    "model_rmse"
   ]
  },
  {
   "cell_type": "code",
   "execution_count": 9,
   "metadata": {},
   "outputs": [
    {
     "data": {
      "text/plain": [
       "0.6244248627604682"
      ]
     },
     "execution_count": 9,
     "metadata": {},
     "output_type": "execute_result"
    }
   ],
   "source": [
    "import pandas as pd\n",
    "\n",
    "scores = pd.DataFrame.from_dict(model_report,orient='index')\n",
    "best_model = scores[scores[0] == max(scores[0])].index[0]\n",
    "best_model_score = scores[scores[0] == max(scores[0])][0][0]\n",
    "\n",
    "best_model_score"
   ]
  },
  {
   "cell_type": "code",
   "execution_count": 26,
   "metadata": {},
   "outputs": [],
   "source": [
    "best_model_config = model_config[best_model]\n",
    "model_accuracy = model_acc[best_model]\n",
    "best_model_rmse = model_rmse[best_model]"
   ]
  },
  {
   "cell_type": "code",
   "execution_count": 28,
   "metadata": {},
   "outputs": [
    {
     "data": {
      "text/plain": [
       "2844.3057018441227"
      ]
     },
     "execution_count": 28,
     "metadata": {},
     "output_type": "execute_result"
    }
   ],
   "source": [
    "best_model_rmse[0]"
   ]
  },
  {
   "cell_type": "code",
   "execution_count": 72,
   "metadata": {},
   "outputs": [],
   "source": [
    "from Flight_Fare.entity.artifact_entity import ModelTrainerArtifact\n",
    "from Flight_Fare.component.data_transformation import DataTransformation"
   ]
  },
  {
   "cell_type": "code",
   "execution_count": 41,
   "metadata": {},
   "outputs": [
    {
     "data": {
      "text/plain": [
       "Flight_Fare.entity.artifact_entity.ModelTrainerArtifact[7]"
      ]
     },
     "execution_count": 41,
     "metadata": {},
     "output_type": "execute_result"
    }
   ],
   "source": [
    "model_trainer_artifact[7]"
   ]
  },
  {
   "cell_type": "code",
   "execution_count": 16,
   "metadata": {},
   "outputs": [],
   "source": [
    "train_file_path = r\"Flight_Fare\\artifact\\data_ingestion\\2023-07-29-01-29-56\\ingested_data\\train\\Flight_Fare_Prediction.csv\"\n",
    "test_file_path = r\"Flight_Fare\\artifact\\data_ingestion\\2023-07-29-01-29-56\\ingested_data\\test\\Flight_Fare_Prediction.csv\"\n",
    "\n",
    "train_df = pd.read_csv(train_file_path)\n",
    "test_df = pd.read_csv(test_file_path)\n",
    "\n",
    "train_df.drop(['Additional_Info','Route'],inplace = True, axis = 1)\n",
    "test_df.drop(['Additional_Info','Route'],inplace = True, axis = 1)\n",
    "\n",
    "x = read_yaml_file(r\"F:\\Ineuron DS\\Internship\\FFP\\Flight_Fare_Predictions\\config\\schema.yaml\")\n",
    "target_column = x['target_column']\n",
    "\n",
    "y_train = np.array(train_df[target_column])\n",
    "y_test = np.array(test_df[target_column])\n",
    "\n",
    "train = train_df.drop(target_column,axis = 1)\n",
    "test = test_df.drop(target_column,axis = 1)\n",
    "\n",
    "X_train = np.array(train)\n",
    "X_test = np.array(test)"
   ]
  },
  {
   "cell_type": "code",
   "execution_count": 15,
   "metadata": {},
   "outputs": [
    {
     "data": {
      "text/html": [
       "<div>\n",
       "<style scoped>\n",
       "    .dataframe tbody tr th:only-of-type {\n",
       "        vertical-align: middle;\n",
       "    }\n",
       "\n",
       "    .dataframe tbody tr th {\n",
       "        vertical-align: top;\n",
       "    }\n",
       "\n",
       "    .dataframe thead th {\n",
       "        text-align: right;\n",
       "    }\n",
       "</style>\n",
       "<table border=\"1\" class=\"dataframe\">\n",
       "  <thead>\n",
       "    <tr style=\"text-align: right;\">\n",
       "      <th></th>\n",
       "      <th>Airline</th>\n",
       "      <th>Date_of_Journey</th>\n",
       "      <th>Source</th>\n",
       "      <th>Destination</th>\n",
       "      <th>Dep_Time</th>\n",
       "      <th>Arrival_Time</th>\n",
       "      <th>Duration</th>\n",
       "      <th>Total_Stops</th>\n",
       "      <th>Price</th>\n",
       "    </tr>\n",
       "  </thead>\n",
       "  <tbody>\n",
       "    <tr>\n",
       "      <th>0</th>\n",
       "      <td>Jet Airways</td>\n",
       "      <td>27/06/2019</td>\n",
       "      <td>Mumbai</td>\n",
       "      <td>Hyderabad</td>\n",
       "      <td>10:20</td>\n",
       "      <td>11:50</td>\n",
       "      <td>1h 30m</td>\n",
       "      <td>non-stop</td>\n",
       "      <td>8040</td>\n",
       "    </tr>\n",
       "    <tr>\n",
       "      <th>1</th>\n",
       "      <td>Multiple carriers</td>\n",
       "      <td>3/03/2019</td>\n",
       "      <td>Delhi</td>\n",
       "      <td>Cochin</td>\n",
       "      <td>09:10</td>\n",
       "      <td>18:50</td>\n",
       "      <td>9h 40m</td>\n",
       "      <td>1 stop</td>\n",
       "      <td>15135</td>\n",
       "    </tr>\n",
       "    <tr>\n",
       "      <th>2</th>\n",
       "      <td>Multiple carriers</td>\n",
       "      <td>27/05/2019</td>\n",
       "      <td>Delhi</td>\n",
       "      <td>Cochin</td>\n",
       "      <td>15:00</td>\n",
       "      <td>01:30 28 May</td>\n",
       "      <td>10h 30m</td>\n",
       "      <td>1 stop</td>\n",
       "      <td>13377</td>\n",
       "    </tr>\n",
       "    <tr>\n",
       "      <th>3</th>\n",
       "      <td>Air Asia</td>\n",
       "      <td>9/05/2019</td>\n",
       "      <td>Kolkata</td>\n",
       "      <td>Banglore</td>\n",
       "      <td>22:40</td>\n",
       "      <td>10:40 10 May</td>\n",
       "      <td>12h</td>\n",
       "      <td>1 stop</td>\n",
       "      <td>5192</td>\n",
       "    </tr>\n",
       "    <tr>\n",
       "      <th>4</th>\n",
       "      <td>Air India</td>\n",
       "      <td>9/06/2019</td>\n",
       "      <td>Delhi</td>\n",
       "      <td>Cochin</td>\n",
       "      <td>19:45</td>\n",
       "      <td>19:15 10 Jun</td>\n",
       "      <td>23h 30m</td>\n",
       "      <td>2 stops</td>\n",
       "      <td>9968</td>\n",
       "    </tr>\n",
       "    <tr>\n",
       "      <th>...</th>\n",
       "      <td>...</td>\n",
       "      <td>...</td>\n",
       "      <td>...</td>\n",
       "      <td>...</td>\n",
       "      <td>...</td>\n",
       "      <td>...</td>\n",
       "      <td>...</td>\n",
       "      <td>...</td>\n",
       "      <td>...</td>\n",
       "    </tr>\n",
       "    <tr>\n",
       "      <th>7473</th>\n",
       "      <td>Jet Airways</td>\n",
       "      <td>27/03/2019</td>\n",
       "      <td>Delhi</td>\n",
       "      <td>Cochin</td>\n",
       "      <td>09:00</td>\n",
       "      <td>04:25 28 Mar</td>\n",
       "      <td>19h 25m</td>\n",
       "      <td>1 stop</td>\n",
       "      <td>12242</td>\n",
       "    </tr>\n",
       "    <tr>\n",
       "      <th>7474</th>\n",
       "      <td>Jet Airways</td>\n",
       "      <td>9/05/2019</td>\n",
       "      <td>Kolkata</td>\n",
       "      <td>Banglore</td>\n",
       "      <td>14:05</td>\n",
       "      <td>20:45</td>\n",
       "      <td>6h 40m</td>\n",
       "      <td>1 stop</td>\n",
       "      <td>10844</td>\n",
       "    </tr>\n",
       "    <tr>\n",
       "      <th>7475</th>\n",
       "      <td>Multiple carriers</td>\n",
       "      <td>15/05/2019</td>\n",
       "      <td>Delhi</td>\n",
       "      <td>Cochin</td>\n",
       "      <td>12:50</td>\n",
       "      <td>01:30 16 May</td>\n",
       "      <td>12h 40m</td>\n",
       "      <td>1 stop</td>\n",
       "      <td>7670</td>\n",
       "    </tr>\n",
       "    <tr>\n",
       "      <th>7476</th>\n",
       "      <td>IndiGo</td>\n",
       "      <td>03/03/2019</td>\n",
       "      <td>Banglore</td>\n",
       "      <td>New Delhi</td>\n",
       "      <td>00:40</td>\n",
       "      <td>03:25</td>\n",
       "      <td>2h 45m</td>\n",
       "      <td>non-stop</td>\n",
       "      <td>6144</td>\n",
       "    </tr>\n",
       "    <tr>\n",
       "      <th>7477</th>\n",
       "      <td>Jet Airways</td>\n",
       "      <td>1/06/2019</td>\n",
       "      <td>Delhi</td>\n",
       "      <td>Cochin</td>\n",
       "      <td>13:00</td>\n",
       "      <td>04:25 02 Jun</td>\n",
       "      <td>15h 25m</td>\n",
       "      <td>1 stop</td>\n",
       "      <td>10262</td>\n",
       "    </tr>\n",
       "  </tbody>\n",
       "</table>\n",
       "<p>7478 rows × 9 columns</p>\n",
       "</div>"
      ],
      "text/plain": [
       "                Airline Date_of_Journey    Source Destination Dep_Time  \\\n",
       "0           Jet Airways      27/06/2019    Mumbai   Hyderabad    10:20   \n",
       "1     Multiple carriers       3/03/2019     Delhi      Cochin    09:10   \n",
       "2     Multiple carriers      27/05/2019     Delhi      Cochin    15:00   \n",
       "3              Air Asia       9/05/2019   Kolkata    Banglore    22:40   \n",
       "4             Air India       9/06/2019     Delhi      Cochin    19:45   \n",
       "...                 ...             ...       ...         ...      ...   \n",
       "7473        Jet Airways      27/03/2019     Delhi      Cochin    09:00   \n",
       "7474        Jet Airways       9/05/2019   Kolkata    Banglore    14:05   \n",
       "7475  Multiple carriers      15/05/2019     Delhi      Cochin    12:50   \n",
       "7476             IndiGo      03/03/2019  Banglore   New Delhi    00:40   \n",
       "7477        Jet Airways       1/06/2019     Delhi      Cochin    13:00   \n",
       "\n",
       "      Arrival_Time Duration Total_Stops  Price  \n",
       "0            11:50   1h 30m    non-stop   8040  \n",
       "1            18:50   9h 40m      1 stop  15135  \n",
       "2     01:30 28 May  10h 30m      1 stop  13377  \n",
       "3     10:40 10 May      12h      1 stop   5192  \n",
       "4     19:15 10 Jun  23h 30m     2 stops   9968  \n",
       "...            ...      ...         ...    ...  \n",
       "7473  04:25 28 Mar  19h 25m      1 stop  12242  \n",
       "7474         20:45   6h 40m      1 stop  10844  \n",
       "7475  01:30 16 May  12h 40m      1 stop   7670  \n",
       "7476         03:25   2h 45m    non-stop   6144  \n",
       "7477  04:25 02 Jun  15h 25m      1 stop  10262  \n",
       "\n",
       "[7478 rows x 9 columns]"
      ]
     },
     "execution_count": 15,
     "metadata": {},
     "output_type": "execute_result"
    }
   ],
   "source": [
    "[1,4,5,6]\n",
    "[0,2,3,7]"
   ]
  },
  {
   "cell_type": "code",
   "execution_count": 28,
   "metadata": {},
   "outputs": [],
   "source": [
    "config = Configuration()\n",
    "model_evaluation_file_path = config.get_model_evaluation_config().model_evaluation_file_path\n",
    "pickle_file = r\"Flight_Fare\\artifact\\model_trainer\\2023-07-29-01-45-16\\trained_model\\model.pkl\"\n",
    "mode_acc = 0.6244248627604682\n",
    "\n",
    "\n",
    "if os.path.exists(model_evaluation_file_path) == False:\n",
    "    data = {'best_model':\n",
    "            {'model_path': pickle_file,\n",
    "             'model_accuracy': mode_acc,\n",
    "             'time_stamp': CURRENT_TIME_STAMP\n",
    "            }\n",
    "        }\n",
    "    os.makedirs(os.path.dirname(model_evaluation_file_path),exist_ok=True)\n",
    "    with open(model_evaluation_file_path,\"w\") as file:\n",
    "        yaml.dump(data,file)\n",
    "\n",
    "with open(model_evaluation_file_path,\"r\") as file:\n",
    "    v = yaml.safe_load(file)\n",
    "\n",
    "\n"
   ]
  },
  {
   "cell_type": "code",
   "execution_count": 29,
   "metadata": {},
   "outputs": [
    {
     "name": "stdout",
     "output_type": "stream",
     "text": [
      "{'best_model': {'model_accuracy': 0.6244248627604682, 'model_path': 'Flight_Fare\\\\artifact\\\\model_trainer\\\\2023-07-29-01-45-16\\\\trained_model\\\\model.pkl', 'time_stamp': '2023-07-29-01-32-05'}}\n"
     ]
    }
   ],
   "source": [
    "print(v)"
   ]
  },
  {
   "cell_type": "code",
   "execution_count": 91,
   "metadata": {},
   "outputs": [],
   "source": [
    "config = Configuration()\n",
    "model_evaluation_file_path = r\"Flight_Fare\\artifact\\model_evaluation\\model_evaluation.yaml\"\n",
    "pickle_file = r\"Flight_Fare\\artifact\\model_trainer\\2023-07-29-01-29-56\\trained_model\\model.pkl\"\n",
    "mode_acc = 0.6244248627604682\n",
    "\n",
    "trained_modef_file_path = r\"Flight_Fare\\artifact\\model_trainer\\2023-07-29-01-45-16\\trained_model\\model.pkl\"\n",
    "model_accuracy = 0.7\n",
    "\n",
    "if os.path.exists(model_evaluation_file_path) == False:\n",
    "    data = {'best_model':\n",
    "            {'model_path': pickle_file,\n",
    "            'model_accuracy': model_accuracy,\n",
    "            'time_stamp': CURRENT_TIME_STAMP\n",
    "            }\n",
    "        }\n",
    "    os.makedirs(os.path.dirname(model_evaluation_file_path),exist_ok=True)\n",
    "    with open(model_evaluation_file_path,\"w\") as file:\n",
    "        yaml.dump(data,file)\n",
    "\n",
    "with open(model_evaluation_file_path, \"rb\") as file_obj:\n",
    "    model = yaml.safe_load(file_obj)\n",
    "    if model['best_model']['model_accuracy'] < model_accuracy:\n",
    "        data = {'best_model':\n",
    "            {'model_path': trained_modef_file_path,\n",
    "            'model_accuracy': model_accuracy,\n",
    "            'time_stamp': CURRENT_TIME_STAMP\n",
    "            }\n",
    "        }\n",
    "        yaml.dump(data,file)"
   ]
  },
  {
   "cell_type": "code",
   "execution_count": null,
   "metadata": {},
   "outputs": [],
   "source": [
    "if model['best_model']['model_accuracy'] < model_accuracy:\n",
    "        data = {'best_model':\n",
    "            {'model_path': trained_modef_file_path,\n",
    "            'model_accuracy': model_accuracy,\n",
    "            'time_stamp': CURRENT_TIME_STAMP\n",
    "            }\n",
    "        }\n",
    "        yaml.dump(data,file)"
   ]
  },
  {
   "cell_type": "code",
   "execution_count": 15,
   "metadata": {},
   "outputs": [
    {
     "ename": "FileNotFoundError",
     "evalue": "[Errno 2] No such file or directory: 'f:\\\\Ineuron DS\\\\Internship\\\\FFP\\\\Flight_Fare_Predictions\\\\Flight_Fare\\\\artifact\\\\model_trainer\\\\2023-07-29-23-39-24\\\\trained_model\\\\model.pkl'",
     "output_type": "error",
     "traceback": [
      "\u001b[1;31m---------------------------------------------------------------------------\u001b[0m",
      "\u001b[1;31mFileNotFoundError\u001b[0m                         Traceback (most recent call last)",
      "Cell \u001b[1;32mIn[15], line 13\u001b[0m\n\u001b[0;32m      9\u001b[0m export_model_file_path \u001b[39m=\u001b[39m os\u001b[39m.\u001b[39mpath\u001b[39m.\u001b[39mjoin(export_dir,model_file_name)\n\u001b[0;32m     11\u001b[0m os\u001b[39m.\u001b[39mmakedirs(export_model_file_path,exist_ok\u001b[39m=\u001b[39m\u001b[39mTrue\u001b[39;00m)\n\u001b[1;32m---> 13\u001b[0m shutil\u001b[39m.\u001b[39;49mcopy(evaluated_model_path,export_model_file_path)\n",
      "File \u001b[1;32mf:\\Ineuron DS\\Internship\\FFP\\Flight_Fare_Predictions\\venv\\lib\\shutil.py:415\u001b[0m, in \u001b[0;36mcopy\u001b[1;34m(src, dst, follow_symlinks)\u001b[0m\n\u001b[0;32m    413\u001b[0m \u001b[39mif\u001b[39;00m os\u001b[39m.\u001b[39mpath\u001b[39m.\u001b[39misdir(dst):\n\u001b[0;32m    414\u001b[0m     dst \u001b[39m=\u001b[39m os\u001b[39m.\u001b[39mpath\u001b[39m.\u001b[39mjoin(dst, os\u001b[39m.\u001b[39mpath\u001b[39m.\u001b[39mbasename(src))\n\u001b[1;32m--> 415\u001b[0m copyfile(src, dst, follow_symlinks\u001b[39m=\u001b[39;49mfollow_symlinks)\n\u001b[0;32m    416\u001b[0m copymode(src, dst, follow_symlinks\u001b[39m=\u001b[39mfollow_symlinks)\n\u001b[0;32m    417\u001b[0m \u001b[39mreturn\u001b[39;00m dst\n",
      "File \u001b[1;32mf:\\Ineuron DS\\Internship\\FFP\\Flight_Fare_Predictions\\venv\\lib\\shutil.py:261\u001b[0m, in \u001b[0;36mcopyfile\u001b[1;34m(src, dst, follow_symlinks)\u001b[0m\n\u001b[0;32m    259\u001b[0m     os\u001b[39m.\u001b[39msymlink(os\u001b[39m.\u001b[39mreadlink(src), dst)\n\u001b[0;32m    260\u001b[0m \u001b[39melse\u001b[39;00m:\n\u001b[1;32m--> 261\u001b[0m     \u001b[39mwith\u001b[39;00m \u001b[39mopen\u001b[39;49m(src, \u001b[39m'\u001b[39;49m\u001b[39mrb\u001b[39;49m\u001b[39m'\u001b[39;49m) \u001b[39mas\u001b[39;00m fsrc, \u001b[39mopen\u001b[39m(dst, \u001b[39m'\u001b[39m\u001b[39mwb\u001b[39m\u001b[39m'\u001b[39m) \u001b[39mas\u001b[39;00m fdst:\n\u001b[0;32m    262\u001b[0m         \u001b[39m# macOS\u001b[39;00m\n\u001b[0;32m    263\u001b[0m         \u001b[39mif\u001b[39;00m _HAS_FCOPYFILE:\n\u001b[0;32m    264\u001b[0m             \u001b[39mtry\u001b[39;00m:\n",
      "\u001b[1;31mFileNotFoundError\u001b[0m: [Errno 2] No such file or directory: 'f:\\\\Ineuron DS\\\\Internship\\\\FFP\\\\Flight_Fare_Predictions\\\\Flight_Fare\\\\artifact\\\\model_trainer\\\\2023-07-29-23-39-24\\\\trained_model\\\\model.pkl'"
     ]
    }
   ],
   "source": [
    "import shutil\n",
    "\n",
    "config = Configuration()\n",
    "\n",
    "evaluated_model_path = config.get_model_trainer_config().trained_model_file_path\n",
    "export_dir = config.get_model_pusher_config().export_dir_path\n",
    "model_file_name = os.path.basename(evaluated_model_path)\n",
    "\n",
    "export_model_file_path = os.path.join(export_dir,model_file_name)\n",
    "\n",
    "os.makedirs(export_model_file_path,exist_ok=True)\n",
    "\n",
    "shutil.copy(evaluated_model_path,export_model_file_path)"
   ]
  },
  {
   "cell_type": "code",
   "execution_count": 21,
   "metadata": {},
   "outputs": [
    {
     "name": "stdout",
     "output_type": "stream",
     "text": [
      "None None None None None None None None None None None \n"
     ]
    }
   ],
   "source": [
    "print(('None ' * 11))"
   ]
  },
  {
   "cell_type": "code",
   "execution_count": 28,
   "metadata": {},
   "outputs": [
    {
     "data": {
      "text/plain": [
       "'f:\\\\Ineuron DS\\\\Internship\\\\FFP\\\\Flight_Fare_Predictions\\\\Flight_Fare\\\\artifact\\\\experiment\\\\experiment.csv'"
      ]
     },
     "execution_count": 28,
     "metadata": {},
     "output_type": "execute_result"
    }
   ],
   "source": [
    "training_pipeline_file_path = config.get_training_pipeline_config().artifact_dir\n",
    "\n",
    "EXPERIMENT_DIR_NAME,EXPERIMENT_FILE_NAME\n",
    "\n",
    "experiment_file_path = os.path.join(training_pipeline_file_path,EXPERIMENT_DIR_NAME,EXPERIMENT_FILE_NAME)\n",
    "\n"
   ]
  },
  {
   "cell_type": "code",
   "execution_count": 29,
   "metadata": {},
   "outputs": [
    {
     "data": {
      "text/plain": [
       "'2023-07-29-23-39-24'"
      ]
     },
     "execution_count": 29,
     "metadata": {},
     "output_type": "execute_result"
    }
   ],
   "source": [
    "CURRENT_TIME_STAMP"
   ]
  },
  {
   "cell_type": "code",
   "execution_count": 30,
   "metadata": {},
   "outputs": [
    {
     "data": {
      "text/plain": [
       "'2023-07-29-23-39-24'"
      ]
     },
     "execution_count": 30,
     "metadata": {},
     "output_type": "execute_result"
    }
   ],
   "source": [
    "config.time_stamp"
   ]
  },
  {
   "cell_type": "code",
   "execution_count": 3,
   "metadata": {},
   "outputs": [
    {
     "data": {
      "text/plain": [
       "_tuplegetter(7, 'Alias for field number 7')"
      ]
     },
     "execution_count": 3,
     "metadata": {},
     "output_type": "execute_result"
    }
   ],
   "source": [
    "from Flight_Fare.entity.artifact_entity import ModelTrainerArtifact\n",
    "\n",
    "ModelTrainerArtifact.model_accuracy"
   ]
  },
  {
   "cell_type": "code",
   "execution_count": 7,
   "metadata": {},
   "outputs": [],
   "source": [
    "import pandas as pd \n",
    "\n",
    "train = r\"notebook\\Data_Train.xlsx\"\n",
    "\n",
    "df = pd.read_excel(train)"
   ]
  },
  {
   "cell_type": "code",
   "execution_count": 9,
   "metadata": {},
   "outputs": [
    {
     "data": {
      "text/plain": [
       "Index(['Airline', 'Date_of_Journey', 'Source', 'Destination', 'Route',\n",
       "       'Dep_Time', 'Arrival_Time', 'Duration', 'Total_Stops',\n",
       "       'Additional_Info', 'Price'],\n",
       "      dtype='object')"
      ]
     },
     "execution_count": 9,
     "metadata": {},
     "output_type": "execute_result"
    }
   ],
   "source": [
    "df.columns"
   ]
  },
  {
   "cell_type": "code",
   "execution_count": 10,
   "metadata": {},
   "outputs": [
    {
     "name": "stdout",
     "output_type": "stream",
     "text": [
      "<class 'pandas.core.frame.DataFrame'>\n",
      "RangeIndex: 10683 entries, 0 to 10682\n",
      "Data columns (total 11 columns):\n",
      " #   Column           Non-Null Count  Dtype \n",
      "---  ------           --------------  ----- \n",
      " 0   Airline          10683 non-null  object\n",
      " 1   Date_of_Journey  10683 non-null  object\n",
      " 2   Source           10683 non-null  object\n",
      " 3   Destination      10683 non-null  object\n",
      " 4   Route            10682 non-null  object\n",
      " 5   Dep_Time         10683 non-null  object\n",
      " 6   Arrival_Time     10683 non-null  object\n",
      " 7   Duration         10683 non-null  object\n",
      " 8   Total_Stops      10682 non-null  object\n",
      " 9   Additional_Info  10683 non-null  object\n",
      " 10  Price            10683 non-null  int64 \n",
      "dtypes: int64(1), object(10)\n",
      "memory usage: 918.2+ KB\n"
     ]
    }
   ],
   "source": [
    "df.info()"
   ]
  },
  {
   "cell_type": "code",
   "execution_count": 12,
   "metadata": {},
   "outputs": [],
   "source": [
    "import opendatasets as os "
   ]
  },
  {
   "cell_type": "code",
   "execution_count": 13,
   "metadata": {},
   "outputs": [
    {
     "name": "stdout",
     "output_type": "stream",
     "text": [
      "Please provide your Kaggle credentials to download this dataset. Learn more: http://bit.ly/kaggle-creds\n",
      "Your Kaggle username:Your Kaggle Key:Downloading flight-fare-prediction-mh.zip to .\\flight-fare-prediction-mh\n"
     ]
    },
    {
     "name": "stderr",
     "output_type": "stream",
     "text": [
      "100%|██████████| 626k/626k [00:01<00:00, 513kB/s]"
     ]
    },
    {
     "name": "stdout",
     "output_type": "stream",
     "text": [
      "\n"
     ]
    },
    {
     "name": "stderr",
     "output_type": "stream",
     "text": [
      "\n"
     ]
    }
   ],
   "source": [
    "os.download(\"https://www.kaggle.com/datasets/nikhilmittal/flight-fare-prediction-mh\")"
   ]
  },
  {
   "cell_type": "code",
   "execution_count": 23,
   "metadata": {},
   "outputs": [
    {
     "name": "stderr",
     "output_type": "stream",
     "text": [
      "The syntax of the command is incorrect.\n"
     ]
    }
   ],
   "source": [
    "mkdir -p ~/.kaggle\n"
   ]
  },
  {
   "cell_type": "code",
   "execution_count": 24,
   "metadata": {},
   "outputs": [
    {
     "name": "stdout",
     "output_type": "stream",
     "text": [
      "The system cannot find the file specified.\n"
     ]
    }
   ],
   "source": [
    "!copy kaggle.json ~/.kaggle/\n"
   ]
  },
  {
   "cell_type": "code",
   "execution_count": 25,
   "metadata": {},
   "outputs": [
    {
     "name": "stderr",
     "output_type": "stream",
     "text": [
      "'chmod' is not recognized as an internal or external command,\n",
      "operable program or batch file.\n"
     ]
    }
   ],
   "source": [
    "!chmod 600 ~/.kaggle/kaggle.json"
   ]
  },
  {
   "cell_type": "code",
   "execution_count": 26,
   "metadata": {},
   "outputs": [
    {
     "name": "stdout",
     "output_type": "stream",
     "text": [
      "Collecting cassandra-driver\n",
      "  Obtaining dependency information for cassandra-driver from https://files.pythonhosted.org/packages/a2/44/2083985d2ade948bf18a9bfb1192e0462435c9e7db0ac9db4daf4d689c09/cassandra_driver-3.28.0-cp39-cp39-win_amd64.whl.metadata\n",
      "  Downloading cassandra_driver-3.28.0-cp39-cp39-win_amd64.whl.metadata (5.9 kB)\n",
      "Requirement already satisfied: six>=1.9 in f:\\ineuron ds\\internship\\ffp\\flight_fare_predictions\\venv\\lib\\site-packages (from cassandra-driver) (1.16.0)\n",
      "Collecting geomet<0.3,>=0.1 (from cassandra-driver)\n",
      "  Downloading geomet-0.2.1.post1-py3-none-any.whl (18 kB)\n",
      "Requirement already satisfied: click in f:\\ineuron ds\\internship\\ffp\\flight_fare_predictions\\venv\\lib\\site-packages (from geomet<0.3,>=0.1->cassandra-driver) (8.1.6)\n",
      "Requirement already satisfied: colorama in f:\\ineuron ds\\internship\\ffp\\flight_fare_predictions\\venv\\lib\\site-packages (from click->geomet<0.3,>=0.1->cassandra-driver) (0.4.6)\n",
      "Downloading cassandra_driver-3.28.0-cp39-cp39-win_amd64.whl (2.9 MB)\n",
      "   ---------------------------------------- 0.0/2.9 MB ? eta -:--:--\n",
      "   ---------------------------------------- 0.0/2.9 MB 1.3 MB/s eta 0:00:03\n",
      "    --------------------------------------- 0.1/2.9 MB 812.7 kB/s eta 0:00:04\n",
      "   - -------------------------------------- 0.1/2.9 MB 1.1 MB/s eta 0:00:03\n",
      "   -- ------------------------------------- 0.2/2.9 MB 1.1 MB/s eta 0:00:03\n",
      "   --- ------------------------------------ 0.2/2.9 MB 915.1 kB/s eta 0:00:03\n",
      "   ---- ----------------------------------- 0.3/2.9 MB 1.1 MB/s eta 0:00:03\n",
      "   ---- ----------------------------------- 0.3/2.9 MB 1.0 MB/s eta 0:00:03\n",
      "   ---- ----------------------------------- 0.3/2.9 MB 1.0 MB/s eta 0:00:03\n",
      "   ---- ----------------------------------- 0.3/2.9 MB 1.0 MB/s eta 0:00:03\n",
      "   ---- ----------------------------------- 0.4/2.9 MB 305.1 kB/s eta 0:00:09\n",
      "   ---- ----------------------------------- 0.4/2.9 MB 305.1 kB/s eta 0:00:09\n",
      "   ---- ----------------------------------- 0.4/2.9 MB 305.1 kB/s eta 0:00:09\n",
      "   ---- ----------------------------------- 0.4/2.9 MB 305.1 kB/s eta 0:00:09\n",
      "   ---- ----------------------------------- 0.4/2.9 MB 305.1 kB/s eta 0:00:09\n",
      "   ---- ----------------------------------- 0.4/2.9 MB 305.1 kB/s eta 0:00:09\n",
      "   ---- ----------------------------------- 0.4/2.9 MB 305.1 kB/s eta 0:00:09\n",
      "   ---- ----------------------------------- 0.4/2.9 MB 305.1 kB/s eta 0:00:09\n",
      "   ---- ----------------------------------- 0.4/2.9 MB 305.1 kB/s eta 0:00:09\n",
      "   ---- ----------------------------------- 0.4/2.9 MB 305.1 kB/s eta 0:00:09\n",
      "   ---- ----------------------------------- 0.4/2.9 MB 305.1 kB/s eta 0:00:09\n",
      "   ---- ----------------------------------- 0.4/2.9 MB 305.1 kB/s eta 0:00:09\n",
      "   ---- ----------------------------------- 0.4/2.9 MB 305.1 kB/s eta 0:00:09\n",
      "   ---- ----------------------------------- 0.4/2.9 MB 305.1 kB/s eta 0:00:09\n",
      "   ---- ----------------------------------- 0.4/2.9 MB 305.1 kB/s eta 0:00:09\n",
      "   ---- ----------------------------------- 0.4/2.9 MB 305.1 kB/s eta 0:00:09\n",
      "   ---- ----------------------------------- 0.4/2.9 MB 305.1 kB/s eta 0:00:09\n",
      "   ---- ----------------------------------- 0.4/2.9 MB 305.1 kB/s eta 0:00:09\n",
      "   ---- ----------------------------------- 0.4/2.9 MB 305.1 kB/s eta 0:00:09\n",
      "   ---- ----------------------------------- 0.4/2.9 MB 305.1 kB/s eta 0:00:09\n",
      "   ---- ----------------------------------- 0.4/2.9 MB 305.1 kB/s eta 0:00:09\n",
      "   ---- ----------------------------------- 0.4/2.9 MB 305.1 kB/s eta 0:00:09\n",
      "   ---- ----------------------------------- 0.4/2.9 MB 305.1 kB/s eta 0:00:09\n",
      "   ---- ----------------------------------- 0.4/2.9 MB 305.1 kB/s eta 0:00:09\n",
      "   ---- ----------------------------------- 0.4/2.9 MB 305.1 kB/s eta 0:00:09\n",
      "   ---- ----------------------------------- 0.4/2.9 MB 305.1 kB/s eta 0:00:09\n",
      "   ---- ----------------------------------- 0.4/2.9 MB 305.1 kB/s eta 0:00:09\n",
      "   ---- ----------------------------------- 0.4/2.9 MB 305.1 kB/s eta 0:00:09\n",
      "   ---- ----------------------------------- 0.4/2.9 MB 305.1 kB/s eta 0:00:09\n",
      "   ---- ----------------------------------- 0.4/2.9 MB 305.1 kB/s eta 0:00:09\n",
      "   ---- ----------------------------------- 0.4/2.9 MB 305.1 kB/s eta 0:00:09\n",
      "   ---- ----------------------------------- 0.4/2.9 MB 305.1 kB/s eta 0:00:09\n",
      "   ---- ----------------------------------- 0.4/2.9 MB 305.1 kB/s eta 0:00:09\n",
      "   ---- ----------------------------------- 0.4/2.9 MB 305.1 kB/s eta 0:00:09\n",
      "   ---- ----------------------------------- 0.4/2.9 MB 305.1 kB/s eta 0:00:09\n",
      "   ---- ----------------------------------- 0.4/2.9 MB 305.1 kB/s eta 0:00:09\n",
      "   ---- ----------------------------------- 0.4/2.9 MB 305.1 kB/s eta 0:00:09\n",
      "   ---- ----------------------------------- 0.4/2.9 MB 305.1 kB/s eta 0:00:09\n",
      "   ---- ----------------------------------- 0.4/2.9 MB 305.1 kB/s eta 0:00:09\n",
      "   ---- ----------------------------------- 0.4/2.9 MB 305.1 kB/s eta 0:00:09\n",
      "   ---- ----------------------------------- 0.4/2.9 MB 305.1 kB/s eta 0:00:09\n",
      "   ---- ----------------------------------- 0.4/2.9 MB 305.1 kB/s eta 0:00:09\n",
      "   ---- ----------------------------------- 0.4/2.9 MB 305.1 kB/s eta 0:00:09\n",
      "   ---- ----------------------------------- 0.4/2.9 MB 305.1 kB/s eta 0:00:09\n",
      "   ---- ----------------------------------- 0.4/2.9 MB 305.1 kB/s eta 0:00:09\n",
      "   ---- ----------------------------------- 0.4/2.9 MB 305.1 kB/s eta 0:00:09\n",
      "   ---- ----------------------------------- 0.4/2.9 MB 305.1 kB/s eta 0:00:09\n",
      "   ---- ----------------------------------- 0.4/2.9 MB 305.1 kB/s eta 0:00:09\n",
      "   ---- ----------------------------------- 0.4/2.9 MB 305.1 kB/s eta 0:00:09\n",
      "   ---- ----------------------------------- 0.4/2.9 MB 305.1 kB/s eta 0:00:09\n",
      "   -------- ------------------------------- 0.6/2.9 MB 147.3 kB/s eta 0:00:16\n",
      "   -------- ------------------------------- 0.6/2.9 MB 147.3 kB/s eta 0:00:16\n",
      "   -------- ------------------------------- 0.6/2.9 MB 147.3 kB/s eta 0:00:16\n",
      "   -------- ------------------------------- 0.6/2.9 MB 147.3 kB/s eta 0:00:16\n",
      "   -------- ------------------------------- 0.6/2.9 MB 147.3 kB/s eta 0:00:16\n",
      "   -------- ------------------------------- 0.6/2.9 MB 147.3 kB/s eta 0:00:16\n",
      "   -------- ------------------------------- 0.6/2.9 MB 147.3 kB/s eta 0:00:16\n",
      "   -------- ------------------------------- 0.6/2.9 MB 138.6 kB/s eta 0:00:17\n",
      "   -------- ------------------------------- 0.6/2.9 MB 138.6 kB/s eta 0:00:17\n",
      "   -------- ------------------------------- 0.6/2.9 MB 138.6 kB/s eta 0:00:17\n",
      "   -------- ------------------------------- 0.6/2.9 MB 138.6 kB/s eta 0:00:17\n",
      "   -------- ------------------------------- 0.6/2.9 MB 138.6 kB/s eta 0:00:17\n",
      "   -------- ------------------------------- 0.6/2.9 MB 138.6 kB/s eta 0:00:17\n",
      "   -------- ------------------------------- 0.6/2.9 MB 132.8 kB/s eta 0:00:18\n",
      "   -------- ------------------------------- 0.6/2.9 MB 132.8 kB/s eta 0:00:18\n",
      "   -------- ------------------------------- 0.6/2.9 MB 132.8 kB/s eta 0:00:18\n",
      "   -------- ------------------------------- 0.6/2.9 MB 132.8 kB/s eta 0:00:18\n",
      "   -------- ------------------------------- 0.7/2.9 MB 131.1 kB/s eta 0:00:18\n",
      "   -------- ------------------------------- 0.7/2.9 MB 131.1 kB/s eta 0:00:18\n",
      "   -------- ------------------------------- 0.7/2.9 MB 131.1 kB/s eta 0:00:18\n",
      "   -------- ------------------------------- 0.7/2.9 MB 131.1 kB/s eta 0:00:18\n",
      "   --------- ------------------------------ 0.7/2.9 MB 129.1 kB/s eta 0:00:18\n",
      "   --------- ------------------------------ 0.7/2.9 MB 129.1 kB/s eta 0:00:18\n",
      "   --------- ------------------------------ 0.7/2.9 MB 129.1 kB/s eta 0:00:18\n",
      "   --------- ------------------------------ 0.7/2.9 MB 129.5 kB/s eta 0:00:18\n",
      "   --------- ------------------------------ 0.7/2.9 MB 129.5 kB/s eta 0:00:18\n",
      "   --------- ------------------------------ 0.7/2.9 MB 129.5 kB/s eta 0:00:18\n",
      "   --------- ------------------------------ 0.7/2.9 MB 128.0 kB/s eta 0:00:18\n",
      "   --------- ------------------------------ 0.7/2.9 MB 128.0 kB/s eta 0:00:18\n",
      "   --------- ------------------------------ 0.7/2.9 MB 128.0 kB/s eta 0:00:18\n",
      "   --------- ------------------------------ 0.7/2.9 MB 127.7 kB/s eta 0:00:18\n",
      "   --------- ------------------------------ 0.7/2.9 MB 127.7 kB/s eta 0:00:18\n",
      "   --------- ------------------------------ 0.7/2.9 MB 127.7 kB/s eta 0:00:18\n",
      "   --------- ------------------------------ 0.7/2.9 MB 127.7 kB/s eta 0:00:18\n",
      "   --------- ------------------------------ 0.7/2.9 MB 127.7 kB/s eta 0:00:18\n",
      "   ---------- ----------------------------- 0.7/2.9 MB 125.1 kB/s eta 0:00:18\n",
      "   ---------- ----------------------------- 0.7/2.9 MB 125.1 kB/s eta 0:00:18\n",
      "   ---------- ----------------------------- 0.7/2.9 MB 124.5 kB/s eta 0:00:18\n",
      "   ---------- ----------------------------- 0.7/2.9 MB 124.5 kB/s eta 0:00:18\n",
      "   ---------- ----------------------------- 0.8/2.9 MB 126.0 kB/s eta 0:00:18\n",
      "   ---------- ----------------------------- 0.8/2.9 MB 126.0 kB/s eta 0:00:18\n",
      "   ---------- ----------------------------- 0.8/2.9 MB 126.0 kB/s eta 0:00:18\n",
      "   ---------- ----------------------------- 0.8/2.9 MB 124.4 kB/s eta 0:00:18\n",
      "   ---------- ----------------------------- 0.8/2.9 MB 124.4 kB/s eta 0:00:18\n",
      "   ---------- ----------------------------- 0.8/2.9 MB 125.8 kB/s eta 0:00:17\n",
      "   ----------- ---------------------------- 0.8/2.9 MB 128.1 kB/s eta 0:00:17\n",
      "   ----------- ---------------------------- 0.8/2.9 MB 128.1 kB/s eta 0:00:17\n",
      "   ----------- ---------------------------- 0.8/2.9 MB 128.2 kB/s eta 0:00:17\n",
      "   ----------- ---------------------------- 0.8/2.9 MB 129.2 kB/s eta 0:00:17\n",
      "   ----------- ---------------------------- 0.8/2.9 MB 129.5 kB/s eta 0:00:16\n",
      "   ----------- ---------------------------- 0.9/2.9 MB 131.4 kB/s eta 0:00:16\n",
      "   ----------- ---------------------------- 0.9/2.9 MB 131.4 kB/s eta 0:00:16\n",
      "   ------------ --------------------------- 0.9/2.9 MB 131.7 kB/s eta 0:00:16\n",
      "   ------------ --------------------------- 0.9/2.9 MB 133.5 kB/s eta 0:00:16\n",
      "   ------------ --------------------------- 0.9/2.9 MB 135.3 kB/s eta 0:00:15\n",
      "   ------------ --------------------------- 0.9/2.9 MB 135.3 kB/s eta 0:00:15\n",
      "   ------------ --------------------------- 0.9/2.9 MB 135.9 kB/s eta 0:00:15\n",
      "   ------------- -------------------------- 1.0/2.9 MB 137.7 kB/s eta 0:00:15\n",
      "   ------------- -------------------------- 1.0/2.9 MB 138.2 kB/s eta 0:00:15\n",
      "   ------------- -------------------------- 1.0/2.9 MB 139.9 kB/s eta 0:00:14\n",
      "   ------------- -------------------------- 1.0/2.9 MB 141.9 kB/s eta 0:00:14\n",
      "   ------------- -------------------------- 1.0/2.9 MB 142.4 kB/s eta 0:00:14\n",
      "   -------------- ------------------------- 1.0/2.9 MB 144.3 kB/s eta 0:00:14\n",
      "   -------------- ------------------------- 1.0/2.9 MB 144.8 kB/s eta 0:00:13\n",
      "   -------------- ------------------------- 1.1/2.9 MB 146.7 kB/s eta 0:00:13\n",
      "   -------------- ------------------------- 1.1/2.9 MB 148.9 kB/s eta 0:00:13\n",
      "   --------------- ------------------------ 1.1/2.9 MB 149.4 kB/s eta 0:00:13\n",
      "   --------------- ------------------------ 1.1/2.9 MB 151.2 kB/s eta 0:00:12\n",
      "   --------------- ------------------------ 1.1/2.9 MB 154.1 kB/s eta 0:00:12\n",
      "   ---------------- ----------------------- 1.2/2.9 MB 155.6 kB/s eta 0:00:12\n",
      "   ---------------- ----------------------- 1.2/2.9 MB 156.6 kB/s eta 0:00:12\n",
      "   ---------------- ----------------------- 1.2/2.9 MB 158.0 kB/s eta 0:00:11\n",
      "   ---------------- ----------------------- 1.2/2.9 MB 159.1 kB/s eta 0:00:11\n",
      "   ----------------- ---------------------- 1.2/2.9 MB 162.5 kB/s eta 0:00:11\n",
      "   ----------------- ---------------------- 1.3/2.9 MB 163.5 kB/s eta 0:00:11\n",
      "   ----------------- ---------------------- 1.3/2.9 MB 165.8 kB/s eta 0:00:10\n",
      "   ----------------- ---------------------- 1.3/2.9 MB 167.8 kB/s eta 0:00:10\n",
      "   ------------------ --------------------- 1.3/2.9 MB 170.4 kB/s eta 0:00:10\n",
      "   ------------------ --------------------- 1.4/2.9 MB 172.3 kB/s eta 0:00:09\n",
      "   ------------------- -------------------- 1.4/2.9 MB 174.9 kB/s eta 0:00:09\n",
      "   ------------------- -------------------- 1.4/2.9 MB 177.1 kB/s eta 0:00:09\n",
      "   ------------------- -------------------- 1.4/2.9 MB 179.5 kB/s eta 0:00:09\n",
      "   ------------------- -------------------- 1.4/2.9 MB 179.5 kB/s eta 0:00:09\n",
      "   -------------------- ------------------- 1.5/2.9 MB 183.4 kB/s eta 0:00:08\n",
      "   -------------------- ------------------- 1.5/2.9 MB 183.4 kB/s eta 0:00:08\n",
      "   -------------------- ------------------- 1.5/2.9 MB 182.6 kB/s eta 0:00:08\n",
      "   --------------------- ------------------ 1.5/2.9 MB 185.3 kB/s eta 0:00:08\n",
      "   --------------------- ------------------ 1.6/2.9 MB 186.7 kB/s eta 0:00:08\n",
      "   --------------------- ------------------ 1.6/2.9 MB 186.7 kB/s eta 0:00:08\n",
      "   --------------------- ------------------ 1.6/2.9 MB 188.6 kB/s eta 0:00:08\n",
      "   ---------------------- ----------------- 1.6/2.9 MB 191.3 kB/s eta 0:00:07\n",
      "   ---------------------- ----------------- 1.6/2.9 MB 193.0 kB/s eta 0:00:07\n",
      "   ----------------------- ---------------- 1.7/2.9 MB 197.2 kB/s eta 0:00:07\n",
      "   ----------------------- ---------------- 1.7/2.9 MB 197.3 kB/s eta 0:00:07\n",
      "   ------------------------ --------------- 1.8/2.9 MB 201.8 kB/s eta 0:00:06\n",
      "   ------------------------ --------------- 1.8/2.9 MB 203.5 kB/s eta 0:00:06\n",
      "   ------------------------- -------------- 1.8/2.9 MB 207.9 kB/s eta 0:00:06\n",
      "   ------------------------- -------------- 1.9/2.9 MB 213.0 kB/s eta 0:00:05\n",
      "   -------------------------- ------------- 1.9/2.9 MB 215.4 kB/s eta 0:00:05\n",
      "   -------------------------- ------------- 2.0/2.9 MB 220.0 kB/s eta 0:00:05\n",
      "   --------------------------- ------------ 2.0/2.9 MB 222.3 kB/s eta 0:00:05\n",
      "   --------------------------- ------------ 2.0/2.9 MB 224.2 kB/s eta 0:00:04\n",
      "   ---------------------------- ----------- 2.1/2.9 MB 229.0 kB/s eta 0:00:04\n",
      "   ----------------------------- ---------- 2.1/2.9 MB 232.7 kB/s eta 0:00:04\n",
      "   ----------------------------- ---------- 2.2/2.9 MB 237.1 kB/s eta 0:00:04\n",
      "   ------------------------------ --------- 2.2/2.9 MB 241.0 kB/s eta 0:00:03\n",
      "   ------------------------------- -------- 2.3/2.9 MB 244.2 kB/s eta 0:00:03\n",
      "   ------------------------------- -------- 2.3/2.9 MB 248.1 kB/s eta 0:00:03\n",
      "   -------------------------------- ------- 2.4/2.9 MB 254.5 kB/s eta 0:00:03\n",
      "   --------------------------------- ------ 2.5/2.9 MB 259.3 kB/s eta 0:00:02\n",
      "   ---------------------------------- ----- 2.5/2.9 MB 263.4 kB/s eta 0:00:02\n",
      "   ----------------------------------- ---- 2.6/2.9 MB 268.6 kB/s eta 0:00:02\n",
      "   ------------------------------------ --- 2.7/2.9 MB 277.0 kB/s eta 0:00:01\n",
      "   ------------------------------------- -- 2.7/2.9 MB 280.0 kB/s eta 0:00:01\n",
      "   -------------------------------------- - 2.8/2.9 MB 286.6 kB/s eta 0:00:01\n",
      "   ---------------------------------------  2.9/2.9 MB 293.6 kB/s eta 0:00:01\n",
      "   ---------------------------------------- 2.9/2.9 MB 295.8 kB/s eta 0:00:00\n",
      "Installing collected packages: geomet, cassandra-driver\n",
      "Successfully installed cassandra-driver-3.28.0 geomet-0.2.1.post1\n"
     ]
    },
    {
     "name": "stderr",
     "output_type": "stream",
     "text": [
      "WARNING: Ignoring invalid distribution -umpy (f:\\ineuron ds\\internship\\ffp\\flight_fare_predictions\\venv\\lib\\site-packages)\n",
      "WARNING: Ignoring invalid distribution -umpy (f:\\ineuron ds\\internship\\ffp\\flight_fare_predictions\\venv\\lib\\site-packages)\n"
     ]
    }
   ],
   "source": [
    "!pip install cassandra-driver\n"
   ]
  },
  {
   "cell_type": "code",
   "execution_count": 29,
   "metadata": {},
   "outputs": [],
   "source": [
    "import cassandra"
   ]
  },
  {
   "cell_type": "code",
   "execution_count": 30,
   "metadata": {},
   "outputs": [
    {
     "name": "stdout",
     "output_type": "stream",
     "text": [
      "3.28.0\n"
     ]
    }
   ],
   "source": [
    "print (cassandra.__version__)"
   ]
  },
  {
   "cell_type": "code",
   "execution_count": 31,
   "metadata": {},
   "outputs": [],
   "source": [
    "!mkdir Flight_Fare_Dataset"
   ]
  },
  {
   "cell_type": "code",
   "execution_count": 32,
   "metadata": {},
   "outputs": [
    {
     "name": "stdout",
     "output_type": "stream",
     "text": [
      "f:\\Ineuron DS\\Internship\\FFP\\Flight_Fare_Predictions\\Flight_Fare_Dataset\n"
     ]
    }
   ],
   "source": [
    "cd Flight_Fare_Dataset"
   ]
  },
  {
   "cell_type": "code",
   "execution_count": 40,
   "metadata": {},
   "outputs": [
    {
     "name": "stderr",
     "output_type": "stream",
     "text": [
      "WARNING: Ignoring invalid distribution -umpy (f:\\ineuron ds\\internship\\ffp\\flight_fare_predictions\\venv\\lib\\site-packages)\n",
      "ERROR: Could not find a version that satisfies the requirement git (from versions: none)\n",
      "ERROR: No matching distribution found for git\n"
     ]
    }
   ],
   "source": [
    "!pip install git bash"
   ]
  },
  {
   "cell_type": "code",
   "execution_count": 4,
   "metadata": {},
   "outputs": [],
   "source": [
    "!echo.>connect_database.py\n"
   ]
  },
  {
   "cell_type": "code",
   "execution_count": 5,
   "metadata": {},
   "outputs": [
    {
     "name": "stdout",
     "output_type": "stream",
     "text": [
      "Requirement already satisfied: Flask in f:\\ineuron ds\\internship\\ffp\\flight_fare_predictions\\venv\\lib\\site-packages (2.3.2)\n",
      "Collecting flask-cors\n",
      "  Obtaining dependency information for flask-cors from https://files.pythonhosted.org/packages/10/69/1e6cfb87117568a9de088c32d6258219e9d1ff7c131abf74249ef2031279/Flask_Cors-4.0.0-py2.py3-none-any.whl.metadata\n",
      "  Downloading Flask_Cors-4.0.0-py2.py3-none-any.whl.metadata (5.4 kB)\n",
      "Requirement already satisfied: cassandra-driver in f:\\ineuron ds\\internship\\ffp\\flight_fare_predictions\\venv\\lib\\site-packages (3.28.0)\n",
      "Requirement already satisfied: Werkzeug>=2.3.3 in f:\\ineuron ds\\internship\\ffp\\flight_fare_predictions\\venv\\lib\\site-packages (from Flask) (2.3.6)\n",
      "Requirement already satisfied: Jinja2>=3.1.2 in f:\\ineuron ds\\internship\\ffp\\flight_fare_predictions\\venv\\lib\\site-packages (from Flask) (3.1.2)\n",
      "Requirement already satisfied: itsdangerous>=2.1.2 in f:\\ineuron ds\\internship\\ffp\\flight_fare_predictions\\venv\\lib\\site-packages (from Flask) (2.1.2)\n",
      "Requirement already satisfied: click>=8.1.3 in f:\\ineuron ds\\internship\\ffp\\flight_fare_predictions\\venv\\lib\\site-packages (from Flask) (8.1.6)\n",
      "Requirement already satisfied: blinker>=1.6.2 in f:\\ineuron ds\\internship\\ffp\\flight_fare_predictions\\venv\\lib\\site-packages (from Flask) (1.6.2)\n",
      "Requirement already satisfied: importlib-metadata>=3.6.0 in f:\\ineuron ds\\internship\\ffp\\flight_fare_predictions\\venv\\lib\\site-packages (from Flask) (6.8.0)\n",
      "Requirement already satisfied: six>=1.9 in f:\\ineuron ds\\internship\\ffp\\flight_fare_predictions\\venv\\lib\\site-packages (from cassandra-driver) (1.16.0)\n",
      "Requirement already satisfied: geomet<0.3,>=0.1 in f:\\ineuron ds\\internship\\ffp\\flight_fare_predictions\\venv\\lib\\site-packages (from cassandra-driver) (0.2.1.post1)\n",
      "Requirement already satisfied: colorama in f:\\ineuron ds\\internship\\ffp\\flight_fare_predictions\\venv\\lib\\site-packages (from click>=8.1.3->Flask) (0.4.6)\n",
      "Requirement already satisfied: zipp>=0.5 in f:\\ineuron ds\\internship\\ffp\\flight_fare_predictions\\venv\\lib\\site-packages (from importlib-metadata>=3.6.0->Flask) (3.16.2)\n",
      "Requirement already satisfied: MarkupSafe>=2.0 in f:\\ineuron ds\\internship\\ffp\\flight_fare_predictions\\venv\\lib\\site-packages (from Jinja2>=3.1.2->Flask) (2.1.3)\n",
      "Downloading Flask_Cors-4.0.0-py2.py3-none-any.whl (14 kB)\n",
      "Installing collected packages: flask-cors\n",
      "Successfully installed flask-cors-4.0.0\n"
     ]
    },
    {
     "name": "stderr",
     "output_type": "stream",
     "text": [
      "WARNING: Ignoring invalid distribution -umpy (f:\\ineuron ds\\internship\\ffp\\flight_fare_predictions\\venv\\lib\\site-packages)\n",
      "WARNING: Ignoring invalid distribution -umpy (f:\\ineuron ds\\internship\\ffp\\flight_fare_predictions\\venv\\lib\\site-packages)\n"
     ]
    }
   ],
   "source": [
    "!pip install Flask flask-cors cassandra-driver\n"
   ]
  },
  {
   "cell_type": "code",
   "execution_count": 6,
   "metadata": {},
   "outputs": [
    {
     "ename": "SyntaxError",
     "evalue": "invalid syntax (1388120224.py, line 1)",
     "output_type": "error",
     "traceback": [
      "\u001b[1;36m  Cell \u001b[1;32mIn[6], line 1\u001b[1;36m\u001b[0m\n\u001b[1;33m    FLASK_ENV=development FLASK_APP=connect_database.py flask run\u001b[0m\n\u001b[1;37m                          ^\u001b[0m\n\u001b[1;31mSyntaxError\u001b[0m\u001b[1;31m:\u001b[0m invalid syntax\n"
     ]
    }
   ],
   "source": [
    "FLASK_ENV=development\n",
    "FLASK_APP=connect_database.py flask run\n"
   ]
  },
  {
   "cell_type": "code",
   "execution_count": 7,
   "metadata": {},
   "outputs": [
    {
     "name": "stdout",
     "output_type": "stream",
     "text": [
      "Collecting pulsar-client\n",
      "  Obtaining dependency information for pulsar-client from https://files.pythonhosted.org/packages/16/41/916913948556521ee29c44a97d40b60df66dc0e6de09103552011663d10c/pulsar_client-3.2.0-cp39-cp39-win_amd64.whl.metadata\n",
      "  Downloading pulsar_client-3.2.0-cp39-cp39-win_amd64.whl.metadata (1.1 kB)\n",
      "Requirement already satisfied: certifi in f:\\ineuron ds\\internship\\ffp\\flight_fare_predictions\\venv\\lib\\site-packages (from pulsar-client) (2023.5.7)\n",
      "Downloading pulsar_client-3.2.0-cp39-cp39-win_amd64.whl (3.4 MB)\n",
      "   ---------------------------------------- 0.0/3.4 MB ? eta -:--:--\n",
      "   ---------------------------------------- 0.0/3.4 MB 1.4 MB/s eta 0:00:03\n",
      "   - -------------------------------------- 0.1/3.4 MB 939.4 kB/s eta 0:00:04\n",
      "   -- ------------------------------------- 0.2/3.4 MB 1.1 MB/s eta 0:00:03\n",
      "   -- ------------------------------------- 0.2/3.4 MB 1.2 MB/s eta 0:00:03\n",
      "   -- ------------------------------------- 0.2/3.4 MB 1.2 MB/s eta 0:00:03\n",
      "   ----- ---------------------------------- 0.5/3.4 MB 1.5 MB/s eta 0:00:02\n",
      "   ------ --------------------------------- 0.5/3.4 MB 1.3 MB/s eta 0:00:03\n",
      "   -------- ------------------------------- 0.7/3.4 MB 1.5 MB/s eta 0:00:02\n",
      "   --------- ------------------------------ 0.8/3.4 MB 1.6 MB/s eta 0:00:02\n",
      "   --------- ------------------------------ 0.8/3.4 MB 1.6 MB/s eta 0:00:02\n",
      "   ---------- ----------------------------- 0.9/3.4 MB 1.5 MB/s eta 0:00:02\n",
      "   ---------- ----------------------------- 0.9/3.4 MB 1.5 MB/s eta 0:00:02\n",
      "   ---------- ----------------------------- 0.9/3.4 MB 1.5 MB/s eta 0:00:02\n",
      "   ------------ --------------------------- 1.1/3.4 MB 1.5 MB/s eta 0:00:02\n",
      "   ------------ --------------------------- 1.1/3.4 MB 1.5 MB/s eta 0:00:02\n",
      "   ------------- -------------------------- 1.2/3.4 MB 1.4 MB/s eta 0:00:02\n",
      "   -------------- ------------------------- 1.2/3.4 MB 1.4 MB/s eta 0:00:02\n",
      "   -------------- ------------------------- 1.3/3.4 MB 1.4 MB/s eta 0:00:02\n",
      "   --------------- ------------------------ 1.3/3.4 MB 1.3 MB/s eta 0:00:02\n",
      "   ---------------- ----------------------- 1.4/3.4 MB 1.4 MB/s eta 0:00:02\n",
      "   ---------------- ----------------------- 1.4/3.4 MB 1.3 MB/s eta 0:00:02\n",
      "   ----------------- ---------------------- 1.5/3.4 MB 1.3 MB/s eta 0:00:02\n",
      "   ----------------- ---------------------- 1.5/3.4 MB 1.3 MB/s eta 0:00:02\n",
      "   ----------------- ---------------------- 1.5/3.4 MB 1.3 MB/s eta 0:00:02\n",
      "   ------------------- -------------------- 1.7/3.4 MB 1.3 MB/s eta 0:00:02\n",
      "   -------------------- ------------------- 1.7/3.4 MB 1.3 MB/s eta 0:00:02\n",
      "   --------------------- ------------------ 1.8/3.4 MB 1.3 MB/s eta 0:00:02\n",
      "   --------------------- ------------------ 1.8/3.4 MB 1.3 MB/s eta 0:00:02\n",
      "   --------------------- ------------------ 1.8/3.4 MB 1.3 MB/s eta 0:00:02\n",
      "   ----------------------- ---------------- 2.0/3.4 MB 1.3 MB/s eta 0:00:02\n",
      "   ----------------------- ---------------- 2.0/3.4 MB 1.3 MB/s eta 0:00:02\n",
      "   ------------------------ --------------- 2.1/3.4 MB 1.3 MB/s eta 0:00:01\n",
      "   -------------------------- ------------- 2.2/3.4 MB 1.3 MB/s eta 0:00:01\n",
      "   --------------------------- ------------ 2.3/3.4 MB 1.4 MB/s eta 0:00:01\n",
      "   ---------------------------- ----------- 2.4/3.4 MB 1.4 MB/s eta 0:00:01\n",
      "   ----------------------------- ---------- 2.5/3.4 MB 1.4 MB/s eta 0:00:01\n",
      "   ------------------------------ --------- 2.6/3.4 MB 1.4 MB/s eta 0:00:01\n",
      "   -------------------------------- ------- 2.7/3.4 MB 1.4 MB/s eta 0:00:01\n",
      "   --------------------------------- ------ 2.8/3.4 MB 1.4 MB/s eta 0:00:01\n",
      "   ---------------------------------- ----- 2.9/3.4 MB 1.5 MB/s eta 0:00:01\n",
      "   ----------------------------------- ---- 3.0/3.4 MB 1.5 MB/s eta 0:00:01\n",
      "   ----------------------------------- ---- 3.0/3.4 MB 1.5 MB/s eta 0:00:01\n",
      "   ------------------------------------- -- 3.2/3.4 MB 1.5 MB/s eta 0:00:01\n",
      "   ------------------------------------- -- 3.2/3.4 MB 1.5 MB/s eta 0:00:01\n",
      "   ---------------------------------------  3.3/3.4 MB 1.5 MB/s eta 0:00:01\n",
      "   ---------------------------------------  3.4/3.4 MB 1.5 MB/s eta 0:00:01\n",
      "   ---------------------------------------- 3.4/3.4 MB 1.5 MB/s eta 0:00:00\n",
      "Installing collected packages: pulsar-client\n",
      "Successfully installed pulsar-client-3.2.0\n"
     ]
    },
    {
     "name": "stderr",
     "output_type": "stream",
     "text": [
      "WARNING: Ignoring invalid distribution -umpy (f:\\ineuron ds\\internship\\ffp\\flight_fare_predictions\\venv\\lib\\site-packages)\n",
      "WARNING: Ignoring invalid distribution -umpy (f:\\ineuron ds\\internship\\ffp\\flight_fare_predictions\\venv\\lib\\site-packages)\n"
     ]
    }
   ],
   "source": [
    "!pip3 install pulsar-client\n",
    "import os\n",
    "import time\n",
    "import glob\n",
    "from pulsar import Client, Producer\n",
    "import csv"
   ]
  },
  {
   "cell_type": "code",
   "execution_count": 11,
   "metadata": {},
   "outputs": [
    {
     "ename": "InvalidTopicName",
     "evalue": "Pulsar error: InvalidTopicName",
     "output_type": "error",
     "traceback": [
      "\u001b[1;31m---------------------------------------------------------------------------\u001b[0m",
      "\u001b[1;31mInvalidTopicName\u001b[0m                          Traceback (most recent call last)",
      "Cell \u001b[1;32mIn[11], line 14\u001b[0m\n\u001b[0;32m     11\u001b[0m auth \u001b[39m=\u001b[39m AuthenticationToken(ASTRA_STREAMING_TOKEN)\n\u001b[0;32m     13\u001b[0m client \u001b[39m=\u001b[39m Client(ASTRA_STREAMING_SERVICE_URL, authentication\u001b[39m=\u001b[39mauth)\n\u001b[1;32m---> 14\u001b[0m producer \u001b[39m=\u001b[39m client\u001b[39m.\u001b[39;49mcreate_producer(PULSAR_TOPIC)\n\u001b[0;32m     16\u001b[0m \u001b[39mdef\u001b[39;00m \u001b[39msend_csv_to_pulsar\u001b[39m(file_path):\n\u001b[0;32m     17\u001b[0m     \u001b[39mwith\u001b[39;00m \u001b[39mopen\u001b[39m(file_path, \u001b[39m'\u001b[39m\u001b[39mr\u001b[39m\u001b[39m'\u001b[39m) \u001b[39mas\u001b[39;00m file:\n",
      "File \u001b[1;32mf:\\Ineuron DS\\Internship\\FFP\\Flight_Fare_Predictions\\venv\\lib\\site-packages\\pulsar\\__init__.py:668\u001b[0m, in \u001b[0;36mClient.create_producer\u001b[1;34m(self, topic, producer_name, schema, initial_sequence_id, send_timeout_millis, compression_type, max_pending_messages, max_pending_messages_across_partitions, block_if_queue_full, batching_enabled, batching_max_messages, batching_max_allowed_size_in_bytes, batching_max_publish_delay_ms, chunking_enabled, message_routing_mode, lazy_start_partitioned_producers, properties, batching_type, encryption_key, crypto_key_reader)\u001b[0m\n\u001b[0;32m    665\u001b[0m     \u001b[39mraise\u001b[39;00m \u001b[39mValueError\u001b[39;00m(\u001b[39m\"\u001b[39m\u001b[39mBatching and chunking of messages can\u001b[39m\u001b[39m'\u001b[39m\u001b[39mt be enabled together.\u001b[39m\u001b[39m\"\u001b[39m)\n\u001b[0;32m    667\u001b[0m p \u001b[39m=\u001b[39m Producer()\n\u001b[1;32m--> 668\u001b[0m p\u001b[39m.\u001b[39m_producer \u001b[39m=\u001b[39m \u001b[39mself\u001b[39;49m\u001b[39m.\u001b[39;49m_client\u001b[39m.\u001b[39;49mcreate_producer(topic, conf)\n\u001b[0;32m    669\u001b[0m p\u001b[39m.\u001b[39m_schema \u001b[39m=\u001b[39m schema\n\u001b[0;32m    670\u001b[0m p\u001b[39m.\u001b[39m_client \u001b[39m=\u001b[39m \u001b[39mself\u001b[39m\u001b[39m.\u001b[39m_client\n",
      "\u001b[1;31mInvalidTopicName\u001b[0m: Pulsar error: InvalidTopicName"
     ]
    }
   ],
   "source": [
    "POLLING_INTERVAL = 5  # Polling interval in seconds\n",
    "LOCAL_DIRECTORY = 'F:\\Ineuron DS\\Internship\\FFP\\Flight_Fare_Predictions\\Flight_Fare_Dataset'\n",
    "CSV_FILE_PATTERN = '*.csv'\n",
    "ASTRA_STREAMING_SERVICE_URL = 'pulsar+ssl://cluster.region.signalpath.astra.datastax.com:6651'\n",
    "ASTRA_STREAMING_TOKEN = '\"AstraCS:sdYaYcSuNdZGyehCcvzkaJWw:42e616abccf5e72d545684387b5e494406d144c7375f536cfc96210d3b3bd9c3\"'\n",
    "PULSAR_TOPIC = 'bin/pulsar-admin topics create-partitioned-topic apache/pulsar/test-topic -p 4'\n",
    "\n",
    "\n",
    "# Authentication using Astra Streaming token\n",
    "from pulsar import AuthenticationToken\n",
    "auth = AuthenticationToken(ASTRA_STREAMING_TOKEN)\n",
    "\n",
    "client = Client(ASTRA_STREAMING_SERVICE_URL, authentication=auth)\n",
    "producer = client.create_producer(PULSAR_TOPIC)\n",
    "\n",
    "def send_csv_to_pulsar(file_path):\n",
    "    with open(file_path, 'r') as file:\n",
    "        reader = csv.reader(file)\n",
    "        for row in reader:\n",
    "            csv_line = ','.join(row)\n",
    "            producer.send(csv_line.encode('utf-8'))\n",
    "            print(f'Sent line: {csv_line} to Pulsar topic: {PULSAR_TOPIC}')\n",
    "\n",
    "\n",
    "def main():\n",
    "    while True:\n",
    "        csv_files = glob.glob(os.path.join(LOCAL_DIRECTORY, CSV_FILE_PATTERN))\n",
    "        for file_path in csv_files:\n",
    "            send_csv_to_pulsar(file_path)\n",
    "            os.remove(file_path)  # Remove the file after sending to avoid processing it again\n",
    "        time.sleep(POLLING_INTERVAL)"
   ]
  },
  {
   "cell_type": "code",
   "execution_count": 10,
   "metadata": {},
   "outputs": [
    {
     "name": "stderr",
     "output_type": "stream",
     "text": [
      "'bin' is not recognized as an internal or external command,\n",
      "operable program or batch file.\n"
     ]
    }
   ],
   "source": [
    "!bin/pulsar-admin topics create-partitioned-topic apache/pulsar/test-topic -p 4"
   ]
  },
  {
   "cell_type": "code",
   "execution_count": null,
   "metadata": {},
   "outputs": [],
   "source": []
  },
  {
   "cell_type": "code",
   "execution_count": null,
   "metadata": {},
   "outputs": [],
   "source": []
  },
  {
   "cell_type": "code",
   "execution_count": null,
   "metadata": {},
   "outputs": [],
   "source": []
  },
  {
   "cell_type": "code",
   "execution_count": null,
   "metadata": {},
   "outputs": [],
   "source": []
  },
  {
   "cell_type": "code",
   "execution_count": 58,
   "metadata": {},
   "outputs": [
    {
     "name": "stdout",
     "output_type": "stream",
     "text": [
      "4.0.0.6816\n"
     ]
    }
   ],
   "source": [
    "from cassandra.cluster import Cluster\n",
    "from cassandra.auth import PlainTextAuthProvider\n",
    "\n",
    "cloud_config= {'secure_connect_bundle': r'C:\\Users\\HP-LAPTOP\\Downloads\\secure-connect-flight-fare.zip'}\n",
    "auth_provider = PlainTextAuthProvider('FidRdxHUPYnyAPYZvbFTtuKm', \"NfIoNH8zyuKRLWI4Cn82pJNZEy7KlGt5,qPobB2SC._yHl6,pCRlPmPgZlLtKXmCrB47IM3QcuZBj5XNxPZgKDrvtoEsgzlyAY1vUc0.ZPchc_C0elKsnmH739wWaxyi\")\n",
    "cluster = Cluster(cloud=cloud_config, auth_provider=auth_provider)\n",
    "session = cluster.connect()\n",
    "\n",
    "row = session.execute(\"select release_version from system.local\").one()\n",
    "if row:\n",
    "  print(row[0])\n",
    "else:\n",
    "  print(\"An error occurred.\")"
   ]
  },
  {
   "cell_type": "code",
   "execution_count": 64,
   "metadata": {},
   "outputs": [],
   "source": [
    "row = session.execute(\"use predict\").one()"
   ]
  },
  {
   "cell_type": "code",
   "execution_count": 65,
   "metadata": {},
   "outputs": [],
   "source": [
    "row = session.execute(\"SELECT * FROM train;\")"
   ]
  },
  {
   "cell_type": "code",
   "execution_count": 66,
   "metadata": {},
   "outputs": [],
   "source": [
    "x = row.all()"
   ]
  },
  {
   "cell_type": "code",
   "execution_count": 72,
   "metadata": {},
   "outputs": [],
   "source": [
    "import pandas as pd\n",
    "\n",
    "df = pd.DataFrame([d for d in x])"
   ]
  },
  {
   "cell_type": "code",
   "execution_count": 73,
   "metadata": {},
   "outputs": [
    {
     "data": {
      "text/html": [
       "<div>\n",
       "<style scoped>\n",
       "    .dataframe tbody tr th:only-of-type {\n",
       "        vertical-align: middle;\n",
       "    }\n",
       "\n",
       "    .dataframe tbody tr th {\n",
       "        vertical-align: top;\n",
       "    }\n",
       "\n",
       "    .dataframe thead th {\n",
       "        text-align: right;\n",
       "    }\n",
       "</style>\n",
       "<table border=\"1\" class=\"dataframe\">\n",
       "  <thead>\n",
       "    <tr style=\"text-align: right;\">\n",
       "      <th></th>\n",
       "      <th>Route</th>\n",
       "      <th>Arrival_Time</th>\n",
       "      <th>Dep_Time</th>\n",
       "      <th>Destination</th>\n",
       "      <th>Source</th>\n",
       "      <th>Airline</th>\n",
       "      <th>Date_of_Journey</th>\n",
       "      <th>Duration</th>\n",
       "      <th>Total_Stops</th>\n",
       "      <th>Price</th>\n",
       "      <th>Additional_Info</th>\n",
       "    </tr>\n",
       "  </thead>\n",
       "  <tbody>\n",
       "    <tr>\n",
       "      <th>0</th>\n",
       "      <td>CCU → BOM → HBX → BLR</td>\n",
       "      <td>17:20 16 May</td>\n",
       "      <td>09:25</td>\n",
       "      <td>Banglore</td>\n",
       "      <td>Kolkata</td>\n",
       "      <td>Air India</td>\n",
       "      <td>15/05/2019</td>\n",
       "      <td>31h 55m</td>\n",
       "      <td>2 stops</td>\n",
       "      <td>13616</td>\n",
       "      <td>No info</td>\n",
       "    </tr>\n",
       "    <tr>\n",
       "      <th>1</th>\n",
       "      <td>CCU → BOM → HBX → BLR</td>\n",
       "      <td>17:20 19 May</td>\n",
       "      <td>09:25</td>\n",
       "      <td>Banglore</td>\n",
       "      <td>Kolkata</td>\n",
       "      <td>Air India</td>\n",
       "      <td>18/05/2019</td>\n",
       "      <td>31h 55m</td>\n",
       "      <td>2 stops</td>\n",
       "      <td>13616</td>\n",
       "      <td>No info</td>\n",
       "    </tr>\n",
       "    <tr>\n",
       "      <th>2</th>\n",
       "      <td>CCU → BOM → HBX → BLR</td>\n",
       "      <td>18:20</td>\n",
       "      <td>09:25</td>\n",
       "      <td>Banglore</td>\n",
       "      <td>Kolkata</td>\n",
       "      <td>Air India</td>\n",
       "      <td>1/05/2019</td>\n",
       "      <td>8h 55m</td>\n",
       "      <td>2 stops</td>\n",
       "      <td>8366</td>\n",
       "      <td>No info</td>\n",
       "    </tr>\n",
       "    <tr>\n",
       "      <th>3</th>\n",
       "      <td>CCU → BOM → HBX → BLR</td>\n",
       "      <td>18:20</td>\n",
       "      <td>09:25</td>\n",
       "      <td>Banglore</td>\n",
       "      <td>Kolkata</td>\n",
       "      <td>Air India</td>\n",
       "      <td>15/05/2019</td>\n",
       "      <td>8h 55m</td>\n",
       "      <td>2 stops</td>\n",
       "      <td>8366</td>\n",
       "      <td>No info</td>\n",
       "    </tr>\n",
       "    <tr>\n",
       "      <th>4</th>\n",
       "      <td>CCU → BOM → HBX → BLR</td>\n",
       "      <td>18:20</td>\n",
       "      <td>09:25</td>\n",
       "      <td>Banglore</td>\n",
       "      <td>Kolkata</td>\n",
       "      <td>Air India</td>\n",
       "      <td>18/05/2019</td>\n",
       "      <td>8h 55m</td>\n",
       "      <td>2 stops</td>\n",
       "      <td>8366</td>\n",
       "      <td>No info</td>\n",
       "    </tr>\n",
       "    <tr>\n",
       "      <th>...</th>\n",
       "      <td>...</td>\n",
       "      <td>...</td>\n",
       "      <td>...</td>\n",
       "      <td>...</td>\n",
       "      <td>...</td>\n",
       "      <td>...</td>\n",
       "      <td>...</td>\n",
       "      <td>...</td>\n",
       "      <td>...</td>\n",
       "      <td>...</td>\n",
       "      <td>...</td>\n",
       "    </tr>\n",
       "    <tr>\n",
       "      <th>10457</th>\n",
       "      <td>DEL → MAA → COK</td>\n",
       "      <td>22:05</td>\n",
       "      <td>15:45</td>\n",
       "      <td>Cochin</td>\n",
       "      <td>Delhi</td>\n",
       "      <td>SpiceJet</td>\n",
       "      <td>24/06/2019</td>\n",
       "      <td>6h 20m</td>\n",
       "      <td>1 stop</td>\n",
       "      <td>5583</td>\n",
       "      <td>No info</td>\n",
       "    </tr>\n",
       "    <tr>\n",
       "      <th>10458</th>\n",
       "      <td>DEL → MAA → COK</td>\n",
       "      <td>22:05</td>\n",
       "      <td>15:45</td>\n",
       "      <td>Cochin</td>\n",
       "      <td>Delhi</td>\n",
       "      <td>SpiceJet</td>\n",
       "      <td>6/06/2019</td>\n",
       "      <td>6h 20m</td>\n",
       "      <td>1 stop</td>\n",
       "      <td>5583</td>\n",
       "      <td>No info</td>\n",
       "    </tr>\n",
       "    <tr>\n",
       "      <th>10459</th>\n",
       "      <td>DEL → MAA → COK</td>\n",
       "      <td>22:05</td>\n",
       "      <td>15:45</td>\n",
       "      <td>Cochin</td>\n",
       "      <td>Delhi</td>\n",
       "      <td>SpiceJet</td>\n",
       "      <td>9/06/2019</td>\n",
       "      <td>6h 20m</td>\n",
       "      <td>1 stop</td>\n",
       "      <td>6297</td>\n",
       "      <td>No info</td>\n",
       "    </tr>\n",
       "    <tr>\n",
       "      <th>10460</th>\n",
       "      <td>BLR → STV → DEL</td>\n",
       "      <td>15:25</td>\n",
       "      <td>11:20</td>\n",
       "      <td>New Delhi</td>\n",
       "      <td>Banglore</td>\n",
       "      <td>IndiGo</td>\n",
       "      <td>09/03/2019</td>\n",
       "      <td>4h 5m</td>\n",
       "      <td>1 stop</td>\n",
       "      <td>5746</td>\n",
       "      <td>No info</td>\n",
       "    </tr>\n",
       "    <tr>\n",
       "      <th>10461</th>\n",
       "      <td>BLR → STV → DEL</td>\n",
       "      <td>15:25</td>\n",
       "      <td>11:20</td>\n",
       "      <td>New Delhi</td>\n",
       "      <td>Banglore</td>\n",
       "      <td>IndiGo</td>\n",
       "      <td>21/03/2019</td>\n",
       "      <td>4h 5m</td>\n",
       "      <td>1 stop</td>\n",
       "      <td>5746</td>\n",
       "      <td>No info</td>\n",
       "    </tr>\n",
       "  </tbody>\n",
       "</table>\n",
       "<p>10462 rows × 11 columns</p>\n",
       "</div>"
      ],
      "text/plain": [
       "                       Route  Arrival_Time Dep_Time Destination    Source  \\\n",
       "0      CCU → BOM → HBX → BLR  17:20 16 May    09:25    Banglore   Kolkata   \n",
       "1      CCU → BOM → HBX → BLR  17:20 19 May    09:25    Banglore   Kolkata   \n",
       "2      CCU → BOM → HBX → BLR         18:20    09:25    Banglore   Kolkata   \n",
       "3      CCU → BOM → HBX → BLR         18:20    09:25    Banglore   Kolkata   \n",
       "4      CCU → BOM → HBX → BLR         18:20    09:25    Banglore   Kolkata   \n",
       "...                      ...           ...      ...         ...       ...   \n",
       "10457        DEL → MAA → COK         22:05    15:45      Cochin     Delhi   \n",
       "10458        DEL → MAA → COK         22:05    15:45      Cochin     Delhi   \n",
       "10459        DEL → MAA → COK         22:05    15:45      Cochin     Delhi   \n",
       "10460        BLR → STV → DEL         15:25    11:20   New Delhi  Banglore   \n",
       "10461        BLR → STV → DEL         15:25    11:20   New Delhi  Banglore   \n",
       "\n",
       "         Airline Date_of_Journey Duration Total_Stops  Price Additional_Info  \n",
       "0      Air India      15/05/2019  31h 55m     2 stops  13616         No info  \n",
       "1      Air India      18/05/2019  31h 55m     2 stops  13616         No info  \n",
       "2      Air India       1/05/2019   8h 55m     2 stops   8366         No info  \n",
       "3      Air India      15/05/2019   8h 55m     2 stops   8366         No info  \n",
       "4      Air India      18/05/2019   8h 55m     2 stops   8366         No info  \n",
       "...          ...             ...      ...         ...    ...             ...  \n",
       "10457   SpiceJet      24/06/2019   6h 20m      1 stop   5583         No info  \n",
       "10458   SpiceJet       6/06/2019   6h 20m      1 stop   5583         No info  \n",
       "10459   SpiceJet       9/06/2019   6h 20m      1 stop   6297         No info  \n",
       "10460     IndiGo      09/03/2019    4h 5m      1 stop   5746         No info  \n",
       "10461     IndiGo      21/03/2019    4h 5m      1 stop   5746         No info  \n",
       "\n",
       "[10462 rows x 11 columns]"
      ]
     },
     "execution_count": 73,
     "metadata": {},
     "output_type": "execute_result"
    }
   ],
   "source": [
    "df"
   ]
  },
  {
   "cell_type": "code",
   "execution_count": 3,
   "metadata": {},
   "outputs": [],
   "source": [
    "import os"
   ]
  },
  {
   "cell_type": "code",
   "execution_count": 5,
   "metadata": {},
   "outputs": [],
   "source": [
    "basename = 'Accuracy.yaml'\n",
    "acc_file_path = os.path.join(ROOT_DIR,'Accuracy',basename)\n",
    "metric = {'model_accuracy':'model_accuracy'}\n",
    "\n",
    "os.makedirs(os.path.dirname(acc_file_path),exist_ok=True)\n",
    "write_yaml_file(acc_file_path,metric)\n",
    "index_number = 0"
   ]
  },
  {
   "cell_type": "code",
   "execution_count": 6,
   "metadata": {},
   "outputs": [],
   "source": [
    "acc_file_path = os.path.join(ROOT_DIR,'Accuracy','Accuracy.yaml')\n",
    "acc = read_yaml_file(acc_file_path)\n",
    "accuracy = acc['model_accuracy']"
   ]
  },
  {
   "cell_type": "code",
   "execution_count": 7,
   "metadata": {},
   "outputs": [
    {
     "data": {
      "text/plain": [
       "0.6203448858737616"
      ]
     },
     "execution_count": 7,
     "metadata": {},
     "output_type": "execute_result"
    }
   ],
   "source": [
    "accuracy"
   ]
  },
  {
   "cell_type": "code",
   "execution_count": 1,
   "metadata": {},
   "outputs": [],
   "source": [
    "import uuid\n",
    "\n",
    "\n",
    "experiment_id = str(uuid.uuid4())"
   ]
  },
  {
   "cell_type": "code",
   "execution_count": 5,
   "metadata": {},
   "outputs": [
    {
     "name": "stdout",
     "output_type": "stream",
     "text": [
      "y\n"
     ]
    }
   ],
   "source": [
    "if  experiment_id is not None:\n",
    "    print(\"y\")"
   ]
  },
  {
   "cell_type": "code",
   "execution_count": 1,
   "metadata": {},
   "outputs": [
    {
     "name": "stderr",
     "output_type": "stream",
     "text": [
      "f:\\Ineuron DS\\Internship\\FFP\\Flight_Fare_Predictions\\venv\\lib\\site-packages\\numpy\\_distributor_init.py:30: UserWarning: loaded more than 1 DLL from .libs:\n",
      "f:\\Ineuron DS\\Internship\\FFP\\Flight_Fare_Predictions\\venv\\lib\\site-packages\\numpy\\.libs\\libopenblas.FB5AE2TYXYH2IJRDKGDGQ3XBKLKTF43H.gfortran-win_amd64.dll\n",
      "f:\\Ineuron DS\\Internship\\FFP\\Flight_Fare_Predictions\\venv\\lib\\site-packages\\numpy\\.libs\\libopenblas64__v0.3.21-gcc_10_3_0.dll\n",
      "  warnings.warn(\"loaded more than 1 DLL from .libs:\"\n",
      "f:\\Ineuron DS\\Internship\\FFP\\Flight_Fare_Predictions\\venv\\lib\\site-packages\\_distutils_hack\\__init__.py:33: UserWarning: Setuptools is replacing distutils.\n",
      "  warnings.warn(\"Setuptools is replacing distutils.\")\n"
     ]
    }
   ],
   "source": [
    "from Flight_Fare.entity.Flight_Fare_Predictor import Flight_Data,FarePredictor\n",
    "\n",
    "import sys\n",
    "\n",
    "import pip\n",
    "from Flight_Fare.util.util import read_yaml_file, write_yaml_file\n",
    "from Flight_Fare.logger import logging\n",
    "from Flight_Fare.exception import CustomException\n",
    "import os, sys\n",
    "import json\n",
    "from Flight_Fare.config.configuration import Configuration\n",
    "from Flight_Fare.constant import CONFIG_DIR, CURRENT_TIME_STAMP\n",
    "from Flight_Fare.pipeline.pipeline import Pipeline\n",
    "\n",
    "\n",
    "ROOT_DIR = os.getcwd()\n",
    "LOG_FOLDER_NAME = \"logs\"\n",
    "PIPELINE_FOLDER_NAME = \"Flight_Fare\"\n",
    "SAVED_MODELS_DIR_NAME = \"saved_models\"\n",
    "LOG_DIR = os.path.join(ROOT_DIR, LOG_FOLDER_NAME)\n",
    "PIPELINE_DIR = os.path.join(ROOT_DIR, PIPELINE_FOLDER_NAME)\n",
    "MODEL_DIR = os.path.join(ROOT_DIR, SAVED_MODELS_DIR_NAME)"
   ]
  },
  {
   "cell_type": "code",
   "execution_count": 3,
   "metadata": {},
   "outputs": [],
   "source": [
    "lat = os.listdir(MODEL_DIR)[-1]\n",
    "latest = os.path.join(MODEL_DIR,lat)"
   ]
  },
  {
   "cell_type": "code",
   "execution_count": 30,
   "metadata": {},
   "outputs": [
    {
     "data": {
      "text/plain": [
       "'model.pkl'"
      ]
     },
     "execution_count": 30,
     "metadata": {},
     "output_type": "execute_result"
    }
   ],
   "source": [
    "os.listdir(latest)[0]"
   ]
  },
  {
   "cell_type": "code",
   "execution_count": 28,
   "metadata": {},
   "outputs": [
    {
     "data": {
      "text/plain": [
       "'f:\\\\Ineuron DS\\\\Internship\\\\FFP\\\\Flight_Fare_Predictions\\\\saved_models\\\\2023-08-02-19-04-335'"
      ]
     },
     "execution_count": 28,
     "metadata": {},
     "output_type": "execute_result"
    }
   ],
   "source": [
    "latest"
   ]
  },
  {
   "cell_type": "code",
   "execution_count": 45,
   "metadata": {},
   "outputs": [],
   "source": [
    "folder_name = os.listdir(MODEL_DIR)[-1]\n",
    "latest_folder_dir = os.path.join(MODEL_DIR,folder_name)\n",
    "folder_name = os.listdir(latest_folder_dir)[0]\n",
    "latest_folder_dir = os.path.join(latest_folder_dir, folder_name)\n",
    "file_name = os.listdir(latest_folder_dir)[0]\n",
    "latest_model_path = os.path.join(latest_folder_dir,file_name)"
   ]
  },
  {
   "cell_type": "code",
   "execution_count": 47,
   "metadata": {},
   "outputs": [
    {
     "ename": "NameError",
     "evalue": "name 'x' is not defined",
     "output_type": "error",
     "traceback": [
      "\u001b[1;31m---------------------------------------------------------------------------\u001b[0m",
      "\u001b[1;31mNameError\u001b[0m                                 Traceback (most recent call last)",
      "Cell \u001b[1;32mIn[47], line 2\u001b[0m\n\u001b[0;32m      1\u001b[0m \u001b[39mwith\u001b[39;00m \u001b[39mopen\u001b[39m (latest_model_path,\u001b[39m'\u001b[39m\u001b[39mr\u001b[39m\u001b[39m'\u001b[39m) \u001b[39mas\u001b[39;00m file:\n\u001b[1;32m----> 2\u001b[0m     \u001b[39mprint\u001b[39m(x)\n",
      "\u001b[1;31mNameError\u001b[0m: name 'x' is not defined"
     ]
    }
   ],
   "source": [
    "with open (latest_model_path,'r') as file:\n",
    "    print(x)"
   ]
  },
  {
   "cell_type": "code",
   "execution_count": 8,
   "metadata": {},
   "outputs": [
    {
     "ename": "NameError",
     "evalue": "name 'x' is not defined",
     "output_type": "error",
     "traceback": [
      "\u001b[1;31m---------------------------------------------------------------------------\u001b[0m",
      "\u001b[1;31mNameError\u001b[0m                                 Traceback (most recent call last)",
      "Cell \u001b[1;32mIn[8], line 2\u001b[0m\n\u001b[0;32m      1\u001b[0m \u001b[39mwith\u001b[39;00m \u001b[39mopen\u001b[39m(\u001b[39mr\u001b[39m\u001b[39m\"\u001b[39m\u001b[39mF:\u001b[39m\u001b[39m\\\u001b[39m\u001b[39mIneuron DS\u001b[39m\u001b[39m\\\u001b[39m\u001b[39mInternship\u001b[39m\u001b[39m\\\u001b[39m\u001b[39mFFP\u001b[39m\u001b[39m\\\u001b[39m\u001b[39mFlight_Fare_Predictions\u001b[39m\u001b[39m\\\u001b[39m\u001b[39msaved_models\u001b[39m\u001b[39m\\\u001b[39m\u001b[39m2023-08-02-19-04-33\u001b[39m\u001b[39m\\\u001b[39m\u001b[39mmodel.pkl\u001b[39m\u001b[39m\\\u001b[39m\u001b[39mmodel.pkl\u001b[39m\u001b[39m\"\u001b[39m,\u001b[39m'\u001b[39m\u001b[39mw\u001b[39m\u001b[39m'\u001b[39m) \u001b[39mas\u001b[39;00m file:\n\u001b[1;32m----> 2\u001b[0m     \u001b[39mprint\u001b[39m(x)\n",
      "\u001b[1;31mNameError\u001b[0m: name 'x' is not defined"
     ]
    }
   ],
   "source": [
    "F:\\Ineuron DS\\Internship\\FFP\\Flight_Fare_Predictions\\saved_models\\2023-08-02-22-58-47\\model\\model.pkl"
   ]
  },
  {
   "cell_type": "code",
   "execution_count": null,
   "metadata": {},
   "outputs": [],
   "source": [
    "F:\\Ineuron DS\\Internship\\FFP\\Flight_Fare_Predictions\\saved_models\\2023-08-02-19-04-33\\model.pkl\\model.pkl"
   ]
  },
  {
   "cell_type": "code",
   "execution_count": 9,
   "metadata": {},
   "outputs": [
    {
     "data": {
      "text/plain": [
       "'f:\\\\Ineuron DS\\\\Internship\\\\FFP\\\\Flight_Fare_Predictions\\\\saved_models\\\\2023-08-02-19-04-33\\\\model.pkl'"
      ]
     },
     "execution_count": 9,
     "metadata": {},
     "output_type": "execute_result"
    }
   ],
   "source": [
    "latest_model_path"
   ]
  },
  {
   "cell_type": "code",
   "execution_count": 11,
   "metadata": {},
   "outputs": [],
   "source": [
    "import os\n",
    "import sys\n",
    "from Flight_Fare.exception import CustomException\n",
    "from Flight_Fare.logger import logging\n",
    "\n",
    "from Flight_Fare.config.configuration import Configuration\n",
    "from Flight_Fare.entity.artifact_entity import *\n",
    "from Flight_Fare.entity.config_entity import *\n",
    "from Flight_Fare.constant import *\n",
    "from Flight_Fare.util.util import *"
   ]
  },
  {
   "cell_type": "code",
   "execution_count": 25,
   "metadata": {},
   "outputs": [],
   "source": [
    "config = Configuration(CONFIG_FILE_PATH,CURRENT_TIME_STAMP)\n",
    "\n",
    "evaluated_model_path = config.get_model_trainer_config().trained_model_file_path\n",
    "export_dir = config.get_model_pusher_config().export_dir_path\n",
    "model_file_name = os.path.basename(evaluated_model_path)\n",
    "model_file_name = model_file_name.split(\".\")[0]\n",
    "export_model_file_path = os.path.join(export_dir,model_file_name)"
   ]
  },
  {
   "cell_type": "code",
   "execution_count": 24,
   "metadata": {},
   "outputs": [
    {
     "data": {
      "text/plain": [
       "'model'"
      ]
     },
     "execution_count": 24,
     "metadata": {},
     "output_type": "execute_result"
    }
   ],
   "source": [
    "model_file_name.split(\".\")[0]"
   ]
  },
  {
   "cell_type": "code",
   "execution_count": 26,
   "metadata": {},
   "outputs": [
    {
     "data": {
      "text/plain": [
       "'f:\\\\Ineuron DS\\\\Internship\\\\FFP\\\\Flight_Fare_Predictions\\\\saved_models\\\\2023-08-02-22-37-32\\\\model'"
      ]
     },
     "execution_count": 26,
     "metadata": {},
     "output_type": "execute_result"
    }
   ],
   "source": [
    "export_model_file_path"
   ]
  },
  {
   "cell_type": "code",
   "execution_count": 50,
   "metadata": {},
   "outputs": [],
   "source": [
    "import pandas as pd\n",
    "df = pd.read_excel(r\"F:\\Ineuron DS\\Internship\\Flight Fare Predicitons\\notebook\\Data_Train.xlsx\")"
   ]
  },
  {
   "cell_type": "code",
   "execution_count": null,
   "metadata": {},
   "outputs": [],
   "source": [
    "df"
   ]
  },
  {
   "cell_type": "code",
   "execution_count": null,
   "metadata": {},
   "outputs": [],
   "source": []
  }
 ],
 "metadata": {
  "kernelspec": {
   "display_name": "Python 3",
   "language": "python",
   "name": "python3"
  },
  "language_info": {
   "codemirror_mode": {
    "name": "ipython",
    "version": 3
   },
   "file_extension": ".py",
   "mimetype": "text/x-python",
   "name": "python",
   "nbconvert_exporter": "python",
   "pygments_lexer": "ipython3",
   "version": "3.9.0"
  },
  "orig_nbformat": 4
 },
 "nbformat": 4,
 "nbformat_minor": 2
}
